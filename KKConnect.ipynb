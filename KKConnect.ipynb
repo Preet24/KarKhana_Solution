{
 "cells": [
  {
   "cell_type": "code",
   "execution_count": 1,
   "id": "688bc45c-09a2-4db4-8579-b42775fde225",
   "metadata": {},
   "outputs": [],
   "source": [
    "import pandas as pd\n",
    "import numpy as np\n",
    "import nltk\n",
    "import selenium\n",
    "from selenium import webdriver\n",
    "from selenium.webdriver.common.by import By\n",
    "from webdriver_manager.chrome import ChromeDriverManager\n",
    "from selenium.webdriver.chrome.service import Service\n",
    "import regex as re\n",
    "from selenium.webdriver.common.by import By\n",
    "import warnings\n",
    "import time\n",
    "from tqdm.notebook import tqdm\n",
    "warnings.filterwarnings(\"ignore\")"
   ]
  },
  {
   "cell_type": "code",
   "execution_count": null,
   "id": "bfa655fc-71aa-41d3-9b6b-197034939c32",
   "metadata": {},
   "outputs": [],
   "source": []
  },
  {
   "cell_type": "code",
   "execution_count": null,
   "id": "d0162b07-a2ed-4292-9e42-98aa4f54d223",
   "metadata": {},
   "outputs": [],
   "source": []
  },
  {
   "cell_type": "code",
   "execution_count": 9,
   "id": "192e6622-e50d-40a7-9c95-838d1b4d9d20",
   "metadata": {},
   "outputs": [
    {
     "name": "stdout",
     "output_type": "stream",
     "text": [
      "Shape: (125, 1) 125\n"
     ]
    },
    {
     "data": {
      "text/html": [
       "<div>\n",
       "<style scoped>\n",
       "    .dataframe tbody tr th:only-of-type {\n",
       "        vertical-align: middle;\n",
       "    }\n",
       "\n",
       "    .dataframe tbody tr th {\n",
       "        vertical-align: top;\n",
       "    }\n",
       "\n",
       "    .dataframe thead th {\n",
       "        text-align: right;\n",
       "    }\n",
       "</style>\n",
       "<table border=\"1\" class=\"dataframe\">\n",
       "  <thead>\n",
       "    <tr style=\"text-align: right;\">\n",
       "      <th></th>\n",
       "      <th>URL</th>\n",
       "    </tr>\n",
       "  </thead>\n",
       "  <tbody>\n",
       "    <tr>\n",
       "      <th>0</th>\n",
       "      <td>https://www.thomasnet.com/company/ferpa-precis...</td>\n",
       "    </tr>\n",
       "    <tr>\n",
       "      <th>1</th>\n",
       "      <td>https://www.thomasnet.com/company/ardel-engine...</td>\n",
       "    </tr>\n",
       "    <tr>\n",
       "      <th>2</th>\n",
       "      <td>https://www.thomasnet.com/company/turner-bello...</td>\n",
       "    </tr>\n",
       "    <tr>\n",
       "      <th>3</th>\n",
       "      <td>https://www.thomasnet.com/company/source-inter...</td>\n",
       "    </tr>\n",
       "    <tr>\n",
       "      <th>4</th>\n",
       "      <td>https://www.thomasnet.com/company/associated-f...</td>\n",
       "    </tr>\n",
       "  </tbody>\n",
       "</table>\n",
       "</div>"
      ],
      "text/plain": [
       "                                                 URL\n",
       "0  https://www.thomasnet.com/company/ferpa-precis...\n",
       "1  https://www.thomasnet.com/company/ardel-engine...\n",
       "2  https://www.thomasnet.com/company/turner-bello...\n",
       "3  https://www.thomasnet.com/company/source-inter...\n",
       "4  https://www.thomasnet.com/company/associated-f..."
      ]
     },
     "execution_count": 9,
     "metadata": {},
     "output_type": "execute_result"
    }
   ],
   "source": [
    "df=pd.DataFrame(columns=[\"URL\"])\n",
    "search_url = \"https://www.thomasnet.com/suppliers/usa/cnc-machining-45330503\"\n",
    "service = webdriver.ChromeService(executable_path = ChromeDriverManager().install())\n",
    "driver = webdriver.Chrome(service=service)\n",
    "driver.get(search_url)\n",
    "time.sleep(10)\n",
    "url=[]\n",
    "j=0\n",
    "for m in range(0,50):\n",
    "    time.sleep(5)\n",
    "    ele = driver.find_elements(By.XPATH,'//*[@target=\"_blank\"]')\n",
    "    #print(len(ele))\n",
    "    for i in ele:\n",
    "        #text_list.append(i.text)\n",
    "        #print(i.text)\n",
    "        #print(i.get_attribute(\"href\"))\n",
    "        u=i.get_attribute(\"href\")\n",
    "        if (('https://www.thomasnet.com/company/' in u)&(u not in url)):\n",
    "            #print(m,u)\n",
    "            url.append(u)\n",
    "            j+=1\n",
    "    driver.find_element(By.XPATH,'//*[@aria-label=\"Next Results Page\"]').click()\n",
    "    if j>=120:\n",
    "            break\n",
    "driver.quit()\n",
    "df[\"URL\"]=url\n",
    "print(\"Shape:\",df.shape,j)\n",
    "df.head()"
   ]
  },
  {
   "cell_type": "code",
   "execution_count": 10,
   "id": "b279b630-1d57-49a3-8195-70e6caaeb085",
   "metadata": {},
   "outputs": [
    {
     "data": {
      "text/html": [
       "<div>\n",
       "<style scoped>\n",
       "    .dataframe tbody tr th:only-of-type {\n",
       "        vertical-align: middle;\n",
       "    }\n",
       "\n",
       "    .dataframe tbody tr th {\n",
       "        vertical-align: top;\n",
       "    }\n",
       "\n",
       "    .dataframe thead th {\n",
       "        text-align: right;\n",
       "    }\n",
       "</style>\n",
       "<table border=\"1\" class=\"dataframe\">\n",
       "  <thead>\n",
       "    <tr style=\"text-align: right;\">\n",
       "      <th></th>\n",
       "      <th>URL</th>\n",
       "    </tr>\n",
       "  </thead>\n",
       "  <tbody>\n",
       "    <tr>\n",
       "      <th>120</th>\n",
       "      <td>https://www.thomasnet.com/company/dycast-speci...</td>\n",
       "    </tr>\n",
       "    <tr>\n",
       "      <th>121</th>\n",
       "      <td>https://www.thomasnet.com/company/g-j-steel-tu...</td>\n",
       "    </tr>\n",
       "    <tr>\n",
       "      <th>122</th>\n",
       "      <td>https://www.thomasnet.com/company/estes-design...</td>\n",
       "    </tr>\n",
       "    <tr>\n",
       "      <th>123</th>\n",
       "      <td>https://www.thomasnet.com/company/eps-1285610/...</td>\n",
       "    </tr>\n",
       "    <tr>\n",
       "      <th>124</th>\n",
       "      <td>https://www.thomasnet.com/company/swift-glass-...</td>\n",
       "    </tr>\n",
       "  </tbody>\n",
       "</table>\n",
       "</div>"
      ],
      "text/plain": [
       "                                                   URL\n",
       "120  https://www.thomasnet.com/company/dycast-speci...\n",
       "121  https://www.thomasnet.com/company/g-j-steel-tu...\n",
       "122  https://www.thomasnet.com/company/estes-design...\n",
       "123  https://www.thomasnet.com/company/eps-1285610/...\n",
       "124  https://www.thomasnet.com/company/swift-glass-..."
      ]
     },
     "execution_count": 10,
     "metadata": {},
     "output_type": "execute_result"
    }
   ],
   "source": [
    "df.tail()"
   ]
  },
  {
   "cell_type": "code",
   "execution_count": null,
   "id": "4734d446-6f50-49ae-bcf4-a22f1bb6ce98",
   "metadata": {},
   "outputs": [],
   "source": [
    "df.to_csv(\"KKConnect_data.csv\")"
   ]
  },
  {
   "cell_type": "code",
   "execution_count": 5,
   "id": "e4fc239c-2554-4681-ab4e-a78d5ff777c5",
   "metadata": {},
   "outputs": [
    {
     "data": {
      "text/html": [
       "<div>\n",
       "<style scoped>\n",
       "    .dataframe tbody tr th:only-of-type {\n",
       "        vertical-align: middle;\n",
       "    }\n",
       "\n",
       "    .dataframe tbody tr th {\n",
       "        vertical-align: top;\n",
       "    }\n",
       "\n",
       "    .dataframe thead th {\n",
       "        text-align: right;\n",
       "    }\n",
       "</style>\n",
       "<table border=\"1\" class=\"dataframe\">\n",
       "  <thead>\n",
       "    <tr style=\"text-align: right;\">\n",
       "      <th></th>\n",
       "      <th>URL</th>\n",
       "      <th>Name</th>\n",
       "      <th>Location</th>\n",
       "      <th>Text</th>\n",
       "    </tr>\n",
       "  </thead>\n",
       "  <tbody>\n",
       "    <tr>\n",
       "      <th>0</th>\n",
       "      <td>https://www.thomasnet.com/company/ferpa-precis...</td>\n",
       "      <td>Ferpa Precision Machine, Inc.</td>\n",
       "      <td>Houston, TX 77067</td>\n",
       "      <td>4-axis CNC precision machining services includ...</td>\n",
       "    </tr>\n",
       "    <tr>\n",
       "      <th>1</th>\n",
       "      <td>https://www.thomasnet.com/company/ardel-engine...</td>\n",
       "      <td>Ardel Engineering &amp; Manufacturing Co., Inc.</td>\n",
       "      <td>Minneapolis, MN 55428</td>\n",
       "      <td>Full service precision CNC machining services ...</td>\n",
       "    </tr>\n",
       "    <tr>\n",
       "      <th>2</th>\n",
       "      <td>https://www.thomasnet.com/company/turner-bello...</td>\n",
       "      <td>Turner Bellows, Inc.</td>\n",
       "      <td>Rochester, NY 14606</td>\n",
       "      <td>ISO 9001:2015 woman-owned and HubZone certifie...</td>\n",
       "    </tr>\n",
       "    <tr>\n",
       "      <th>3</th>\n",
       "      <td>https://www.thomasnet.com/company/source-inter...</td>\n",
       "      <td>Source International</td>\n",
       "      <td>Louisville, KY 40206</td>\n",
       "      <td>Custom precision 3-axis to 6-axis vertical and...</td>\n",
       "    </tr>\n",
       "    <tr>\n",
       "      <th>4</th>\n",
       "      <td>https://www.thomasnet.com/company/associated-f...</td>\n",
       "      <td>Associated Fastening Products, Inc.</td>\n",
       "      <td>Itasca, IL 60143</td>\n",
       "      <td>ISO 9001:2015 certified. CNC automatic screw m...</td>\n",
       "    </tr>\n",
       "  </tbody>\n",
       "</table>\n",
       "</div>"
      ],
      "text/plain": [
       "                                                 URL  \\\n",
       "0  https://www.thomasnet.com/company/ferpa-precis...   \n",
       "1  https://www.thomasnet.com/company/ardel-engine...   \n",
       "2  https://www.thomasnet.com/company/turner-bello...   \n",
       "3  https://www.thomasnet.com/company/source-inter...   \n",
       "4  https://www.thomasnet.com/company/associated-f...   \n",
       "\n",
       "                                          Name               Location  \\\n",
       "0                Ferpa Precision Machine, Inc.      Houston, TX 77067   \n",
       "1  Ardel Engineering & Manufacturing Co., Inc.  Minneapolis, MN 55428   \n",
       "2                         Turner Bellows, Inc.    Rochester, NY 14606   \n",
       "3                         Source International   Louisville, KY 40206   \n",
       "4          Associated Fastening Products, Inc.       Itasca, IL 60143   \n",
       "\n",
       "                                                Text  \n",
       "0  4-axis CNC precision machining services includ...  \n",
       "1  Full service precision CNC machining services ...  \n",
       "2  ISO 9001:2015 woman-owned and HubZone certifie...  \n",
       "3  Custom precision 3-axis to 6-axis vertical and...  \n",
       "4  ISO 9001:2015 certified. CNC automatic screw m...  "
      ]
     },
     "execution_count": 5,
     "metadata": {},
     "output_type": "execute_result"
    }
   ],
   "source": [
    "df=pd.read_csv('KKConnect_data.csv')\n",
    "df=df.drop(['Unnamed: 0'],axis=1)\n",
    "df.head()"
   ]
  },
  {
   "cell_type": "code",
   "execution_count": 11,
   "id": "f54c74f1-1806-4af5-8db3-fdf44dae6be7",
   "metadata": {},
   "outputs": [
    {
     "data": {
      "application/vnd.jupyter.widget-view+json": {
       "model_id": "bda94cd46ca6422191acd03cf7efe287",
       "version_major": 2,
       "version_minor": 0
      },
      "text/plain": [
       "  0%|          | 0/125 [00:00<?, ?it/s]"
      ]
     },
     "metadata": {},
     "output_type": "display_data"
    }
   ],
   "source": [
    "def get_basic_detials(driver:selenium.webdriver.chrome.webdriver.WebDriver):\n",
    "    Name = driver.find_element(By.XPATH,\"//*[@class='mar-0 txt-left pointer']\").text\n",
    "    Loc = driver.find_elements(By.XPATH,'//*[@class=\"sm:hide\"]')[2].text\n",
    "    return Name,Loc\n",
    "service = webdriver.ChromeService(executable_path = ChromeDriverManager().install())\n",
    "driver = webdriver.Chrome(service=service)\n",
    "name = []\n",
    "loc = []\n",
    "for i in tqdm(range(0,df.shape[0])):\n",
    "    url=df.loc[i,\"URL\"]\n",
    "    driver.get(url)\n",
    "    n,l=get_basic_detials(driver)\n",
    "    name.append(n)\n",
    "    loc.append(l)\n",
    "df['Name'] = name\n",
    "df['Location'] = loc\n",
    "driver.quit()"
   ]
  },
  {
   "cell_type": "code",
   "execution_count": 12,
   "id": "8f40bc70-0359-4370-aeae-d32c0aa1dd9c",
   "metadata": {},
   "outputs": [
    {
     "data": {
      "application/vnd.jupyter.widget-view+json": {
       "model_id": "fec633c97c7c4fec9d719935585ee3ea",
       "version_major": 2,
       "version_minor": 0
      },
      "text/plain": [
       "  0%|          | 0/125 [00:00<?, ?it/s]"
      ]
     },
     "metadata": {},
     "output_type": "display_data"
    }
   ],
   "source": [
    "service = webdriver.ChromeService(executable_path = ChromeDriverManager().install())\n",
    "driver = webdriver.Chrome(service=service)\n",
    "text = []\n",
    "for i in tqdm(range(0,df.shape[0])):\n",
    "    url=df.loc[i,\"URL\"]\n",
    "    driver.get(url)\n",
    "    ele = driver.find_elements(By.XPATH,'//*[@class=\"mar-t-0\"]')\n",
    "    if len(ele)>0:\n",
    "        text.append(ele[0].text)\n",
    "    else:\n",
    "        text.append(' ')\n",
    "df['Text'] = text\n",
    "driver.quit()"
   ]
  },
  {
   "cell_type": "code",
   "execution_count": 15,
   "id": "f6a8870a-2f47-4c3a-8064-29cf88497502",
   "metadata": {},
   "outputs": [
    {
     "data": {
      "text/html": [
       "<div>\n",
       "<style scoped>\n",
       "    .dataframe tbody tr th:only-of-type {\n",
       "        vertical-align: middle;\n",
       "    }\n",
       "\n",
       "    .dataframe tbody tr th {\n",
       "        vertical-align: top;\n",
       "    }\n",
       "\n",
       "    .dataframe thead th {\n",
       "        text-align: right;\n",
       "    }\n",
       "</style>\n",
       "<table border=\"1\" class=\"dataframe\">\n",
       "  <thead>\n",
       "    <tr style=\"text-align: right;\">\n",
       "      <th></th>\n",
       "      <th>URL</th>\n",
       "      <th>Name</th>\n",
       "      <th>Location</th>\n",
       "      <th>Text</th>\n",
       "    </tr>\n",
       "  </thead>\n",
       "  <tbody>\n",
       "    <tr>\n",
       "      <th>120</th>\n",
       "      <td>https://www.thomasnet.com/company/dycast-speci...</td>\n",
       "      <td>DyCast Specialties Corp.</td>\n",
       "      <td>Starbuck, MN 56381</td>\n",
       "      <td>CNC machining services for metal die castings....</td>\n",
       "    </tr>\n",
       "    <tr>\n",
       "      <th>121</th>\n",
       "      <td>https://www.thomasnet.com/company/g-j-steel-tu...</td>\n",
       "      <td>G &amp; J Steel &amp; Tubing, Inc.</td>\n",
       "      <td>Hillsborough, NJ 08844</td>\n",
       "      <td>4-axis precision CNC machining services for ap...</td>\n",
       "    </tr>\n",
       "    <tr>\n",
       "      <th>122</th>\n",
       "      <td>https://www.thomasnet.com/company/estes-design...</td>\n",
       "      <td>Estes Design &amp; Manufacturing, Inc.</td>\n",
       "      <td>Indianapolis, IN 46229</td>\n",
       "      <td>ISO 9001:2008 certified sheet metal fabricator...</td>\n",
       "    </tr>\n",
       "    <tr>\n",
       "      <th>123</th>\n",
       "      <td>https://www.thomasnet.com/company/eps-1285610/...</td>\n",
       "      <td>EPS</td>\n",
       "      <td>Alpharetta, GA 30004</td>\n",
       "      <td>ISO 9001:2015 certified. Precision CNC machini...</td>\n",
       "    </tr>\n",
       "    <tr>\n",
       "      <th>124</th>\n",
       "      <td>https://www.thomasnet.com/company/swift-glass-...</td>\n",
       "      <td>Swift Glass Company, Inc.</td>\n",
       "      <td>Elmira, NY 14902</td>\n",
       "      <td>Custom precision CNC machining of glass parts ...</td>\n",
       "    </tr>\n",
       "  </tbody>\n",
       "</table>\n",
       "</div>"
      ],
      "text/plain": [
       "                                                   URL  \\\n",
       "120  https://www.thomasnet.com/company/dycast-speci...   \n",
       "121  https://www.thomasnet.com/company/g-j-steel-tu...   \n",
       "122  https://www.thomasnet.com/company/estes-design...   \n",
       "123  https://www.thomasnet.com/company/eps-1285610/...   \n",
       "124  https://www.thomasnet.com/company/swift-glass-...   \n",
       "\n",
       "                                   Name                Location  \\\n",
       "120            DyCast Specialties Corp.      Starbuck, MN 56381   \n",
       "121          G & J Steel & Tubing, Inc.  Hillsborough, NJ 08844   \n",
       "122  Estes Design & Manufacturing, Inc.  Indianapolis, IN 46229   \n",
       "123                                 EPS    Alpharetta, GA 30004   \n",
       "124           Swift Glass Company, Inc.        Elmira, NY 14902   \n",
       "\n",
       "                                                  Text  \n",
       "120  CNC machining services for metal die castings....  \n",
       "121  4-axis precision CNC machining services for ap...  \n",
       "122  ISO 9001:2008 certified sheet metal fabricator...  \n",
       "123  ISO 9001:2015 certified. Precision CNC machini...  \n",
       "124  Custom precision CNC machining of glass parts ...  "
      ]
     },
     "execution_count": 15,
     "metadata": {},
     "output_type": "execute_result"
    }
   ],
   "source": [
    "df.tail()"
   ]
  },
  {
   "cell_type": "code",
   "execution_count": 16,
   "id": "cf51d9d1-4ffc-4904-9932-a57f8335d815",
   "metadata": {},
   "outputs": [
    {
     "data": {
      "text/html": [
       "<div>\n",
       "<style scoped>\n",
       "    .dataframe tbody tr th:only-of-type {\n",
       "        vertical-align: middle;\n",
       "    }\n",
       "\n",
       "    .dataframe tbody tr th {\n",
       "        vertical-align: top;\n",
       "    }\n",
       "\n",
       "    .dataframe thead th {\n",
       "        text-align: right;\n",
       "    }\n",
       "</style>\n",
       "<table border=\"1\" class=\"dataframe\">\n",
       "  <thead>\n",
       "    <tr style=\"text-align: right;\">\n",
       "      <th></th>\n",
       "      <th>URL</th>\n",
       "      <th>Name</th>\n",
       "      <th>Location</th>\n",
       "      <th>Text</th>\n",
       "    </tr>\n",
       "  </thead>\n",
       "  <tbody>\n",
       "    <tr>\n",
       "      <th>0</th>\n",
       "      <td>https://www.thomasnet.com/company/ferpa-precis...</td>\n",
       "      <td>Ferpa Precision Machine, Inc.</td>\n",
       "      <td>Houston, TX 77067</td>\n",
       "      <td>4-axis CNC precision machining services includ...</td>\n",
       "    </tr>\n",
       "    <tr>\n",
       "      <th>1</th>\n",
       "      <td>https://www.thomasnet.com/company/ardel-engine...</td>\n",
       "      <td>Ardel Engineering &amp; Manufacturing Co., Inc.</td>\n",
       "      <td>Minneapolis, MN 55428</td>\n",
       "      <td>Full service precision CNC machining services ...</td>\n",
       "    </tr>\n",
       "    <tr>\n",
       "      <th>2</th>\n",
       "      <td>https://www.thomasnet.com/company/turner-bello...</td>\n",
       "      <td>Turner Bellows, Inc.</td>\n",
       "      <td>Rochester, NY 14606</td>\n",
       "      <td>ISO 9001:2015 woman-owned and HubZone certifie...</td>\n",
       "    </tr>\n",
       "    <tr>\n",
       "      <th>3</th>\n",
       "      <td>https://www.thomasnet.com/company/source-inter...</td>\n",
       "      <td>Source International</td>\n",
       "      <td>Louisville, KY 40206</td>\n",
       "      <td>Custom precision 3-axis to 6-axis vertical and...</td>\n",
       "    </tr>\n",
       "    <tr>\n",
       "      <th>4</th>\n",
       "      <td>https://www.thomasnet.com/company/associated-f...</td>\n",
       "      <td>Associated Fastening Products, Inc.</td>\n",
       "      <td>Itasca, IL 60143</td>\n",
       "      <td>ISO 9001:2015 certified. CNC automatic screw m...</td>\n",
       "    </tr>\n",
       "  </tbody>\n",
       "</table>\n",
       "</div>"
      ],
      "text/plain": [
       "                                                 URL  \\\n",
       "0  https://www.thomasnet.com/company/ferpa-precis...   \n",
       "1  https://www.thomasnet.com/company/ardel-engine...   \n",
       "2  https://www.thomasnet.com/company/turner-bello...   \n",
       "3  https://www.thomasnet.com/company/source-inter...   \n",
       "4  https://www.thomasnet.com/company/associated-f...   \n",
       "\n",
       "                                          Name               Location  \\\n",
       "0                Ferpa Precision Machine, Inc.      Houston, TX 77067   \n",
       "1  Ardel Engineering & Manufacturing Co., Inc.  Minneapolis, MN 55428   \n",
       "2                         Turner Bellows, Inc.    Rochester, NY 14606   \n",
       "3                         Source International   Louisville, KY 40206   \n",
       "4          Associated Fastening Products, Inc.       Itasca, IL 60143   \n",
       "\n",
       "                                                Text  \n",
       "0  4-axis CNC precision machining services includ...  \n",
       "1  Full service precision CNC machining services ...  \n",
       "2  ISO 9001:2015 woman-owned and HubZone certifie...  \n",
       "3  Custom precision 3-axis to 6-axis vertical and...  \n",
       "4  ISO 9001:2015 certified. CNC automatic screw m...  "
      ]
     },
     "execution_count": 16,
     "metadata": {},
     "output_type": "execute_result"
    }
   ],
   "source": [
    "df.head()"
   ]
  },
  {
   "cell_type": "code",
   "execution_count": 29,
   "id": "86bef80d-e920-4ebe-89f5-dc9baa426496",
   "metadata": {},
   "outputs": [
    {
     "data": {
      "text/html": [
       "<div>\n",
       "<style scoped>\n",
       "    .dataframe tbody tr th:only-of-type {\n",
       "        vertical-align: middle;\n",
       "    }\n",
       "\n",
       "    .dataframe tbody tr th {\n",
       "        vertical-align: top;\n",
       "    }\n",
       "\n",
       "    .dataframe thead th {\n",
       "        text-align: right;\n",
       "    }\n",
       "</style>\n",
       "<table border=\"1\" class=\"dataframe\">\n",
       "  <thead>\n",
       "    <tr style=\"text-align: right;\">\n",
       "      <th></th>\n",
       "      <th>URL</th>\n",
       "      <th>Name</th>\n",
       "      <th>Location</th>\n",
       "      <th>Text</th>\n",
       "      <th>Materials</th>\n",
       "    </tr>\n",
       "  </thead>\n",
       "  <tbody>\n",
       "    <tr>\n",
       "      <th>0</th>\n",
       "      <td>https://www.thomasnet.com/company/ferpa-precis...</td>\n",
       "      <td>Ferpa Precision Machine, Inc.</td>\n",
       "      <td>Houston, TX 77067</td>\n",
       "      <td>4-axis CNC precision machining services includ...</td>\n",
       "      <td>aluminum brass bronze copper stainless steel...</td>\n",
       "    </tr>\n",
       "    <tr>\n",
       "      <th>1</th>\n",
       "      <td>https://www.thomasnet.com/company/ardel-engine...</td>\n",
       "      <td>Ardel Engineering &amp; Manufacturing Co., Inc.</td>\n",
       "      <td>Minneapolis, MN 55428</td>\n",
       "      <td>Full service precision CNC machining services ...</td>\n",
       "      <td>aluminum stainless steel exotic  plastic p...</td>\n",
       "    </tr>\n",
       "    <tr>\n",
       "      <th>2</th>\n",
       "      <td>https://www.thomasnet.com/company/turner-bello...</td>\n",
       "      <td>Turner Bellows, Inc.</td>\n",
       "      <td>Rochester, NY 14606</td>\n",
       "      <td>ISO 9001:2015 woman-owned and HubZone certifie...</td>\n",
       "      <td>aluminum stainless steel exotic  plastic p...</td>\n",
       "    </tr>\n",
       "    <tr>\n",
       "      <th>3</th>\n",
       "      <td>https://www.thomasnet.com/company/source-inter...</td>\n",
       "      <td>Source International</td>\n",
       "      <td>Louisville, KY 40206</td>\n",
       "      <td>Custom precision 3-axis to 6-axis vertical and...</td>\n",
       "      <td>metals  aluminum carbon steel stainless stee...</td>\n",
       "    </tr>\n",
       "    <tr>\n",
       "      <th>4</th>\n",
       "      <td>https://www.thomasnet.com/company/associated-f...</td>\n",
       "      <td>Associated Fastening Products, Inc.</td>\n",
       "      <td>Itasca, IL 60143</td>\n",
       "      <td>ISO 9001:2015 certified. CNC automatic screw m...</td>\n",
       "      <td>carbon steel brass alloy aluminum copper st...</td>\n",
       "    </tr>\n",
       "  </tbody>\n",
       "</table>\n",
       "</div>"
      ],
      "text/plain": [
       "                                                 URL  \\\n",
       "0  https://www.thomasnet.com/company/ferpa-precis...   \n",
       "1  https://www.thomasnet.com/company/ardel-engine...   \n",
       "2  https://www.thomasnet.com/company/turner-bello...   \n",
       "3  https://www.thomasnet.com/company/source-inter...   \n",
       "4  https://www.thomasnet.com/company/associated-f...   \n",
       "\n",
       "                                          Name               Location  \\\n",
       "0                Ferpa Precision Machine, Inc.      Houston, TX 77067   \n",
       "1  Ardel Engineering & Manufacturing Co., Inc.  Minneapolis, MN 55428   \n",
       "2                         Turner Bellows, Inc.    Rochester, NY 14606   \n",
       "3                         Source International   Louisville, KY 40206   \n",
       "4          Associated Fastening Products, Inc.       Itasca, IL 60143   \n",
       "\n",
       "                                                Text  \\\n",
       "0  4-axis CNC precision machining services includ...   \n",
       "1  Full service precision CNC machining services ...   \n",
       "2  ISO 9001:2015 woman-owned and HubZone certifie...   \n",
       "3  Custom precision 3-axis to 6-axis vertical and...   \n",
       "4  ISO 9001:2015 certified. CNC automatic screw m...   \n",
       "\n",
       "                                           Materials  \n",
       "0    aluminum brass bronze copper stainless steel...  \n",
       "1      aluminum stainless steel exotic  plastic p...  \n",
       "2      aluminum stainless steel exotic  plastic p...  \n",
       "3    metals  aluminum carbon steel stainless stee...  \n",
       "4     carbon steel brass alloy aluminum copper st...  "
      ]
     },
     "execution_count": 29,
     "metadata": {},
     "output_type": "execute_result"
    }
   ],
   "source": [
    "df.to_csv(\"KKConnect_data.csv\")\n",
    "df.head()"
   ]
  },
  {
   "cell_type": "code",
   "execution_count": 2,
   "id": "07855a61-45e4-43e0-a2b8-e722a045d0ea",
   "metadata": {},
   "outputs": [
    {
     "data": {
      "text/html": [
       "<div>\n",
       "<style scoped>\n",
       "    .dataframe tbody tr th:only-of-type {\n",
       "        vertical-align: middle;\n",
       "    }\n",
       "\n",
       "    .dataframe tbody tr th {\n",
       "        vertical-align: top;\n",
       "    }\n",
       "\n",
       "    .dataframe thead th {\n",
       "        text-align: right;\n",
       "    }\n",
       "</style>\n",
       "<table border=\"1\" class=\"dataframe\">\n",
       "  <thead>\n",
       "    <tr style=\"text-align: right;\">\n",
       "      <th></th>\n",
       "      <th>URL</th>\n",
       "      <th>Name</th>\n",
       "      <th>Location</th>\n",
       "      <th>Text</th>\n",
       "    </tr>\n",
       "  </thead>\n",
       "  <tbody>\n",
       "    <tr>\n",
       "      <th>0</th>\n",
       "      <td>https://www.thomasnet.com/company/ferpa-precis...</td>\n",
       "      <td>Ferpa Precision Machine, Inc.</td>\n",
       "      <td>Houston, TX 77067</td>\n",
       "      <td>4-axis CNC precision machining services includ...</td>\n",
       "    </tr>\n",
       "    <tr>\n",
       "      <th>1</th>\n",
       "      <td>https://www.thomasnet.com/company/ardel-engine...</td>\n",
       "      <td>Ardel Engineering &amp; Manufacturing Co., Inc.</td>\n",
       "      <td>Minneapolis, MN 55428</td>\n",
       "      <td>Full service precision CNC machining services ...</td>\n",
       "    </tr>\n",
       "    <tr>\n",
       "      <th>2</th>\n",
       "      <td>https://www.thomasnet.com/company/turner-bello...</td>\n",
       "      <td>Turner Bellows, Inc.</td>\n",
       "      <td>Rochester, NY 14606</td>\n",
       "      <td>ISO 9001:2015 woman-owned and HubZone certifie...</td>\n",
       "    </tr>\n",
       "    <tr>\n",
       "      <th>3</th>\n",
       "      <td>https://www.thomasnet.com/company/source-inter...</td>\n",
       "      <td>Source International</td>\n",
       "      <td>Louisville, KY 40206</td>\n",
       "      <td>Custom precision 3-axis to 6-axis vertical and...</td>\n",
       "    </tr>\n",
       "    <tr>\n",
       "      <th>4</th>\n",
       "      <td>https://www.thomasnet.com/company/associated-f...</td>\n",
       "      <td>Associated Fastening Products, Inc.</td>\n",
       "      <td>Itasca, IL 60143</td>\n",
       "      <td>ISO 9001:2015 certified. CNC automatic screw m...</td>\n",
       "    </tr>\n",
       "  </tbody>\n",
       "</table>\n",
       "</div>"
      ],
      "text/plain": [
       "                                                 URL  \\\n",
       "0  https://www.thomasnet.com/company/ferpa-precis...   \n",
       "1  https://www.thomasnet.com/company/ardel-engine...   \n",
       "2  https://www.thomasnet.com/company/turner-bello...   \n",
       "3  https://www.thomasnet.com/company/source-inter...   \n",
       "4  https://www.thomasnet.com/company/associated-f...   \n",
       "\n",
       "                                          Name               Location  \\\n",
       "0                Ferpa Precision Machine, Inc.      Houston, TX 77067   \n",
       "1  Ardel Engineering & Manufacturing Co., Inc.  Minneapolis, MN 55428   \n",
       "2                         Turner Bellows, Inc.    Rochester, NY 14606   \n",
       "3                         Source International   Louisville, KY 40206   \n",
       "4          Associated Fastening Products, Inc.       Itasca, IL 60143   \n",
       "\n",
       "                                                Text  \n",
       "0  4-axis CNC precision machining services includ...  \n",
       "1  Full service precision CNC machining services ...  \n",
       "2  ISO 9001:2015 woman-owned and HubZone certifie...  \n",
       "3  Custom precision 3-axis to 6-axis vertical and...  \n",
       "4  ISO 9001:2015 certified. CNC automatic screw m...  "
      ]
     },
     "execution_count": 2,
     "metadata": {},
     "output_type": "execute_result"
    }
   ],
   "source": [
    "df=pd.read_csv('KKConnect_data.csv')\n",
    "df=df.drop(['Unnamed: 0'],axis=1)\n",
    "df.head()"
   ]
  },
  {
   "cell_type": "code",
   "execution_count": 22,
   "id": "a855b017-466b-47e6-bb36-1e144d134716",
   "metadata": {},
   "outputs": [],
   "source": [
    "clean_text=[\"working\",\"materials\",\"working\",\"and\",\"including\",\"with\",\"works\",\"worked\",\"include\",\"tool\",\"cnc machining services\",\"work\",\"also\",\n",
    "            \"such as\"]\n",
    "mm=[]\n",
    "df[\"Text\"]=df[\"Text\"].astype('str')\n",
    "for i in range(0,len(df)):\n",
    "    jj=df[\"Text\"][i].lower().split('.')\n",
    "    for j in jj:\n",
    "        if ((('works with ' in j)|('working with' in j))|(('materials' in j)|(('working with' in j)))):\n",
    "            materials = re.findall(r'\\b(\\w+(?: \\w+)*)(?:,|$)*', j)\n",
    "            for k in range(0,len(materials)):\n",
    "                for l in clean_text:\n",
    "                    if \"other materials\" in materials[k]:\n",
    "                        continue\n",
    "                    if l in materials[k]:\n",
    "                        if l==\"materials\" and \"exotic\" in materials[k]:\n",
    "                            continue\n",
    "                        elif \"other materials\"==materials[k]:\n",
    "                            continue\n",
    "                        elif l !=\"and\":\n",
    "                            materials[k]=materials[k].replace(l,\"\")\n",
    "                        else:\n",
    "                            temp = materials[k].split(\"and\")\n",
    "                            temp[0] = temp[0]\n",
    "                            materials[k]=temp[0]\n",
    "                            materials.append(temp[1])\n",
    "            #print(i,materials)\n",
    "    kkb=','.join(materials)\n",
    "    if len(kkb)==0:\n",
    "        kkb=[]\n",
    "    mm.append(kkb)\n",
    "    #print(df[\"Text\"][i].split('.'))\n",
    "df[\"Materials\"]=mm"
   ]
  },
  {
   "cell_type": "code",
   "execution_count": 23,
   "id": "87c34bba-8442-4535-9a73-b5648533f654",
   "metadata": {},
   "outputs": [
    {
     "data": {
      "text/html": [
       "<div>\n",
       "<style scoped>\n",
       "    .dataframe tbody tr th:only-of-type {\n",
       "        vertical-align: middle;\n",
       "    }\n",
       "\n",
       "    .dataframe tbody tr th {\n",
       "        vertical-align: top;\n",
       "    }\n",
       "\n",
       "    .dataframe thead th {\n",
       "        text-align: right;\n",
       "    }\n",
       "</style>\n",
       "<table border=\"1\" class=\"dataframe\">\n",
       "  <thead>\n",
       "    <tr style=\"text-align: right;\">\n",
       "      <th></th>\n",
       "      <th>URL</th>\n",
       "      <th>Name</th>\n",
       "      <th>Location</th>\n",
       "      <th>Text</th>\n",
       "      <th>Materials</th>\n",
       "      <th>Certification</th>\n",
       "      <th>Process</th>\n",
       "      <th>Industry</th>\n",
       "      <th>Machinary</th>\n",
       "    </tr>\n",
       "  </thead>\n",
       "  <tbody>\n",
       "    <tr>\n",
       "      <th>0</th>\n",
       "      <td>https://www.thomasnet.com/company/ferpa-precis...</td>\n",
       "      <td>Ferpa Precision Machine, Inc.</td>\n",
       "      <td>Houston, TX 77067</td>\n",
       "      <td>4-axis CNC precision machining services includ...</td>\n",
       "      <td>aluminum,brass,bronze,copper,stainless steel...</td>\n",
       "      <td>AS9100</td>\n",
       "      <td>milling,turning</td>\n",
       "      <td>aerospace,defense,energy,medical,subsea</td>\n",
       "      <td>4-axis,CNC,CNC,precision</td>\n",
       "    </tr>\n",
       "    <tr>\n",
       "      <th>1</th>\n",
       "      <td>https://www.thomasnet.com/company/ardel-engine...</td>\n",
       "      <td>Ardel Engineering &amp; Manufacturing Co., Inc.</td>\n",
       "      <td>Minneapolis, MN 55428</td>\n",
       "      <td>Full service precision CNC machining services ...</td>\n",
       "      <td>aluminum,stainless,steel,exotic ,plastic p...</td>\n",
       "      <td>null</td>\n",
       "      <td>milling,turning,grinding,heat treating,convers...</td>\n",
       "      <td>aerospace,medical,computer,military</td>\n",
       "      <td>CNC,grind,CNC,machining</td>\n",
       "    </tr>\n",
       "    <tr>\n",
       "      <th>2</th>\n",
       "      <td>https://www.thomasnet.com/company/turner-bello...</td>\n",
       "      <td>Turner Bellows, Inc.</td>\n",
       "      <td>Rochester, NY 14606</td>\n",
       "      <td>ISO 9001:2015 woman-owned and HubZone certifie...</td>\n",
       "      <td>aluminum,stainless,steel,exotic ,plastic p...</td>\n",
       "      <td>ISO 9001:2015,HubZone,ITAR,SBA</td>\n",
       "      <td>milling,thread cutting,tapping,thread grinding</td>\n",
       "      <td>medical,automotive,construction</td>\n",
       "      <td>vertical,horizontal,CNC,grind,CNC,machining</td>\n",
       "    </tr>\n",
       "    <tr>\n",
       "      <th>3</th>\n",
       "      <td>https://www.thomasnet.com/company/source-inter...</td>\n",
       "      <td>Source International</td>\n",
       "      <td>Louisville, KY 40206</td>\n",
       "      <td>Custom precision 3-axis to 6-axis vertical and...</td>\n",
       "      <td>metals, aluminum,carbon steel,stainless stee...</td>\n",
       "      <td>ASTM,ANSI,RoHS,WEEE,IPC 1752-1,AS9100,UL</td>\n",
       "      <td>milling,boring,drilling,tapping,EDM,cutting,cu...</td>\n",
       "      <td></td>\n",
       "      <td>3-axis,6-axis,vertical,horizontal,CNC,grind,CN...</td>\n",
       "    </tr>\n",
       "    <tr>\n",
       "      <th>4</th>\n",
       "      <td>https://www.thomasnet.com/company/associated-f...</td>\n",
       "      <td>Associated Fastening Products, Inc.</td>\n",
       "      <td>Itasca, IL 60143</td>\n",
       "      <td>ISO 9001:2015 certified. CNC automatic screw m...</td>\n",
       "      <td>carbon steel,brass,alloy,aluminum,copper,st...</td>\n",
       "      <td>ISO 9001:2015,Mil-I-4528,QS 14000</td>\n",
       "      <td>turning,milling,drilling,tapping,broaching,gri...</td>\n",
       "      <td>automotive,transportation</td>\n",
       "      <td>CNC,Machining includes,grind</td>\n",
       "    </tr>\n",
       "    <tr>\n",
       "      <th>5</th>\n",
       "      <td>https://www.thomasnet.com/company/star-manufac...</td>\n",
       "      <td>Star Manufacturing, Ltd.</td>\n",
       "      <td>Seguin, TX 78155</td>\n",
       "      <td>Precision CNC machining services including mil...</td>\n",
       "      <td>metals</td>\n",
       "      <td>null</td>\n",
       "      <td>milling,turning</td>\n",
       "      <td>semiconductor,appliance,automotive</td>\n",
       "      <td>CNC,CNC,machining</td>\n",
       "    </tr>\n",
       "    <tr>\n",
       "      <th>6</th>\n",
       "      <td>https://www.thomasnet.com/company/eagle-stainl...</td>\n",
       "      <td>Eagle Stainless Tube &amp; Fabrication, Inc.</td>\n",
       "      <td>Franklin, MA 02038</td>\n",
       "      <td>Precision CNC Swiss and laser machining servic...</td>\n",
       "      <td>staniless steel tubing types 304 , 316 in bo...</td>\n",
       "      <td>null</td>\n",
       "      <td>electrical discharge machining,EDM</td>\n",
       "      <td>electronics,aerospace,semiconductor,energy,med...</td>\n",
       "      <td>CNC,laser,machining</td>\n",
       "    </tr>\n",
       "    <tr>\n",
       "      <th>7</th>\n",
       "      <td>https://www.thomasnet.com/company/wyandotte-in...</td>\n",
       "      <td>Wyandotte Industries, Inc.</td>\n",
       "      <td>Wyandotte, MI 48192</td>\n",
       "      <td>Precision CNC Swiss machining services for hea...</td>\n",
       "      <td>alloy steel,carbon steel,bronze,copper,stain...</td>\n",
       "      <td>AS 9100,NADCAP,QSLM,TS 16949</td>\n",
       "      <td></td>\n",
       "      <td>electronics,aerospace,agricultural,energy,appl...</td>\n",
       "      <td>CNC,CNC,Swiss machining</td>\n",
       "    </tr>\n",
       "    <tr>\n",
       "      <th>8</th>\n",
       "      <td>https://www.thomasnet.com/company/g-v-industri...</td>\n",
       "      <td>G. V. Industries, Inc.</td>\n",
       "      <td>National City, CA 91950</td>\n",
       "      <td>3, 4, and 5-axis precision CNC machining servi...</td>\n",
       "      <td>aluminum,bronze,copper,stainless steel,super...</td>\n",
       "      <td>null</td>\n",
       "      <td>milling,turning,band sawing,electrical dischar...</td>\n",
       "      <td>aerospace,automotive,defense,medical</td>\n",
       "      <td>5-axis,CNC,vertical,horizontal,CNC,machining</td>\n",
       "    </tr>\n",
       "    <tr>\n",
       "      <th>9</th>\n",
       "      <td>https://www.thomasnet.com/company/national-tec...</td>\n",
       "      <td>National Technologies</td>\n",
       "      <td>Oak Creek, WI 53154</td>\n",
       "      <td>Precision CNC machining services for OEM compo...</td>\n",
       "      <td>steel,stainless steel,aluminum,brass,bronze,...</td>\n",
       "      <td>APQP,NJSU,ASQ</td>\n",
       "      <td>turning,tapping,drilling,boring,broaching,gear...</td>\n",
       "      <td>aerospace,defense,agricultural,automotive,cons...</td>\n",
       "      <td>CNC,CNC,machining</td>\n",
       "    </tr>\n",
       "  </tbody>\n",
       "</table>\n",
       "</div>"
      ],
      "text/plain": [
       "                                                 URL  \\\n",
       "0  https://www.thomasnet.com/company/ferpa-precis...   \n",
       "1  https://www.thomasnet.com/company/ardel-engine...   \n",
       "2  https://www.thomasnet.com/company/turner-bello...   \n",
       "3  https://www.thomasnet.com/company/source-inter...   \n",
       "4  https://www.thomasnet.com/company/associated-f...   \n",
       "5  https://www.thomasnet.com/company/star-manufac...   \n",
       "6  https://www.thomasnet.com/company/eagle-stainl...   \n",
       "7  https://www.thomasnet.com/company/wyandotte-in...   \n",
       "8  https://www.thomasnet.com/company/g-v-industri...   \n",
       "9  https://www.thomasnet.com/company/national-tec...   \n",
       "\n",
       "                                          Name                 Location  \\\n",
       "0                Ferpa Precision Machine, Inc.        Houston, TX 77067   \n",
       "1  Ardel Engineering & Manufacturing Co., Inc.    Minneapolis, MN 55428   \n",
       "2                         Turner Bellows, Inc.      Rochester, NY 14606   \n",
       "3                         Source International     Louisville, KY 40206   \n",
       "4          Associated Fastening Products, Inc.         Itasca, IL 60143   \n",
       "5                     Star Manufacturing, Ltd.         Seguin, TX 78155   \n",
       "6     Eagle Stainless Tube & Fabrication, Inc.       Franklin, MA 02038   \n",
       "7                   Wyandotte Industries, Inc.      Wyandotte, MI 48192   \n",
       "8                       G. V. Industries, Inc.  National City, CA 91950   \n",
       "9                        National Technologies      Oak Creek, WI 53154   \n",
       "\n",
       "                                                Text  \\\n",
       "0  4-axis CNC precision machining services includ...   \n",
       "1  Full service precision CNC machining services ...   \n",
       "2  ISO 9001:2015 woman-owned and HubZone certifie...   \n",
       "3  Custom precision 3-axis to 6-axis vertical and...   \n",
       "4  ISO 9001:2015 certified. CNC automatic screw m...   \n",
       "5  Precision CNC machining services including mil...   \n",
       "6  Precision CNC Swiss and laser machining servic...   \n",
       "7  Precision CNC Swiss machining services for hea...   \n",
       "8  3, 4, and 5-axis precision CNC machining servi...   \n",
       "9  Precision CNC machining services for OEM compo...   \n",
       "\n",
       "                                           Materials  \\\n",
       "0    aluminum,brass,bronze,copper,stainless steel...   \n",
       "1      aluminum,stainless,steel,exotic ,plastic p...   \n",
       "2      aluminum,stainless,steel,exotic ,plastic p...   \n",
       "3    metals, aluminum,carbon steel,stainless stee...   \n",
       "4     carbon steel,brass,alloy,aluminum,copper,st...   \n",
       "5                                             metals   \n",
       "6    staniless steel tubing types 304 , 316 in bo...   \n",
       "7    alloy steel,carbon steel,bronze,copper,stain...   \n",
       "8    aluminum,bronze,copper,stainless steel,super...   \n",
       "9    steel,stainless steel,aluminum,brass,bronze,...   \n",
       "\n",
       "                              Certification  \\\n",
       "0                                    AS9100   \n",
       "1                                      null   \n",
       "2            ISO 9001:2015,HubZone,ITAR,SBA   \n",
       "3  ASTM,ANSI,RoHS,WEEE,IPC 1752-1,AS9100,UL   \n",
       "4         ISO 9001:2015,Mil-I-4528,QS 14000   \n",
       "5                                      null   \n",
       "6                                      null   \n",
       "7              AS 9100,NADCAP,QSLM,TS 16949   \n",
       "8                                      null   \n",
       "9                             APQP,NJSU,ASQ   \n",
       "\n",
       "                                             Process  \\\n",
       "0                                    milling,turning   \n",
       "1  milling,turning,grinding,heat treating,convers...   \n",
       "2     milling,thread cutting,tapping,thread grinding   \n",
       "3  milling,boring,drilling,tapping,EDM,cutting,cu...   \n",
       "4  turning,milling,drilling,tapping,broaching,gri...   \n",
       "5                                    milling,turning   \n",
       "6                 electrical discharge machining,EDM   \n",
       "7                                                      \n",
       "8  milling,turning,band sawing,electrical dischar...   \n",
       "9  turning,tapping,drilling,boring,broaching,gear...   \n",
       "\n",
       "                                            Industry  \\\n",
       "0            aerospace,defense,energy,medical,subsea   \n",
       "1                aerospace,medical,computer,military   \n",
       "2                    medical,automotive,construction   \n",
       "3                                                      \n",
       "4                          automotive,transportation   \n",
       "5                 semiconductor,appliance,automotive   \n",
       "6  electronics,aerospace,semiconductor,energy,med...   \n",
       "7  electronics,aerospace,agricultural,energy,appl...   \n",
       "8               aerospace,automotive,defense,medical   \n",
       "9  aerospace,defense,agricultural,automotive,cons...   \n",
       "\n",
       "                                           Machinary  \n",
       "0                           4-axis,CNC,CNC,precision  \n",
       "1                            CNC,grind,CNC,machining  \n",
       "2        vertical,horizontal,CNC,grind,CNC,machining  \n",
       "3  3-axis,6-axis,vertical,horizontal,CNC,grind,CN...  \n",
       "4                       CNC,Machining includes,grind  \n",
       "5                                  CNC,CNC,machining  \n",
       "6                                CNC,laser,machining  \n",
       "7                            CNC,CNC,Swiss machining  \n",
       "8       5-axis,CNC,vertical,horizontal,CNC,machining  \n",
       "9                                  CNC,CNC,machining  "
      ]
     },
     "execution_count": 23,
     "metadata": {},
     "output_type": "execute_result"
    }
   ],
   "source": [
    "df.head(10)"
   ]
  },
  {
   "cell_type": "code",
   "execution_count": 24,
   "id": "42ddb0f1-af17-46db-b1b1-eb6e6513041b",
   "metadata": {},
   "outputs": [],
   "source": [
    "mm=[]\n",
    "df[\"Text\"]=df[\"Text\"].astype('str')\n",
    "ddd=r'\\b(ISO \\d{4}:\\d{4}\\b|Mil-Spec|HubZone|NADCAP|SBA|QSLM|TS \\d{4,}|CE|CSA|RoHS|Six Sigma|ITAR|WEEE|IPC \\d{4,}-\\d{1}|AS\\d{4,}|UL|APQP|NJSU|ASQ|AWS|QLM|SAE|ANSI|ASTM|ASQC-Q\\d{4,}|Mil-I-\\d{4,}||QS \\d{5,}|AS\\d{4}D|AS \\d{4,}|TS \\d{5,}|IPC \\d{4,}-\\d{1})'\n",
    "for i in range(0,len(df)):\n",
    "    jj=df[\"Text\"][i].split('.')\n",
    "    m=\"\"\n",
    "    for j in jj:\n",
    "        if ((('Meets' in j)|('certified' in j))|(('meets' in j)|(('meet' in j)|('registered' in j)))):\n",
    "            cert = re.findall(ddd,j)\n",
    "            cert = [x for x in cert if x]\n",
    "            cert = ','.join(cert)\n",
    "            if len(m)!=0:\n",
    "                m+=\",\"\n",
    "            m+=cert\n",
    "    mm.append(m)\n",
    "df[\"Certification\"]=mm"
   ]
  },
  {
   "cell_type": "code",
   "execution_count": 89,
   "id": "7ebc7299-fad5-4094-a205-31195178e72e",
   "metadata": {},
   "outputs": [
    {
     "data": {
      "text/html": [
       "<div>\n",
       "<style scoped>\n",
       "    .dataframe tbody tr th:only-of-type {\n",
       "        vertical-align: middle;\n",
       "    }\n",
       "\n",
       "    .dataframe tbody tr th {\n",
       "        vertical-align: top;\n",
       "    }\n",
       "\n",
       "    .dataframe thead th {\n",
       "        text-align: right;\n",
       "    }\n",
       "</style>\n",
       "<table border=\"1\" class=\"dataframe\">\n",
       "  <thead>\n",
       "    <tr style=\"text-align: right;\">\n",
       "      <th></th>\n",
       "      <th>URL</th>\n",
       "      <th>Name</th>\n",
       "      <th>Location</th>\n",
       "      <th>Text</th>\n",
       "      <th>Materials</th>\n",
       "      <th>Certification</th>\n",
       "    </tr>\n",
       "  </thead>\n",
       "  <tbody>\n",
       "    <tr>\n",
       "      <th>0</th>\n",
       "      <td>https://www.thomasnet.com/company/ferpa-precis...</td>\n",
       "      <td>Ferpa Precision Machine, Inc.</td>\n",
       "      <td>Houston, TX 77067</td>\n",
       "      <td>4-axis CNC precision machining services includ...</td>\n",
       "      <td>aluminum brass bronze copper stainless steel...</td>\n",
       "      <td>AS9100</td>\n",
       "    </tr>\n",
       "    <tr>\n",
       "      <th>1</th>\n",
       "      <td>https://www.thomasnet.com/company/ardel-engine...</td>\n",
       "      <td>Ardel Engineering &amp; Manufacturing Co., Inc.</td>\n",
       "      <td>Minneapolis, MN 55428</td>\n",
       "      <td>Full service precision CNC machining services ...</td>\n",
       "      <td>aluminum stainless steel exotic  plastic p...</td>\n",
       "      <td></td>\n",
       "    </tr>\n",
       "    <tr>\n",
       "      <th>2</th>\n",
       "      <td>https://www.thomasnet.com/company/turner-bello...</td>\n",
       "      <td>Turner Bellows, Inc.</td>\n",
       "      <td>Rochester, NY 14606</td>\n",
       "      <td>ISO 9001:2015 woman-owned and HubZone certifie...</td>\n",
       "      <td>aluminum stainless steel exotic  plastic p...</td>\n",
       "      <td>ISO 9001:2015,HubZone,ITAR,SBA</td>\n",
       "    </tr>\n",
       "    <tr>\n",
       "      <th>3</th>\n",
       "      <td>https://www.thomasnet.com/company/source-inter...</td>\n",
       "      <td>Source International</td>\n",
       "      <td>Louisville, KY 40206</td>\n",
       "      <td>Custom precision 3-axis to 6-axis vertical and...</td>\n",
       "      <td>metals  aluminum carbon steel stainless stee...</td>\n",
       "      <td>ASTM,ANSI,RoHS,WEEE,IPC 1752-1,AS9100,UL</td>\n",
       "    </tr>\n",
       "    <tr>\n",
       "      <th>4</th>\n",
       "      <td>https://www.thomasnet.com/company/associated-f...</td>\n",
       "      <td>Associated Fastening Products, Inc.</td>\n",
       "      <td>Itasca, IL 60143</td>\n",
       "      <td>ISO 9001:2015 certified. CNC automatic screw m...</td>\n",
       "      <td>carbon steel brass alloy aluminum copper st...</td>\n",
       "      <td>ISO 9001:2015,Mil-I-4528,QS 14000</td>\n",
       "    </tr>\n",
       "  </tbody>\n",
       "</table>\n",
       "</div>"
      ],
      "text/plain": [
       "                                                 URL  \\\n",
       "0  https://www.thomasnet.com/company/ferpa-precis...   \n",
       "1  https://www.thomasnet.com/company/ardel-engine...   \n",
       "2  https://www.thomasnet.com/company/turner-bello...   \n",
       "3  https://www.thomasnet.com/company/source-inter...   \n",
       "4  https://www.thomasnet.com/company/associated-f...   \n",
       "\n",
       "                                          Name               Location  \\\n",
       "0                Ferpa Precision Machine, Inc.      Houston, TX 77067   \n",
       "1  Ardel Engineering & Manufacturing Co., Inc.  Minneapolis, MN 55428   \n",
       "2                         Turner Bellows, Inc.    Rochester, NY 14606   \n",
       "3                         Source International   Louisville, KY 40206   \n",
       "4          Associated Fastening Products, Inc.       Itasca, IL 60143   \n",
       "\n",
       "                                                Text  \\\n",
       "0  4-axis CNC precision machining services includ...   \n",
       "1  Full service precision CNC machining services ...   \n",
       "2  ISO 9001:2015 woman-owned and HubZone certifie...   \n",
       "3  Custom precision 3-axis to 6-axis vertical and...   \n",
       "4  ISO 9001:2015 certified. CNC automatic screw m...   \n",
       "\n",
       "                                           Materials  \\\n",
       "0    aluminum brass bronze copper stainless steel...   \n",
       "1      aluminum stainless steel exotic  plastic p...   \n",
       "2      aluminum stainless steel exotic  plastic p...   \n",
       "3    metals  aluminum carbon steel stainless stee...   \n",
       "4     carbon steel brass alloy aluminum copper st...   \n",
       "\n",
       "                              Certification  \n",
       "0                                    AS9100  \n",
       "1                                            \n",
       "2            ISO 9001:2015,HubZone,ITAR,SBA  \n",
       "3  ASTM,ANSI,RoHS,WEEE,IPC 1752-1,AS9100,UL  \n",
       "4         ISO 9001:2015,Mil-I-4528,QS 14000  "
      ]
     },
     "execution_count": 89,
     "metadata": {},
     "output_type": "execute_result"
    }
   ],
   "source": [
    "df.to_csv(\"KKConnect_data.csv\")\n",
    "df.head()"
   ]
  },
  {
   "cell_type": "code",
   "execution_count": 3,
   "id": "c9501df9-c951-42cb-b81d-84b152e13aad",
   "metadata": {},
   "outputs": [
    {
     "data": {
      "text/html": [
       "<div>\n",
       "<style scoped>\n",
       "    .dataframe tbody tr th:only-of-type {\n",
       "        vertical-align: middle;\n",
       "    }\n",
       "\n",
       "    .dataframe tbody tr th {\n",
       "        vertical-align: top;\n",
       "    }\n",
       "\n",
       "    .dataframe thead th {\n",
       "        text-align: right;\n",
       "    }\n",
       "</style>\n",
       "<table border=\"1\" class=\"dataframe\">\n",
       "  <thead>\n",
       "    <tr style=\"text-align: right;\">\n",
       "      <th></th>\n",
       "      <th>URL</th>\n",
       "      <th>Name</th>\n",
       "      <th>Location</th>\n",
       "      <th>Text</th>\n",
       "      <th>Materials</th>\n",
       "      <th>Certification</th>\n",
       "    </tr>\n",
       "  </thead>\n",
       "  <tbody>\n",
       "    <tr>\n",
       "      <th>0</th>\n",
       "      <td>https://www.thomasnet.com/company/ferpa-precis...</td>\n",
       "      <td>Ferpa Precision Machine, Inc.</td>\n",
       "      <td>Houston, TX 77067</td>\n",
       "      <td>4-axis CNC precision machining services includ...</td>\n",
       "      <td>aluminum brass bronze copper stainless steel...</td>\n",
       "      <td>AS9100</td>\n",
       "    </tr>\n",
       "    <tr>\n",
       "      <th>1</th>\n",
       "      <td>https://www.thomasnet.com/company/ardel-engine...</td>\n",
       "      <td>Ardel Engineering &amp; Manufacturing Co., Inc.</td>\n",
       "      <td>Minneapolis, MN 55428</td>\n",
       "      <td>Full service precision CNC machining services ...</td>\n",
       "      <td>aluminum stainless steel exotic  plastic p...</td>\n",
       "      <td>NaN</td>\n",
       "    </tr>\n",
       "    <tr>\n",
       "      <th>2</th>\n",
       "      <td>https://www.thomasnet.com/company/turner-bello...</td>\n",
       "      <td>Turner Bellows, Inc.</td>\n",
       "      <td>Rochester, NY 14606</td>\n",
       "      <td>ISO 9001:2015 woman-owned and HubZone certifie...</td>\n",
       "      <td>aluminum stainless steel exotic  plastic p...</td>\n",
       "      <td>ISO 9001:2015,HubZone,ITAR,SBA</td>\n",
       "    </tr>\n",
       "    <tr>\n",
       "      <th>3</th>\n",
       "      <td>https://www.thomasnet.com/company/source-inter...</td>\n",
       "      <td>Source International</td>\n",
       "      <td>Louisville, KY 40206</td>\n",
       "      <td>Custom precision 3-axis to 6-axis vertical and...</td>\n",
       "      <td>metals  aluminum carbon steel stainless stee...</td>\n",
       "      <td>ASTM,ANSI,RoHS,WEEE,IPC 1752-1,AS9100,UL</td>\n",
       "    </tr>\n",
       "    <tr>\n",
       "      <th>4</th>\n",
       "      <td>https://www.thomasnet.com/company/associated-f...</td>\n",
       "      <td>Associated Fastening Products, Inc.</td>\n",
       "      <td>Itasca, IL 60143</td>\n",
       "      <td>ISO 9001:2015 certified. CNC automatic screw m...</td>\n",
       "      <td>carbon steel brass alloy aluminum copper st...</td>\n",
       "      <td>ISO 9001:2015,Mil-I-4528,QS 14000</td>\n",
       "    </tr>\n",
       "  </tbody>\n",
       "</table>\n",
       "</div>"
      ],
      "text/plain": [
       "                                                 URL  \\\n",
       "0  https://www.thomasnet.com/company/ferpa-precis...   \n",
       "1  https://www.thomasnet.com/company/ardel-engine...   \n",
       "2  https://www.thomasnet.com/company/turner-bello...   \n",
       "3  https://www.thomasnet.com/company/source-inter...   \n",
       "4  https://www.thomasnet.com/company/associated-f...   \n",
       "\n",
       "                                          Name               Location  \\\n",
       "0                Ferpa Precision Machine, Inc.      Houston, TX 77067   \n",
       "1  Ardel Engineering & Manufacturing Co., Inc.  Minneapolis, MN 55428   \n",
       "2                         Turner Bellows, Inc.    Rochester, NY 14606   \n",
       "3                         Source International   Louisville, KY 40206   \n",
       "4          Associated Fastening Products, Inc.       Itasca, IL 60143   \n",
       "\n",
       "                                                Text  \\\n",
       "0  4-axis CNC precision machining services includ...   \n",
       "1  Full service precision CNC machining services ...   \n",
       "2  ISO 9001:2015 woman-owned and HubZone certifie...   \n",
       "3  Custom precision 3-axis to 6-axis vertical and...   \n",
       "4  ISO 9001:2015 certified. CNC automatic screw m...   \n",
       "\n",
       "                                           Materials  \\\n",
       "0    aluminum brass bronze copper stainless steel...   \n",
       "1      aluminum stainless steel exotic  plastic p...   \n",
       "2      aluminum stainless steel exotic  plastic p...   \n",
       "3    metals  aluminum carbon steel stainless stee...   \n",
       "4     carbon steel brass alloy aluminum copper st...   \n",
       "\n",
       "                              Certification  \n",
       "0                                    AS9100  \n",
       "1                                       NaN  \n",
       "2            ISO 9001:2015,HubZone,ITAR,SBA  \n",
       "3  ASTM,ANSI,RoHS,WEEE,IPC 1752-1,AS9100,UL  \n",
       "4         ISO 9001:2015,Mil-I-4528,QS 14000  "
      ]
     },
     "execution_count": 3,
     "metadata": {},
     "output_type": "execute_result"
    }
   ],
   "source": [
    "df=pd.read_csv('KKConnect_data.csv')\n",
    "df=df.drop(['Unnamed: 0'],axis=1)\n",
    "df.head()"
   ]
  },
  {
   "cell_type": "code",
   "execution_count": 25,
   "id": "d45b4ffb-15cc-4cb0-b703-ab099e5709b9",
   "metadata": {},
   "outputs": [
    {
     "data": {
      "text/html": [
       "<div>\n",
       "<style scoped>\n",
       "    .dataframe tbody tr th:only-of-type {\n",
       "        vertical-align: middle;\n",
       "    }\n",
       "\n",
       "    .dataframe tbody tr th {\n",
       "        vertical-align: top;\n",
       "    }\n",
       "\n",
       "    .dataframe thead th {\n",
       "        text-align: right;\n",
       "    }\n",
       "</style>\n",
       "<table border=\"1\" class=\"dataframe\">\n",
       "  <thead>\n",
       "    <tr style=\"text-align: right;\">\n",
       "      <th></th>\n",
       "      <th>URL</th>\n",
       "      <th>Name</th>\n",
       "      <th>Location</th>\n",
       "      <th>Text</th>\n",
       "      <th>Materials</th>\n",
       "      <th>Certification</th>\n",
       "      <th>Process</th>\n",
       "      <th>Industry</th>\n",
       "      <th>Machinary</th>\n",
       "    </tr>\n",
       "  </thead>\n",
       "  <tbody>\n",
       "    <tr>\n",
       "      <th>0</th>\n",
       "      <td>https://www.thomasnet.com/company/ferpa-precis...</td>\n",
       "      <td>Ferpa Precision Machine, Inc.</td>\n",
       "      <td>Houston, TX 77067</td>\n",
       "      <td>4-axis CNC precision machining services includ...</td>\n",
       "      <td>aluminum,brass,bronze,copper,stainless steel...</td>\n",
       "      <td>AS9100</td>\n",
       "      <td>milling,turning</td>\n",
       "      <td>aerospace,defense,energy,medical,subsea</td>\n",
       "      <td>4-axis,CNC,CNC,precision</td>\n",
       "    </tr>\n",
       "    <tr>\n",
       "      <th>1</th>\n",
       "      <td>https://www.thomasnet.com/company/ardel-engine...</td>\n",
       "      <td>Ardel Engineering &amp; Manufacturing Co., Inc.</td>\n",
       "      <td>Minneapolis, MN 55428</td>\n",
       "      <td>Full service precision CNC machining services ...</td>\n",
       "      <td>aluminum,stainless,steel,exotic ,plastic p...</td>\n",
       "      <td></td>\n",
       "      <td>milling,turning,grinding,heat treating,convers...</td>\n",
       "      <td>aerospace,medical,computer,military</td>\n",
       "      <td>CNC,grind,CNC,machining</td>\n",
       "    </tr>\n",
       "    <tr>\n",
       "      <th>2</th>\n",
       "      <td>https://www.thomasnet.com/company/turner-bello...</td>\n",
       "      <td>Turner Bellows, Inc.</td>\n",
       "      <td>Rochester, NY 14606</td>\n",
       "      <td>ISO 9001:2015 woman-owned and HubZone certifie...</td>\n",
       "      <td>aluminum,stainless,steel,exotic ,plastic p...</td>\n",
       "      <td>ISO 9001:2015,HubZone,ITAR,SBA</td>\n",
       "      <td>milling,thread cutting,tapping,thread grinding</td>\n",
       "      <td>medical,automotive,construction</td>\n",
       "      <td>vertical,horizontal,CNC,grind,CNC,machining</td>\n",
       "    </tr>\n",
       "    <tr>\n",
       "      <th>3</th>\n",
       "      <td>https://www.thomasnet.com/company/source-inter...</td>\n",
       "      <td>Source International</td>\n",
       "      <td>Louisville, KY 40206</td>\n",
       "      <td>Custom precision 3-axis to 6-axis vertical and...</td>\n",
       "      <td>metals, aluminum,carbon steel,stainless stee...</td>\n",
       "      <td>ASTM,ANSI,RoHS,WEEE,IPC 1752-1,AS9100,UL</td>\n",
       "      <td>milling,boring,drilling,tapping,EDM,cutting,cu...</td>\n",
       "      <td></td>\n",
       "      <td>3-axis,6-axis,vertical,horizontal,CNC,grind,CN...</td>\n",
       "    </tr>\n",
       "    <tr>\n",
       "      <th>4</th>\n",
       "      <td>https://www.thomasnet.com/company/associated-f...</td>\n",
       "      <td>Associated Fastening Products, Inc.</td>\n",
       "      <td>Itasca, IL 60143</td>\n",
       "      <td>ISO 9001:2015 certified. CNC automatic screw m...</td>\n",
       "      <td>carbon steel,brass,alloy,aluminum,copper,st...</td>\n",
       "      <td>ISO 9001:2015,Mil-I-4528,QS 14000</td>\n",
       "      <td>turning,milling,drilling,tapping,broaching,gri...</td>\n",
       "      <td>automotive,transportation</td>\n",
       "      <td>CNC,Machining includes,grind</td>\n",
       "    </tr>\n",
       "  </tbody>\n",
       "</table>\n",
       "</div>"
      ],
      "text/plain": [
       "                                                 URL  \\\n",
       "0  https://www.thomasnet.com/company/ferpa-precis...   \n",
       "1  https://www.thomasnet.com/company/ardel-engine...   \n",
       "2  https://www.thomasnet.com/company/turner-bello...   \n",
       "3  https://www.thomasnet.com/company/source-inter...   \n",
       "4  https://www.thomasnet.com/company/associated-f...   \n",
       "\n",
       "                                          Name               Location  \\\n",
       "0                Ferpa Precision Machine, Inc.      Houston, TX 77067   \n",
       "1  Ardel Engineering & Manufacturing Co., Inc.  Minneapolis, MN 55428   \n",
       "2                         Turner Bellows, Inc.    Rochester, NY 14606   \n",
       "3                         Source International   Louisville, KY 40206   \n",
       "4          Associated Fastening Products, Inc.       Itasca, IL 60143   \n",
       "\n",
       "                                                Text  \\\n",
       "0  4-axis CNC precision machining services includ...   \n",
       "1  Full service precision CNC machining services ...   \n",
       "2  ISO 9001:2015 woman-owned and HubZone certifie...   \n",
       "3  Custom precision 3-axis to 6-axis vertical and...   \n",
       "4  ISO 9001:2015 certified. CNC automatic screw m...   \n",
       "\n",
       "                                           Materials  \\\n",
       "0    aluminum,brass,bronze,copper,stainless steel...   \n",
       "1      aluminum,stainless,steel,exotic ,plastic p...   \n",
       "2      aluminum,stainless,steel,exotic ,plastic p...   \n",
       "3    metals, aluminum,carbon steel,stainless stee...   \n",
       "4     carbon steel,brass,alloy,aluminum,copper,st...   \n",
       "\n",
       "                              Certification  \\\n",
       "0                                    AS9100   \n",
       "1                                             \n",
       "2            ISO 9001:2015,HubZone,ITAR,SBA   \n",
       "3  ASTM,ANSI,RoHS,WEEE,IPC 1752-1,AS9100,UL   \n",
       "4         ISO 9001:2015,Mil-I-4528,QS 14000   \n",
       "\n",
       "                                             Process  \\\n",
       "0                                    milling,turning   \n",
       "1  milling,turning,grinding,heat treating,convers...   \n",
       "2     milling,thread cutting,tapping,thread grinding   \n",
       "3  milling,boring,drilling,tapping,EDM,cutting,cu...   \n",
       "4  turning,milling,drilling,tapping,broaching,gri...   \n",
       "\n",
       "                                  Industry  \\\n",
       "0  aerospace,defense,energy,medical,subsea   \n",
       "1      aerospace,medical,computer,military   \n",
       "2          medical,automotive,construction   \n",
       "3                                            \n",
       "4                automotive,transportation   \n",
       "\n",
       "                                           Machinary  \n",
       "0                           4-axis,CNC,CNC,precision  \n",
       "1                            CNC,grind,CNC,machining  \n",
       "2        vertical,horizontal,CNC,grind,CNC,machining  \n",
       "3  3-axis,6-axis,vertical,horizontal,CNC,grind,CN...  \n",
       "4                       CNC,Machining includes,grind  "
      ]
     },
     "execution_count": 25,
     "metadata": {},
     "output_type": "execute_result"
    }
   ],
   "source": [
    "# Define regex patterns\n",
    "machinery_pattern = r'(CNC|cnc|laser|LASER) (machine|machining|lathe|mill|turning|screw machining|Swiss machining|edm|wire edm|precision) '\n",
    "process_pattern = r'(milling|turning|band sawing|electrical discharge machining|edm|fabrication|assembly|welding|thread cutting|tapping|thread grinding|grinding|honning|heat treating|conversion coating|anodizing|boring|drilling|tapping|internal forming|knurling|gear hobbing|broaching|cutting|counterboring|countersinking)'\n",
    "industry_pattern = r'(aerospace|aviation|defense|energy|medical|subsea|automotive|transportation|construction|marine|agricultural|appliance|electronics|semiconductor|heavy equipment|oil and gas|green energy|military|computer)'\n",
    "machine_pattern  = r'\\b(\\d{1,}-axis|CNC|\\d{1,} CNC|Machining includes|vertical|horizontal|grind*|blast*)'\n",
    "# Define text\n",
    "text = df[\"Text\"].astype(str).to_list() # Your text here\n",
    "p_process =[]\n",
    "p_industry=[]\n",
    "p_final_machinery=[]\n",
    "# Find matches\n",
    "for t in text:\n",
    "    machinery = re.findall(machinery_pattern, t, re.IGNORECASE)\n",
    "    process = re.findall(process_pattern, t, re.IGNORECASE)\n",
    "    industry = re.findall(industry_pattern, t, re.IGNORECASE)\n",
    "    machine = re.findall(machine_pattern,t,re.IGNORECASE)\n",
    "    industry = [x for x in industry if x]\n",
    "    process = [x for x in process if x]\n",
    "    machine = [x for x in machine if x]\n",
    "    final_machinery = [x for x in machine if x]\n",
    "    for i in machinery:\n",
    "        if len(i)>1:\n",
    "            for x in i:\n",
    "                final_machinery.append(x)\n",
    "        else:\n",
    "            final_machinery.append(i)\n",
    "    industry = ','.join(industry)\n",
    "    process = ','.join(process)\n",
    "    final_machinery = ','.join(final_machinery)\n",
    "    p_process.append(process)\n",
    "    p_industry.append(industry)\n",
    "    p_final_machinery.append(final_machinery)\n",
    "\n",
    "df[\"Process\"] = p_process\n",
    "df[\"Industry\"] = p_industry\n",
    "df[\"Machinary\"] = p_final_machinery\n",
    "df.head()"
   ]
  },
  {
   "cell_type": "code",
   "execution_count": 26,
   "id": "53a0c184-a564-4bc8-a9d0-35fc0290408e",
   "metadata": {},
   "outputs": [
    {
     "name": "stdout",
     "output_type": "stream",
     "text": [
      "Materials 176\n",
      "Certification 25\n",
      "Process 24\n",
      "Industry 19\n",
      "Machinary 20\n"
     ]
    }
   ],
   "source": [
    "mxm = [\"Materials\",\"Certification\",\"Process\",\"Industry\",\"Machinary\"]\n",
    "col_unique={}\n",
    "for i in mxm:\n",
    "    ans=[]\n",
    "    tt=df[i].astype(str).to_list()\n",
    "    for t in tt:\n",
    "        n=t.split(',')\n",
    "        for nx in n:\n",
    "            nx=nx.replace(' ','')\n",
    "            nx=nx.lower()\n",
    "            if nx not in ans and nx!='':\n",
    "                ans.append(nx)\n",
    "    col_unique[i]=ans\n",
    "for i in col_unique.keys():\n",
    "    print(i,len(col_unique[i]))"
   ]
  },
  {
   "cell_type": "code",
   "execution_count": 28,
   "id": "fde19835-79a4-4c3d-a639-460da88f660d",
   "metadata": {},
   "outputs": [
    {
     "data": {
      "text/html": [
       "<div>\n",
       "<style scoped>\n",
       "    .dataframe tbody tr th:only-of-type {\n",
       "        vertical-align: middle;\n",
       "    }\n",
       "\n",
       "    .dataframe tbody tr th {\n",
       "        vertical-align: top;\n",
       "    }\n",
       "\n",
       "    .dataframe thead th {\n",
       "        text-align: right;\n",
       "    }\n",
       "</style>\n",
       "<table border=\"1\" class=\"dataframe\">\n",
       "  <thead>\n",
       "    <tr style=\"text-align: right;\">\n",
       "      <th></th>\n",
       "      <th>URL</th>\n",
       "      <th>Name</th>\n",
       "      <th>Location</th>\n",
       "      <th>Text</th>\n",
       "      <th>Materials</th>\n",
       "      <th>Certification</th>\n",
       "      <th>Process</th>\n",
       "      <th>Industry</th>\n",
       "      <th>Machinary</th>\n",
       "    </tr>\n",
       "  </thead>\n",
       "  <tbody>\n",
       "    <tr>\n",
       "      <th>0</th>\n",
       "      <td>https://www.thomasnet.com/company/ferpa-precis...</td>\n",
       "      <td>Ferpa Precision Machine, Inc.</td>\n",
       "      <td>Houston, TX 77067</td>\n",
       "      <td>4-axis CNC precision machining services includ...</td>\n",
       "      <td>aluminum,brass,bronze,copper,stainless steel...</td>\n",
       "      <td>AS9100</td>\n",
       "      <td>milling,turning</td>\n",
       "      <td>aerospace,defense,energy,medical,subsea</td>\n",
       "      <td>4-axis,CNC,CNC,precision</td>\n",
       "    </tr>\n",
       "    <tr>\n",
       "      <th>1</th>\n",
       "      <td>https://www.thomasnet.com/company/ardel-engine...</td>\n",
       "      <td>Ardel Engineering &amp; Manufacturing Co., Inc.</td>\n",
       "      <td>Minneapolis, MN 55428</td>\n",
       "      <td>Full service precision CNC machining services ...</td>\n",
       "      <td>aluminum,stainless,steel,exotic ,plastic p...</td>\n",
       "      <td></td>\n",
       "      <td>milling,turning,grinding,heat treating,convers...</td>\n",
       "      <td>aerospace,medical,computer,military</td>\n",
       "      <td>CNC,grind,CNC,machining</td>\n",
       "    </tr>\n",
       "    <tr>\n",
       "      <th>2</th>\n",
       "      <td>https://www.thomasnet.com/company/turner-bello...</td>\n",
       "      <td>Turner Bellows, Inc.</td>\n",
       "      <td>Rochester, NY 14606</td>\n",
       "      <td>ISO 9001:2015 woman-owned and HubZone certifie...</td>\n",
       "      <td>aluminum,stainless,steel,exotic ,plastic p...</td>\n",
       "      <td>ISO 9001:2015,HubZone,ITAR,SBA</td>\n",
       "      <td>milling,thread cutting,tapping,thread grinding</td>\n",
       "      <td>medical,automotive,construction</td>\n",
       "      <td>vertical,horizontal,CNC,grind,CNC,machining</td>\n",
       "    </tr>\n",
       "    <tr>\n",
       "      <th>3</th>\n",
       "      <td>https://www.thomasnet.com/company/source-inter...</td>\n",
       "      <td>Source International</td>\n",
       "      <td>Louisville, KY 40206</td>\n",
       "      <td>Custom precision 3-axis to 6-axis vertical and...</td>\n",
       "      <td>metals, aluminum,carbon steel,stainless stee...</td>\n",
       "      <td>ASTM,ANSI,RoHS,WEEE,IPC 1752-1,AS9100,UL</td>\n",
       "      <td>milling,boring,drilling,tapping,EDM,cutting,cu...</td>\n",
       "      <td></td>\n",
       "      <td>3-axis,6-axis,vertical,horizontal,CNC,grind,CN...</td>\n",
       "    </tr>\n",
       "    <tr>\n",
       "      <th>4</th>\n",
       "      <td>https://www.thomasnet.com/company/associated-f...</td>\n",
       "      <td>Associated Fastening Products, Inc.</td>\n",
       "      <td>Itasca, IL 60143</td>\n",
       "      <td>ISO 9001:2015 certified. CNC automatic screw m...</td>\n",
       "      <td>carbon steel,brass,alloy,aluminum,copper,st...</td>\n",
       "      <td>ISO 9001:2015,Mil-I-4528,QS 14000</td>\n",
       "      <td>turning,milling,drilling,tapping,broaching,gri...</td>\n",
       "      <td>automotive,transportation</td>\n",
       "      <td>CNC,Machining includes,grind</td>\n",
       "    </tr>\n",
       "  </tbody>\n",
       "</table>\n",
       "</div>"
      ],
      "text/plain": [
       "                                                 URL  \\\n",
       "0  https://www.thomasnet.com/company/ferpa-precis...   \n",
       "1  https://www.thomasnet.com/company/ardel-engine...   \n",
       "2  https://www.thomasnet.com/company/turner-bello...   \n",
       "3  https://www.thomasnet.com/company/source-inter...   \n",
       "4  https://www.thomasnet.com/company/associated-f...   \n",
       "\n",
       "                                          Name               Location  \\\n",
       "0                Ferpa Precision Machine, Inc.      Houston, TX 77067   \n",
       "1  Ardel Engineering & Manufacturing Co., Inc.  Minneapolis, MN 55428   \n",
       "2                         Turner Bellows, Inc.    Rochester, NY 14606   \n",
       "3                         Source International   Louisville, KY 40206   \n",
       "4          Associated Fastening Products, Inc.       Itasca, IL 60143   \n",
       "\n",
       "                                                Text  \\\n",
       "0  4-axis CNC precision machining services includ...   \n",
       "1  Full service precision CNC machining services ...   \n",
       "2  ISO 9001:2015 woman-owned and HubZone certifie...   \n",
       "3  Custom precision 3-axis to 6-axis vertical and...   \n",
       "4  ISO 9001:2015 certified. CNC automatic screw m...   \n",
       "\n",
       "                                           Materials  \\\n",
       "0    aluminum,brass,bronze,copper,stainless steel...   \n",
       "1      aluminum,stainless,steel,exotic ,plastic p...   \n",
       "2      aluminum,stainless,steel,exotic ,plastic p...   \n",
       "3    metals, aluminum,carbon steel,stainless stee...   \n",
       "4     carbon steel,brass,alloy,aluminum,copper,st...   \n",
       "\n",
       "                              Certification  \\\n",
       "0                                    AS9100   \n",
       "1                                             \n",
       "2            ISO 9001:2015,HubZone,ITAR,SBA   \n",
       "3  ASTM,ANSI,RoHS,WEEE,IPC 1752-1,AS9100,UL   \n",
       "4         ISO 9001:2015,Mil-I-4528,QS 14000   \n",
       "\n",
       "                                             Process  \\\n",
       "0                                    milling,turning   \n",
       "1  milling,turning,grinding,heat treating,convers...   \n",
       "2     milling,thread cutting,tapping,thread grinding   \n",
       "3  milling,boring,drilling,tapping,EDM,cutting,cu...   \n",
       "4  turning,milling,drilling,tapping,broaching,gri...   \n",
       "\n",
       "                                  Industry  \\\n",
       "0  aerospace,defense,energy,medical,subsea   \n",
       "1      aerospace,medical,computer,military   \n",
       "2          medical,automotive,construction   \n",
       "3                                            \n",
       "4                automotive,transportation   \n",
       "\n",
       "                                           Machinary  \n",
       "0                           4-axis,CNC,CNC,precision  \n",
       "1                            CNC,grind,CNC,machining  \n",
       "2        vertical,horizontal,CNC,grind,CNC,machining  \n",
       "3  3-axis,6-axis,vertical,horizontal,CNC,grind,CN...  \n",
       "4                       CNC,Machining includes,grind  "
      ]
     },
     "execution_count": 28,
     "metadata": {},
     "output_type": "execute_result"
    }
   ],
   "source": [
    "df.head()"
   ]
  },
  {
   "cell_type": "code",
   "execution_count": 29,
   "id": "3bdb7768-ba08-4c4a-97e5-d929a88d27c8",
   "metadata": {},
   "outputs": [
    {
     "name": "stdout",
     "output_type": "stream",
     "text": [
      "(125, 2)\n"
     ]
    },
    {
     "data": {
      "text/html": [
       "<div>\n",
       "<style scoped>\n",
       "    .dataframe tbody tr th:only-of-type {\n",
       "        vertical-align: middle;\n",
       "    }\n",
       "\n",
       "    .dataframe tbody tr th {\n",
       "        vertical-align: top;\n",
       "    }\n",
       "\n",
       "    .dataframe thead th {\n",
       "        text-align: right;\n",
       "    }\n",
       "</style>\n",
       "<table border=\"1\" class=\"dataframe\">\n",
       "  <thead>\n",
       "    <tr style=\"text-align: right;\">\n",
       "      <th></th>\n",
       "      <th>Name</th>\n",
       "      <th>Location</th>\n",
       "      <th>Encode_Materials_aluminum</th>\n",
       "      <th>Encode_Materials_brass</th>\n",
       "      <th>Encode_Materials_bronze</th>\n",
       "      <th>Encode_Materials_copper</th>\n",
       "      <th>Encode_Materials_stainlesssteel</th>\n",
       "      <th>Encode_Materials_titanium</th>\n",
       "      <th>Encode_Materials_superalloy</th>\n",
       "      <th>Encode_Materials_polyester</th>\n",
       "      <th>...</th>\n",
       "      <th>Encode_Machinary_laser</th>\n",
       "      <th>Encode_Machinary_swissmachining</th>\n",
       "      <th>Encode_Machinary_5-axis</th>\n",
       "      <th>Encode_Machinary_turning</th>\n",
       "      <th>Encode_Machinary_8-axis</th>\n",
       "      <th>Encode_Machinary_2-axis</th>\n",
       "      <th>Encode_Machinary_lathe</th>\n",
       "      <th>Encode_Machinary_7-axis</th>\n",
       "      <th>Encode_Machinary_9-axis</th>\n",
       "      <th>Encode_Machinary_blast</th>\n",
       "    </tr>\n",
       "  </thead>\n",
       "  <tbody>\n",
       "    <tr>\n",
       "      <th>0</th>\n",
       "      <td>Ferpa Precision Machine, Inc.</td>\n",
       "      <td>Houston, TX 77067</td>\n",
       "      <td>1</td>\n",
       "      <td>1</td>\n",
       "      <td>1</td>\n",
       "      <td>1</td>\n",
       "      <td>1</td>\n",
       "      <td>1</td>\n",
       "      <td>1</td>\n",
       "      <td>1</td>\n",
       "      <td>...</td>\n",
       "      <td>0</td>\n",
       "      <td>0</td>\n",
       "      <td>0</td>\n",
       "      <td>0</td>\n",
       "      <td>0</td>\n",
       "      <td>0</td>\n",
       "      <td>0</td>\n",
       "      <td>0</td>\n",
       "      <td>0</td>\n",
       "      <td>0</td>\n",
       "    </tr>\n",
       "    <tr>\n",
       "      <th>1</th>\n",
       "      <td>Ardel Engineering &amp; Manufacturing Co., Inc.</td>\n",
       "      <td>Minneapolis, MN 55428</td>\n",
       "      <td>1</td>\n",
       "      <td>0</td>\n",
       "      <td>0</td>\n",
       "      <td>0</td>\n",
       "      <td>0</td>\n",
       "      <td>0</td>\n",
       "      <td>0</td>\n",
       "      <td>0</td>\n",
       "      <td>...</td>\n",
       "      <td>0</td>\n",
       "      <td>0</td>\n",
       "      <td>0</td>\n",
       "      <td>0</td>\n",
       "      <td>0</td>\n",
       "      <td>0</td>\n",
       "      <td>0</td>\n",
       "      <td>0</td>\n",
       "      <td>0</td>\n",
       "      <td>0</td>\n",
       "    </tr>\n",
       "    <tr>\n",
       "      <th>2</th>\n",
       "      <td>Turner Bellows, Inc.</td>\n",
       "      <td>Rochester, NY 14606</td>\n",
       "      <td>1</td>\n",
       "      <td>0</td>\n",
       "      <td>0</td>\n",
       "      <td>0</td>\n",
       "      <td>0</td>\n",
       "      <td>0</td>\n",
       "      <td>0</td>\n",
       "      <td>0</td>\n",
       "      <td>...</td>\n",
       "      <td>0</td>\n",
       "      <td>0</td>\n",
       "      <td>0</td>\n",
       "      <td>0</td>\n",
       "      <td>0</td>\n",
       "      <td>0</td>\n",
       "      <td>0</td>\n",
       "      <td>0</td>\n",
       "      <td>0</td>\n",
       "      <td>0</td>\n",
       "    </tr>\n",
       "    <tr>\n",
       "      <th>3</th>\n",
       "      <td>Source International</td>\n",
       "      <td>Louisville, KY 40206</td>\n",
       "      <td>1</td>\n",
       "      <td>1</td>\n",
       "      <td>0</td>\n",
       "      <td>1</td>\n",
       "      <td>1</td>\n",
       "      <td>1</td>\n",
       "      <td>0</td>\n",
       "      <td>0</td>\n",
       "      <td>...</td>\n",
       "      <td>0</td>\n",
       "      <td>0</td>\n",
       "      <td>0</td>\n",
       "      <td>0</td>\n",
       "      <td>0</td>\n",
       "      <td>0</td>\n",
       "      <td>0</td>\n",
       "      <td>0</td>\n",
       "      <td>0</td>\n",
       "      <td>0</td>\n",
       "    </tr>\n",
       "    <tr>\n",
       "      <th>4</th>\n",
       "      <td>Associated Fastening Products, Inc.</td>\n",
       "      <td>Itasca, IL 60143</td>\n",
       "      <td>1</td>\n",
       "      <td>1</td>\n",
       "      <td>0</td>\n",
       "      <td>1</td>\n",
       "      <td>1</td>\n",
       "      <td>0</td>\n",
       "      <td>0</td>\n",
       "      <td>0</td>\n",
       "      <td>...</td>\n",
       "      <td>0</td>\n",
       "      <td>0</td>\n",
       "      <td>0</td>\n",
       "      <td>0</td>\n",
       "      <td>0</td>\n",
       "      <td>0</td>\n",
       "      <td>0</td>\n",
       "      <td>0</td>\n",
       "      <td>0</td>\n",
       "      <td>0</td>\n",
       "    </tr>\n",
       "  </tbody>\n",
       "</table>\n",
       "<p>5 rows × 266 columns</p>\n",
       "</div>"
      ],
      "text/plain": [
       "                                          Name               Location  \\\n",
       "0                Ferpa Precision Machine, Inc.      Houston, TX 77067   \n",
       "1  Ardel Engineering & Manufacturing Co., Inc.  Minneapolis, MN 55428   \n",
       "2                         Turner Bellows, Inc.    Rochester, NY 14606   \n",
       "3                         Source International   Louisville, KY 40206   \n",
       "4          Associated Fastening Products, Inc.       Itasca, IL 60143   \n",
       "\n",
       "   Encode_Materials_aluminum  Encode_Materials_brass  Encode_Materials_bronze  \\\n",
       "0                          1                       1                        1   \n",
       "1                          1                       0                        0   \n",
       "2                          1                       0                        0   \n",
       "3                          1                       1                        0   \n",
       "4                          1                       1                        0   \n",
       "\n",
       "   Encode_Materials_copper  Encode_Materials_stainlesssteel  \\\n",
       "0                        1                                1   \n",
       "1                        0                                0   \n",
       "2                        0                                0   \n",
       "3                        1                                1   \n",
       "4                        1                                1   \n",
       "\n",
       "   Encode_Materials_titanium  Encode_Materials_superalloy  \\\n",
       "0                          1                            1   \n",
       "1                          0                            0   \n",
       "2                          0                            0   \n",
       "3                          1                            0   \n",
       "4                          0                            0   \n",
       "\n",
       "   Encode_Materials_polyester  ...  Encode_Machinary_laser  \\\n",
       "0                           1  ...                       0   \n",
       "1                           0  ...                       0   \n",
       "2                           0  ...                       0   \n",
       "3                           0  ...                       0   \n",
       "4                           0  ...                       0   \n",
       "\n",
       "   Encode_Machinary_swissmachining  Encode_Machinary_5-axis  \\\n",
       "0                                0                        0   \n",
       "1                                0                        0   \n",
       "2                                0                        0   \n",
       "3                                0                        0   \n",
       "4                                0                        0   \n",
       "\n",
       "   Encode_Machinary_turning  Encode_Machinary_8-axis  Encode_Machinary_2-axis  \\\n",
       "0                         0                        0                        0   \n",
       "1                         0                        0                        0   \n",
       "2                         0                        0                        0   \n",
       "3                         0                        0                        0   \n",
       "4                         0                        0                        0   \n",
       "\n",
       "   Encode_Machinary_lathe  Encode_Machinary_7-axis  Encode_Machinary_9-axis  \\\n",
       "0                       0                        0                        0   \n",
       "1                       0                        0                        0   \n",
       "2                       0                        0                        0   \n",
       "3                       0                        0                        0   \n",
       "4                       0                        0                        0   \n",
       "\n",
       "   Encode_Machinary_blast  \n",
       "0                       0  \n",
       "1                       0  \n",
       "2                       0  \n",
       "3                       0  \n",
       "4                       0  \n",
       "\n",
       "[5 rows x 266 columns]"
      ]
     },
     "execution_count": 29,
     "metadata": {},
     "output_type": "execute_result"
    }
   ],
   "source": [
    "new_df=df[[\"Name\",\"Location\"]].copy(deep=True)\n",
    "print(new_df.shape)\n",
    "for i in col_unique.keys():\n",
    "    z = [str('Encode_'+i+'_'+name) for name in col_unique[i] ]\n",
    "    #df_add=pd.DataFrame(columns=z)\n",
    "    new_df[z]=0\n",
    "    for index,data in df.iterrows():\n",
    "        if pd.isnull(data[i]):\n",
    "            continue\n",
    "        n=data[i].split(',')\n",
    "        for nx in n:\n",
    "            nx=nx.replace(' ','')\n",
    "            nx=nx.lower()\n",
    "            if nx!='':\n",
    "                new_df.loc[index,str('Encode_'+i+'_'+nx)]=1\n",
    "    #new_df = pd.concat([new_df,df_add])\n",
    "new_df.head()"
   ]
  },
  {
   "cell_type": "code",
   "execution_count": 30,
   "id": "d38f0cc7-c8b5-47f2-93eb-8708f55e7c29",
   "metadata": {},
   "outputs": [],
   "source": [
    "df.to_csv('KKConnect_data.csv')\n",
    "new_df.to_csv('KKConnect_data_encoding.csv')"
   ]
  },
  {
   "cell_type": "code",
   "execution_count": 31,
   "id": "dd7f6899-0695-45d1-9d4f-80030f0c96d0",
   "metadata": {},
   "outputs": [
    {
     "data": {
      "text/plain": [
       "(125, 266)"
      ]
     },
     "execution_count": 31,
     "metadata": {},
     "output_type": "execute_result"
    }
   ],
   "source": [
    "new_df.shape"
   ]
  },
  {
   "cell_type": "code",
   "execution_count": 32,
   "id": "df5ed92c-f1f0-4a02-9a71-034fad651815",
   "metadata": {},
   "outputs": [
    {
     "data": {
      "text/plain": [
       "(125, 266)"
      ]
     },
     "execution_count": 32,
     "metadata": {},
     "output_type": "execute_result"
    }
   ],
   "source": [
    "new_df=new_df.fillna(0)\n",
    "new_df.shape"
   ]
  },
  {
   "cell_type": "code",
   "execution_count": 39,
   "id": "f8e2bcb4-a23e-4530-95de-97ba2950cf44",
   "metadata": {},
   "outputs": [
    {
     "name": "stdout",
     "output_type": "stream",
     "text": [
      "(58, 266)\n"
     ]
    }
   ],
   "source": [
    "new_df=new_df.loc[new_df[\"Encode_Industry_aerospace\"]==1,]\n",
    "print(new_df.shape)"
   ]
  },
  {
   "cell_type": "code",
   "execution_count": 69,
   "id": "6e4a1f29-9fad-48ee-8aa4-f16091e79274",
   "metadata": {},
   "outputs": [
    {
     "data": {
      "application/vnd.plotly.v1+json": {
       "config": {
        "plotlyServerURL": "https://plot.ly"
       },
       "data": [
        {
         "hovertemplate": "0=%{x}<br>1=%{y}<br>2=%{z}<extra></extra>",
         "legendgroup": "",
         "marker": {
          "color": "#636efa",
          "symbol": "circle"
         },
         "mode": "markers",
         "name": "",
         "scene": "scene",
         "showlegend": false,
         "type": "scatter3d",
         "x": [
          0.9713957811220001,
          0.29177752585211025,
          0.03029213187299319,
          0.971681252715461,
          0.7920813552266533,
          0.979742935993019,
          0.980296287543572,
          0.9564158513065685,
          0.9681373888492022,
          0.02749139729872075,
          0.9798569828693947,
          0.023285712443246984,
          0.027755047239204952,
          0.6733079282423784,
          0.8434724258017885,
          0.961865435474326,
          0.9695776861653426,
          0.9608328759664941,
          0.7049765473256853,
          0.9446759241998197,
          0.9559515731222357,
          0.9588896875887942,
          0.955412033357148,
          0.9723617220345852,
          0.9784326422559837,
          0.9539548123662736,
          0.9810961567119574,
          0.6976953676788464,
          0.7887570226803983,
          0.15706012457814314,
          0.5488911119691195,
          0.9670278131429306,
          0.9735831774524591,
          0.7705493924401235,
          0.9772811125779199,
          0.9772404431027205,
          0.944876938168507,
          0.9408273004657964,
          0.9640601602023621,
          0.044614284922280804,
          0.044204076052765016,
          0.47841581016174584,
          0.9689155894172378,
          0.8074786271345343,
          0.022240062014019162,
          0.9410944573546444,
          0.9393468475018593,
          0.9751629135569556,
          0.9703816720299975,
          0.9802360230505159,
          0.9826627914736594,
          0.9730007457681658,
          0.9705018271329761,
          0.8515383454192885,
          0.014547419348907022,
          0.9783660187971783,
          0.9601191617165094,
          0.9765445690636546
         ],
         "y": [
          0.012684157586864541,
          0.016995518165908594,
          0.026418444223733555,
          0.01354777451603423,
          0.19166199742654816,
          0.009717483719382972,
          0.009446132081639892,
          0.02112008861706876,
          0.015502761473115845,
          0.019867225796828702,
          0.009741783143197087,
          0.018885639644196078,
          0.024107221234109272,
          0.3094004549421108,
          0.12121326250065081,
          0.018226373142817463,
          0.014500510193734443,
          0.018898250836085644,
          0.013037795640717673,
          0.0265424227069209,
          0.021064892839727036,
          0.021782629649440114,
          0.021042010477850037,
          0.013298293134222705,
          0.010469197761246773,
          0.0218344215161725,
          0.00933969760231989,
          0.027347894688757715,
          0.19400791093635425,
          0.01496470081281117,
          0.43661963490517497,
          0.016345201321579312,
          0.012591988556660777,
          0.01684868580581795,
          0.011117791636311417,
          0.011091284859547091,
          0.026201638837698632,
          0.028110915708593722,
          0.017395590784675938,
          0.03730815291420753,
          0.03742770156426807,
          0.011101943635594587,
          0.014952082450442682,
          0.15147301814369488,
          0.01716134223018139,
          0.02799345335360522,
          0.030889637556113004,
          0.012244755791447183,
          0.014817412772636096,
          0.009681483368821816,
          0.008483315737714825,
          0.013161608393361827,
          0.014049837276539714,
          0.13474230665005946,
          0.01166461085116292,
          0.010403271846506726,
          0.017781224752350937,
          0.011352534359046257
         ],
         "z": [
          0.015920061291135275,
          0.6912269559819811,
          0.9432894239032733,
          0.014770972768504803,
          0.01625664734679866,
          0.010539580287598094,
          0.010257580374787993,
          0.022464060076362757,
          0.01635984967768202,
          0.9526413769044505,
          0.010401233987408248,
          0.957828647912557,
          0.9481377315266858,
          0.017291616815510908,
          0.03531431169756075,
          0.019908191382856544,
          0.015921803640923,
          0.02026887319742026,
          0.28198565703359707,
          0.028781653093259384,
          0.02298353403803731,
          0.01932768276176571,
          0.02354595616500188,
          0.014339984831192103,
          0.011098159982769498,
          0.024210766117553944,
          0.009564145685722706,
          0.274956737632396,
          0.017235066383247524,
          0.8279751746090457,
          0.014489253125705613,
          0.01662698553549015,
          0.013824833990880065,
          0.2126019217540585,
          0.011601095785768758,
          0.011668272037732455,
          0.0289214229937944,
          0.031061783825609854,
          0.018544249012961925,
          0.9180775621635117,
          0.9183682223829669,
          0.5104822462026596,
          0.016132328132319552,
          0.041048354721770666,
          0.9605985957557995,
          0.030912089291750586,
          0.029763514942027742,
          0.012592330651597221,
          0.014800915197366418,
          0.010082493580662294,
          0.008853892788625676,
          0.013837645838472478,
          0.015448335590484117,
          0.01371934793065206,
          0.9737879697999301,
          0.011230709356315118,
          0.0220996135311397,
          0.012102896577299158
         ]
        }
       ],
       "layout": {
        "height": 800,
        "legend": {
         "tracegroupgap": 0
        },
        "margin": {
         "t": 60
        },
        "scene": {
         "aspectmode": "auto",
         "aspectratio": {
          "x": 1.3139883228380538,
          "y": 0.5810940928809213,
          "z": 1.309670464914366
         },
         "camera": {
          "center": {
           "x": 0,
           "y": 0,
           "z": 0
          },
          "eye": {
           "x": 0.7173937682319107,
           "y": 0.7173937682319105,
           "z": 0.7173937682319107
          },
          "projection": {
           "type": "perspective"
          },
          "up": {
           "x": 0,
           "y": 0,
           "z": 1
          }
         },
         "domain": {
          "x": [
           0,
           1
          ],
          "y": [
           0,
           1
          ]
         },
         "xaxis": {
          "title": {
           "text": "0"
          },
          "type": "linear"
         },
         "yaxis": {
          "title": {
           "text": "1"
          },
          "type": "linear"
         },
         "zaxis": {
          "title": {
           "text": "2"
          },
          "type": "linear"
         }
        },
        "template": {
         "data": {
          "bar": [
           {
            "error_x": {
             "color": "#2a3f5f"
            },
            "error_y": {
             "color": "#2a3f5f"
            },
            "marker": {
             "line": {
              "color": "#E5ECF6",
              "width": 0.5
             },
             "pattern": {
              "fillmode": "overlay",
              "size": 10,
              "solidity": 0.2
             }
            },
            "type": "bar"
           }
          ],
          "barpolar": [
           {
            "marker": {
             "line": {
              "color": "#E5ECF6",
              "width": 0.5
             },
             "pattern": {
              "fillmode": "overlay",
              "size": 10,
              "solidity": 0.2
             }
            },
            "type": "barpolar"
           }
          ],
          "carpet": [
           {
            "aaxis": {
             "endlinecolor": "#2a3f5f",
             "gridcolor": "white",
             "linecolor": "white",
             "minorgridcolor": "white",
             "startlinecolor": "#2a3f5f"
            },
            "baxis": {
             "endlinecolor": "#2a3f5f",
             "gridcolor": "white",
             "linecolor": "white",
             "minorgridcolor": "white",
             "startlinecolor": "#2a3f5f"
            },
            "type": "carpet"
           }
          ],
          "choropleth": [
           {
            "colorbar": {
             "outlinewidth": 0,
             "ticks": ""
            },
            "type": "choropleth"
           }
          ],
          "contour": [
           {
            "colorbar": {
             "outlinewidth": 0,
             "ticks": ""
            },
            "colorscale": [
             [
              0,
              "#0d0887"
             ],
             [
              0.1111111111111111,
              "#46039f"
             ],
             [
              0.2222222222222222,
              "#7201a8"
             ],
             [
              0.3333333333333333,
              "#9c179e"
             ],
             [
              0.4444444444444444,
              "#bd3786"
             ],
             [
              0.5555555555555556,
              "#d8576b"
             ],
             [
              0.6666666666666666,
              "#ed7953"
             ],
             [
              0.7777777777777778,
              "#fb9f3a"
             ],
             [
              0.8888888888888888,
              "#fdca26"
             ],
             [
              1,
              "#f0f921"
             ]
            ],
            "type": "contour"
           }
          ],
          "contourcarpet": [
           {
            "colorbar": {
             "outlinewidth": 0,
             "ticks": ""
            },
            "type": "contourcarpet"
           }
          ],
          "heatmap": [
           {
            "colorbar": {
             "outlinewidth": 0,
             "ticks": ""
            },
            "colorscale": [
             [
              0,
              "#0d0887"
             ],
             [
              0.1111111111111111,
              "#46039f"
             ],
             [
              0.2222222222222222,
              "#7201a8"
             ],
             [
              0.3333333333333333,
              "#9c179e"
             ],
             [
              0.4444444444444444,
              "#bd3786"
             ],
             [
              0.5555555555555556,
              "#d8576b"
             ],
             [
              0.6666666666666666,
              "#ed7953"
             ],
             [
              0.7777777777777778,
              "#fb9f3a"
             ],
             [
              0.8888888888888888,
              "#fdca26"
             ],
             [
              1,
              "#f0f921"
             ]
            ],
            "type": "heatmap"
           }
          ],
          "heatmapgl": [
           {
            "colorbar": {
             "outlinewidth": 0,
             "ticks": ""
            },
            "colorscale": [
             [
              0,
              "#0d0887"
             ],
             [
              0.1111111111111111,
              "#46039f"
             ],
             [
              0.2222222222222222,
              "#7201a8"
             ],
             [
              0.3333333333333333,
              "#9c179e"
             ],
             [
              0.4444444444444444,
              "#bd3786"
             ],
             [
              0.5555555555555556,
              "#d8576b"
             ],
             [
              0.6666666666666666,
              "#ed7953"
             ],
             [
              0.7777777777777778,
              "#fb9f3a"
             ],
             [
              0.8888888888888888,
              "#fdca26"
             ],
             [
              1,
              "#f0f921"
             ]
            ],
            "type": "heatmapgl"
           }
          ],
          "histogram": [
           {
            "marker": {
             "pattern": {
              "fillmode": "overlay",
              "size": 10,
              "solidity": 0.2
             }
            },
            "type": "histogram"
           }
          ],
          "histogram2d": [
           {
            "colorbar": {
             "outlinewidth": 0,
             "ticks": ""
            },
            "colorscale": [
             [
              0,
              "#0d0887"
             ],
             [
              0.1111111111111111,
              "#46039f"
             ],
             [
              0.2222222222222222,
              "#7201a8"
             ],
             [
              0.3333333333333333,
              "#9c179e"
             ],
             [
              0.4444444444444444,
              "#bd3786"
             ],
             [
              0.5555555555555556,
              "#d8576b"
             ],
             [
              0.6666666666666666,
              "#ed7953"
             ],
             [
              0.7777777777777778,
              "#fb9f3a"
             ],
             [
              0.8888888888888888,
              "#fdca26"
             ],
             [
              1,
              "#f0f921"
             ]
            ],
            "type": "histogram2d"
           }
          ],
          "histogram2dcontour": [
           {
            "colorbar": {
             "outlinewidth": 0,
             "ticks": ""
            },
            "colorscale": [
             [
              0,
              "#0d0887"
             ],
             [
              0.1111111111111111,
              "#46039f"
             ],
             [
              0.2222222222222222,
              "#7201a8"
             ],
             [
              0.3333333333333333,
              "#9c179e"
             ],
             [
              0.4444444444444444,
              "#bd3786"
             ],
             [
              0.5555555555555556,
              "#d8576b"
             ],
             [
              0.6666666666666666,
              "#ed7953"
             ],
             [
              0.7777777777777778,
              "#fb9f3a"
             ],
             [
              0.8888888888888888,
              "#fdca26"
             ],
             [
              1,
              "#f0f921"
             ]
            ],
            "type": "histogram2dcontour"
           }
          ],
          "mesh3d": [
           {
            "colorbar": {
             "outlinewidth": 0,
             "ticks": ""
            },
            "type": "mesh3d"
           }
          ],
          "parcoords": [
           {
            "line": {
             "colorbar": {
              "outlinewidth": 0,
              "ticks": ""
             }
            },
            "type": "parcoords"
           }
          ],
          "pie": [
           {
            "automargin": true,
            "type": "pie"
           }
          ],
          "scatter": [
           {
            "fillpattern": {
             "fillmode": "overlay",
             "size": 10,
             "solidity": 0.2
            },
            "type": "scatter"
           }
          ],
          "scatter3d": [
           {
            "line": {
             "colorbar": {
              "outlinewidth": 0,
              "ticks": ""
             }
            },
            "marker": {
             "colorbar": {
              "outlinewidth": 0,
              "ticks": ""
             }
            },
            "type": "scatter3d"
           }
          ],
          "scattercarpet": [
           {
            "marker": {
             "colorbar": {
              "outlinewidth": 0,
              "ticks": ""
             }
            },
            "type": "scattercarpet"
           }
          ],
          "scattergeo": [
           {
            "marker": {
             "colorbar": {
              "outlinewidth": 0,
              "ticks": ""
             }
            },
            "type": "scattergeo"
           }
          ],
          "scattergl": [
           {
            "marker": {
             "colorbar": {
              "outlinewidth": 0,
              "ticks": ""
             }
            },
            "type": "scattergl"
           }
          ],
          "scattermapbox": [
           {
            "marker": {
             "colorbar": {
              "outlinewidth": 0,
              "ticks": ""
             }
            },
            "type": "scattermapbox"
           }
          ],
          "scatterpolar": [
           {
            "marker": {
             "colorbar": {
              "outlinewidth": 0,
              "ticks": ""
             }
            },
            "type": "scatterpolar"
           }
          ],
          "scatterpolargl": [
           {
            "marker": {
             "colorbar": {
              "outlinewidth": 0,
              "ticks": ""
             }
            },
            "type": "scatterpolargl"
           }
          ],
          "scatterternary": [
           {
            "marker": {
             "colorbar": {
              "outlinewidth": 0,
              "ticks": ""
             }
            },
            "type": "scatterternary"
           }
          ],
          "surface": [
           {
            "colorbar": {
             "outlinewidth": 0,
             "ticks": ""
            },
            "colorscale": [
             [
              0,
              "#0d0887"
             ],
             [
              0.1111111111111111,
              "#46039f"
             ],
             [
              0.2222222222222222,
              "#7201a8"
             ],
             [
              0.3333333333333333,
              "#9c179e"
             ],
             [
              0.4444444444444444,
              "#bd3786"
             ],
             [
              0.5555555555555556,
              "#d8576b"
             ],
             [
              0.6666666666666666,
              "#ed7953"
             ],
             [
              0.7777777777777778,
              "#fb9f3a"
             ],
             [
              0.8888888888888888,
              "#fdca26"
             ],
             [
              1,
              "#f0f921"
             ]
            ],
            "type": "surface"
           }
          ],
          "table": [
           {
            "cells": {
             "fill": {
              "color": "#EBF0F8"
             },
             "line": {
              "color": "white"
             }
            },
            "header": {
             "fill": {
              "color": "#C8D4E3"
             },
             "line": {
              "color": "white"
             }
            },
            "type": "table"
           }
          ]
         },
         "layout": {
          "annotationdefaults": {
           "arrowcolor": "#2a3f5f",
           "arrowhead": 0,
           "arrowwidth": 1
          },
          "autotypenumbers": "strict",
          "coloraxis": {
           "colorbar": {
            "outlinewidth": 0,
            "ticks": ""
           }
          },
          "colorscale": {
           "diverging": [
            [
             0,
             "#8e0152"
            ],
            [
             0.1,
             "#c51b7d"
            ],
            [
             0.2,
             "#de77ae"
            ],
            [
             0.3,
             "#f1b6da"
            ],
            [
             0.4,
             "#fde0ef"
            ],
            [
             0.5,
             "#f7f7f7"
            ],
            [
             0.6,
             "#e6f5d0"
            ],
            [
             0.7,
             "#b8e186"
            ],
            [
             0.8,
             "#7fbc41"
            ],
            [
             0.9,
             "#4d9221"
            ],
            [
             1,
             "#276419"
            ]
           ],
           "sequential": [
            [
             0,
             "#0d0887"
            ],
            [
             0.1111111111111111,
             "#46039f"
            ],
            [
             0.2222222222222222,
             "#7201a8"
            ],
            [
             0.3333333333333333,
             "#9c179e"
            ],
            [
             0.4444444444444444,
             "#bd3786"
            ],
            [
             0.5555555555555556,
             "#d8576b"
            ],
            [
             0.6666666666666666,
             "#ed7953"
            ],
            [
             0.7777777777777778,
             "#fb9f3a"
            ],
            [
             0.8888888888888888,
             "#fdca26"
            ],
            [
             1,
             "#f0f921"
            ]
           ],
           "sequentialminus": [
            [
             0,
             "#0d0887"
            ],
            [
             0.1111111111111111,
             "#46039f"
            ],
            [
             0.2222222222222222,
             "#7201a8"
            ],
            [
             0.3333333333333333,
             "#9c179e"
            ],
            [
             0.4444444444444444,
             "#bd3786"
            ],
            [
             0.5555555555555556,
             "#d8576b"
            ],
            [
             0.6666666666666666,
             "#ed7953"
            ],
            [
             0.7777777777777778,
             "#fb9f3a"
            ],
            [
             0.8888888888888888,
             "#fdca26"
            ],
            [
             1,
             "#f0f921"
            ]
           ]
          },
          "colorway": [
           "#636efa",
           "#EF553B",
           "#00cc96",
           "#ab63fa",
           "#FFA15A",
           "#19d3f3",
           "#FF6692",
           "#B6E880",
           "#FF97FF",
           "#FECB52"
          ],
          "font": {
           "color": "#2a3f5f"
          },
          "geo": {
           "bgcolor": "white",
           "lakecolor": "white",
           "landcolor": "#E5ECF6",
           "showlakes": true,
           "showland": true,
           "subunitcolor": "white"
          },
          "hoverlabel": {
           "align": "left"
          },
          "hovermode": "closest",
          "mapbox": {
           "style": "light"
          },
          "paper_bgcolor": "white",
          "plot_bgcolor": "#E5ECF6",
          "polar": {
           "angularaxis": {
            "gridcolor": "white",
            "linecolor": "white",
            "ticks": ""
           },
           "bgcolor": "#E5ECF6",
           "radialaxis": {
            "gridcolor": "white",
            "linecolor": "white",
            "ticks": ""
           }
          },
          "scene": {
           "xaxis": {
            "backgroundcolor": "#E5ECF6",
            "gridcolor": "white",
            "gridwidth": 2,
            "linecolor": "white",
            "showbackground": true,
            "ticks": "",
            "zerolinecolor": "white"
           },
           "yaxis": {
            "backgroundcolor": "#E5ECF6",
            "gridcolor": "white",
            "gridwidth": 2,
            "linecolor": "white",
            "showbackground": true,
            "ticks": "",
            "zerolinecolor": "white"
           },
           "zaxis": {
            "backgroundcolor": "#E5ECF6",
            "gridcolor": "white",
            "gridwidth": 2,
            "linecolor": "white",
            "showbackground": true,
            "ticks": "",
            "zerolinecolor": "white"
           }
          },
          "shapedefaults": {
           "line": {
            "color": "#2a3f5f"
           }
          },
          "ternary": {
           "aaxis": {
            "gridcolor": "white",
            "linecolor": "white",
            "ticks": ""
           },
           "baxis": {
            "gridcolor": "white",
            "linecolor": "white",
            "ticks": ""
           },
           "bgcolor": "#E5ECF6",
           "caxis": {
            "gridcolor": "white",
            "linecolor": "white",
            "ticks": ""
           }
          },
          "title": {
           "x": 0.05
          },
          "xaxis": {
           "automargin": true,
           "gridcolor": "white",
           "linecolor": "white",
           "ticks": "",
           "title": {
            "standoff": 15
           },
           "zerolinecolor": "white",
           "zerolinewidth": 2
          },
          "yaxis": {
           "automargin": true,
           "gridcolor": "white",
           "linecolor": "white",
           "ticks": "",
           "title": {
            "standoff": 15
           },
           "zerolinecolor": "white",
           "zerolinewidth": 2
          }
         }
        },
        "width": 800
       }
      },
      "text/html": [
       "<div>                            <div id=\"c3ef9431-621e-446c-b295-6aaf945d6a15\" class=\"plotly-graph-div\" style=\"height:800px; width:800px;\"></div>            <script type=\"text/javascript\">                require([\"plotly\"], function(Plotly) {                    window.PLOTLYENV=window.PLOTLYENV || {};                                    if (document.getElementById(\"c3ef9431-621e-446c-b295-6aaf945d6a15\")) {                    Plotly.newPlot(                        \"c3ef9431-621e-446c-b295-6aaf945d6a15\",                        [{\"hovertemplate\":\"0=%{x}\\u003cbr\\u003e1=%{y}\\u003cbr\\u003e2=%{z}\\u003cextra\\u003e\\u003c\\u002fextra\\u003e\",\"legendgroup\":\"\",\"marker\":{\"color\":\"#636efa\",\"symbol\":\"circle\"},\"mode\":\"markers\",\"name\":\"\",\"scene\":\"scene\",\"showlegend\":false,\"x\":[0.9713957811220001,0.29177752585211025,0.03029213187299319,0.971681252715461,0.7920813552266533,0.979742935993019,0.980296287543572,0.9564158513065685,0.9681373888492022,0.02749139729872075,0.9798569828693947,0.023285712443246984,0.027755047239204952,0.6733079282423784,0.8434724258017885,0.961865435474326,0.9695776861653426,0.9608328759664941,0.7049765473256853,0.9446759241998197,0.9559515731222357,0.9588896875887942,0.955412033357148,0.9723617220345852,0.9784326422559837,0.9539548123662736,0.9810961567119574,0.6976953676788464,0.7887570226803983,0.15706012457814314,0.5488911119691195,0.9670278131429306,0.9735831774524591,0.7705493924401235,0.9772811125779199,0.9772404431027205,0.944876938168507,0.9408273004657964,0.9640601602023621,0.044614284922280804,0.044204076052765016,0.47841581016174584,0.9689155894172378,0.8074786271345343,0.022240062014019162,0.9410944573546444,0.9393468475018593,0.9751629135569556,0.9703816720299975,0.9802360230505159,0.9826627914736594,0.9730007457681658,0.9705018271329761,0.8515383454192885,0.014547419348907022,0.9783660187971783,0.9601191617165094,0.9765445690636546],\"y\":[0.012684157586864541,0.016995518165908594,0.026418444223733555,0.01354777451603423,0.19166199742654816,0.009717483719382972,0.009446132081639892,0.02112008861706876,0.015502761473115845,0.019867225796828702,0.009741783143197087,0.018885639644196078,0.024107221234109272,0.3094004549421108,0.12121326250065081,0.018226373142817463,0.014500510193734443,0.018898250836085644,0.013037795640717673,0.0265424227069209,0.021064892839727036,0.021782629649440114,0.021042010477850037,0.013298293134222705,0.010469197761246773,0.0218344215161725,0.00933969760231989,0.027347894688757715,0.19400791093635425,0.01496470081281117,0.43661963490517497,0.016345201321579312,0.012591988556660777,0.01684868580581795,0.011117791636311417,0.011091284859547091,0.026201638837698632,0.028110915708593722,0.017395590784675938,0.03730815291420753,0.03742770156426807,0.011101943635594587,0.014952082450442682,0.15147301814369488,0.01716134223018139,0.02799345335360522,0.030889637556113004,0.012244755791447183,0.014817412772636096,0.009681483368821816,0.008483315737714825,0.013161608393361827,0.014049837276539714,0.13474230665005946,0.01166461085116292,0.010403271846506726,0.017781224752350937,0.011352534359046257],\"z\":[0.015920061291135275,0.6912269559819811,0.9432894239032733,0.014770972768504803,0.01625664734679866,0.010539580287598094,0.010257580374787993,0.022464060076362757,0.01635984967768202,0.9526413769044505,0.010401233987408248,0.957828647912557,0.9481377315266858,0.017291616815510908,0.03531431169756075,0.019908191382856544,0.015921803640923,0.02026887319742026,0.28198565703359707,0.028781653093259384,0.02298353403803731,0.01932768276176571,0.02354595616500188,0.014339984831192103,0.011098159982769498,0.024210766117553944,0.009564145685722706,0.274956737632396,0.017235066383247524,0.8279751746090457,0.014489253125705613,0.01662698553549015,0.013824833990880065,0.2126019217540585,0.011601095785768758,0.011668272037732455,0.0289214229937944,0.031061783825609854,0.018544249012961925,0.9180775621635117,0.9183682223829669,0.5104822462026596,0.016132328132319552,0.041048354721770666,0.9605985957557995,0.030912089291750586,0.029763514942027742,0.012592330651597221,0.014800915197366418,0.010082493580662294,0.008853892788625676,0.013837645838472478,0.015448335590484117,0.01371934793065206,0.9737879697999301,0.011230709356315118,0.0220996135311397,0.012102896577299158],\"type\":\"scatter3d\"}],                        {\"template\":{\"data\":{\"histogram2dcontour\":[{\"type\":\"histogram2dcontour\",\"colorbar\":{\"outlinewidth\":0,\"ticks\":\"\"},\"colorscale\":[[0.0,\"#0d0887\"],[0.1111111111111111,\"#46039f\"],[0.2222222222222222,\"#7201a8\"],[0.3333333333333333,\"#9c179e\"],[0.4444444444444444,\"#bd3786\"],[0.5555555555555556,\"#d8576b\"],[0.6666666666666666,\"#ed7953\"],[0.7777777777777778,\"#fb9f3a\"],[0.8888888888888888,\"#fdca26\"],[1.0,\"#f0f921\"]]}],\"choropleth\":[{\"type\":\"choropleth\",\"colorbar\":{\"outlinewidth\":0,\"ticks\":\"\"}}],\"histogram2d\":[{\"type\":\"histogram2d\",\"colorbar\":{\"outlinewidth\":0,\"ticks\":\"\"},\"colorscale\":[[0.0,\"#0d0887\"],[0.1111111111111111,\"#46039f\"],[0.2222222222222222,\"#7201a8\"],[0.3333333333333333,\"#9c179e\"],[0.4444444444444444,\"#bd3786\"],[0.5555555555555556,\"#d8576b\"],[0.6666666666666666,\"#ed7953\"],[0.7777777777777778,\"#fb9f3a\"],[0.8888888888888888,\"#fdca26\"],[1.0,\"#f0f921\"]]}],\"heatmap\":[{\"type\":\"heatmap\",\"colorbar\":{\"outlinewidth\":0,\"ticks\":\"\"},\"colorscale\":[[0.0,\"#0d0887\"],[0.1111111111111111,\"#46039f\"],[0.2222222222222222,\"#7201a8\"],[0.3333333333333333,\"#9c179e\"],[0.4444444444444444,\"#bd3786\"],[0.5555555555555556,\"#d8576b\"],[0.6666666666666666,\"#ed7953\"],[0.7777777777777778,\"#fb9f3a\"],[0.8888888888888888,\"#fdca26\"],[1.0,\"#f0f921\"]]}],\"heatmapgl\":[{\"type\":\"heatmapgl\",\"colorbar\":{\"outlinewidth\":0,\"ticks\":\"\"},\"colorscale\":[[0.0,\"#0d0887\"],[0.1111111111111111,\"#46039f\"],[0.2222222222222222,\"#7201a8\"],[0.3333333333333333,\"#9c179e\"],[0.4444444444444444,\"#bd3786\"],[0.5555555555555556,\"#d8576b\"],[0.6666666666666666,\"#ed7953\"],[0.7777777777777778,\"#fb9f3a\"],[0.8888888888888888,\"#fdca26\"],[1.0,\"#f0f921\"]]}],\"contourcarpet\":[{\"type\":\"contourcarpet\",\"colorbar\":{\"outlinewidth\":0,\"ticks\":\"\"}}],\"contour\":[{\"type\":\"contour\",\"colorbar\":{\"outlinewidth\":0,\"ticks\":\"\"},\"colorscale\":[[0.0,\"#0d0887\"],[0.1111111111111111,\"#46039f\"],[0.2222222222222222,\"#7201a8\"],[0.3333333333333333,\"#9c179e\"],[0.4444444444444444,\"#bd3786\"],[0.5555555555555556,\"#d8576b\"],[0.6666666666666666,\"#ed7953\"],[0.7777777777777778,\"#fb9f3a\"],[0.8888888888888888,\"#fdca26\"],[1.0,\"#f0f921\"]]}],\"surface\":[{\"type\":\"surface\",\"colorbar\":{\"outlinewidth\":0,\"ticks\":\"\"},\"colorscale\":[[0.0,\"#0d0887\"],[0.1111111111111111,\"#46039f\"],[0.2222222222222222,\"#7201a8\"],[0.3333333333333333,\"#9c179e\"],[0.4444444444444444,\"#bd3786\"],[0.5555555555555556,\"#d8576b\"],[0.6666666666666666,\"#ed7953\"],[0.7777777777777778,\"#fb9f3a\"],[0.8888888888888888,\"#fdca26\"],[1.0,\"#f0f921\"]]}],\"mesh3d\":[{\"type\":\"mesh3d\",\"colorbar\":{\"outlinewidth\":0,\"ticks\":\"\"}}],\"scatter\":[{\"fillpattern\":{\"fillmode\":\"overlay\",\"size\":10,\"solidity\":0.2},\"type\":\"scatter\"}],\"parcoords\":[{\"type\":\"parcoords\",\"line\":{\"colorbar\":{\"outlinewidth\":0,\"ticks\":\"\"}}}],\"scatterpolargl\":[{\"type\":\"scatterpolargl\",\"marker\":{\"colorbar\":{\"outlinewidth\":0,\"ticks\":\"\"}}}],\"bar\":[{\"error_x\":{\"color\":\"#2a3f5f\"},\"error_y\":{\"color\":\"#2a3f5f\"},\"marker\":{\"line\":{\"color\":\"#E5ECF6\",\"width\":0.5},\"pattern\":{\"fillmode\":\"overlay\",\"size\":10,\"solidity\":0.2}},\"type\":\"bar\"}],\"scattergeo\":[{\"type\":\"scattergeo\",\"marker\":{\"colorbar\":{\"outlinewidth\":0,\"ticks\":\"\"}}}],\"scatterpolar\":[{\"type\":\"scatterpolar\",\"marker\":{\"colorbar\":{\"outlinewidth\":0,\"ticks\":\"\"}}}],\"histogram\":[{\"marker\":{\"pattern\":{\"fillmode\":\"overlay\",\"size\":10,\"solidity\":0.2}},\"type\":\"histogram\"}],\"scattergl\":[{\"type\":\"scattergl\",\"marker\":{\"colorbar\":{\"outlinewidth\":0,\"ticks\":\"\"}}}],\"scatter3d\":[{\"type\":\"scatter3d\",\"line\":{\"colorbar\":{\"outlinewidth\":0,\"ticks\":\"\"}},\"marker\":{\"colorbar\":{\"outlinewidth\":0,\"ticks\":\"\"}}}],\"scattermapbox\":[{\"type\":\"scattermapbox\",\"marker\":{\"colorbar\":{\"outlinewidth\":0,\"ticks\":\"\"}}}],\"scatterternary\":[{\"type\":\"scatterternary\",\"marker\":{\"colorbar\":{\"outlinewidth\":0,\"ticks\":\"\"}}}],\"scattercarpet\":[{\"type\":\"scattercarpet\",\"marker\":{\"colorbar\":{\"outlinewidth\":0,\"ticks\":\"\"}}}],\"carpet\":[{\"aaxis\":{\"endlinecolor\":\"#2a3f5f\",\"gridcolor\":\"white\",\"linecolor\":\"white\",\"minorgridcolor\":\"white\",\"startlinecolor\":\"#2a3f5f\"},\"baxis\":{\"endlinecolor\":\"#2a3f5f\",\"gridcolor\":\"white\",\"linecolor\":\"white\",\"minorgridcolor\":\"white\",\"startlinecolor\":\"#2a3f5f\"},\"type\":\"carpet\"}],\"table\":[{\"cells\":{\"fill\":{\"color\":\"#EBF0F8\"},\"line\":{\"color\":\"white\"}},\"header\":{\"fill\":{\"color\":\"#C8D4E3\"},\"line\":{\"color\":\"white\"}},\"type\":\"table\"}],\"barpolar\":[{\"marker\":{\"line\":{\"color\":\"#E5ECF6\",\"width\":0.5},\"pattern\":{\"fillmode\":\"overlay\",\"size\":10,\"solidity\":0.2}},\"type\":\"barpolar\"}],\"pie\":[{\"automargin\":true,\"type\":\"pie\"}]},\"layout\":{\"autotypenumbers\":\"strict\",\"colorway\":[\"#636efa\",\"#EF553B\",\"#00cc96\",\"#ab63fa\",\"#FFA15A\",\"#19d3f3\",\"#FF6692\",\"#B6E880\",\"#FF97FF\",\"#FECB52\"],\"font\":{\"color\":\"#2a3f5f\"},\"hovermode\":\"closest\",\"hoverlabel\":{\"align\":\"left\"},\"paper_bgcolor\":\"white\",\"plot_bgcolor\":\"#E5ECF6\",\"polar\":{\"bgcolor\":\"#E5ECF6\",\"angularaxis\":{\"gridcolor\":\"white\",\"linecolor\":\"white\",\"ticks\":\"\"},\"radialaxis\":{\"gridcolor\":\"white\",\"linecolor\":\"white\",\"ticks\":\"\"}},\"ternary\":{\"bgcolor\":\"#E5ECF6\",\"aaxis\":{\"gridcolor\":\"white\",\"linecolor\":\"white\",\"ticks\":\"\"},\"baxis\":{\"gridcolor\":\"white\",\"linecolor\":\"white\",\"ticks\":\"\"},\"caxis\":{\"gridcolor\":\"white\",\"linecolor\":\"white\",\"ticks\":\"\"}},\"coloraxis\":{\"colorbar\":{\"outlinewidth\":0,\"ticks\":\"\"}},\"colorscale\":{\"sequential\":[[0.0,\"#0d0887\"],[0.1111111111111111,\"#46039f\"],[0.2222222222222222,\"#7201a8\"],[0.3333333333333333,\"#9c179e\"],[0.4444444444444444,\"#bd3786\"],[0.5555555555555556,\"#d8576b\"],[0.6666666666666666,\"#ed7953\"],[0.7777777777777778,\"#fb9f3a\"],[0.8888888888888888,\"#fdca26\"],[1.0,\"#f0f921\"]],\"sequentialminus\":[[0.0,\"#0d0887\"],[0.1111111111111111,\"#46039f\"],[0.2222222222222222,\"#7201a8\"],[0.3333333333333333,\"#9c179e\"],[0.4444444444444444,\"#bd3786\"],[0.5555555555555556,\"#d8576b\"],[0.6666666666666666,\"#ed7953\"],[0.7777777777777778,\"#fb9f3a\"],[0.8888888888888888,\"#fdca26\"],[1.0,\"#f0f921\"]],\"diverging\":[[0,\"#8e0152\"],[0.1,\"#c51b7d\"],[0.2,\"#de77ae\"],[0.3,\"#f1b6da\"],[0.4,\"#fde0ef\"],[0.5,\"#f7f7f7\"],[0.6,\"#e6f5d0\"],[0.7,\"#b8e186\"],[0.8,\"#7fbc41\"],[0.9,\"#4d9221\"],[1,\"#276419\"]]},\"xaxis\":{\"gridcolor\":\"white\",\"linecolor\":\"white\",\"ticks\":\"\",\"title\":{\"standoff\":15},\"zerolinecolor\":\"white\",\"automargin\":true,\"zerolinewidth\":2},\"yaxis\":{\"gridcolor\":\"white\",\"linecolor\":\"white\",\"ticks\":\"\",\"title\":{\"standoff\":15},\"zerolinecolor\":\"white\",\"automargin\":true,\"zerolinewidth\":2},\"scene\":{\"xaxis\":{\"backgroundcolor\":\"#E5ECF6\",\"gridcolor\":\"white\",\"linecolor\":\"white\",\"showbackground\":true,\"ticks\":\"\",\"zerolinecolor\":\"white\",\"gridwidth\":2},\"yaxis\":{\"backgroundcolor\":\"#E5ECF6\",\"gridcolor\":\"white\",\"linecolor\":\"white\",\"showbackground\":true,\"ticks\":\"\",\"zerolinecolor\":\"white\",\"gridwidth\":2},\"zaxis\":{\"backgroundcolor\":\"#E5ECF6\",\"gridcolor\":\"white\",\"linecolor\":\"white\",\"showbackground\":true,\"ticks\":\"\",\"zerolinecolor\":\"white\",\"gridwidth\":2}},\"shapedefaults\":{\"line\":{\"color\":\"#2a3f5f\"}},\"annotationdefaults\":{\"arrowcolor\":\"#2a3f5f\",\"arrowhead\":0,\"arrowwidth\":1},\"geo\":{\"bgcolor\":\"white\",\"landcolor\":\"#E5ECF6\",\"subunitcolor\":\"white\",\"showland\":true,\"showlakes\":true,\"lakecolor\":\"white\"},\"title\":{\"x\":0.05},\"mapbox\":{\"style\":\"light\"}}},\"scene\":{\"domain\":{\"x\":[0.0,1.0],\"y\":[0.0,1.0]},\"xaxis\":{\"title\":{\"text\":\"0\"}},\"yaxis\":{\"title\":{\"text\":\"1\"}},\"zaxis\":{\"title\":{\"text\":\"2\"}}},\"legend\":{\"tracegroupgap\":0},\"margin\":{\"t\":60},\"height\":800,\"width\":800},                        {\"responsive\": true}                    ).then(function(){\n",
       "                            \n",
       "var gd = document.getElementById('c3ef9431-621e-446c-b295-6aaf945d6a15');\n",
       "var x = new MutationObserver(function (mutations, observer) {{\n",
       "        var display = window.getComputedStyle(gd).display;\n",
       "        if (!display || display === 'none') {{\n",
       "            console.log([gd, 'removed!']);\n",
       "            Plotly.purge(gd);\n",
       "            observer.disconnect();\n",
       "        }}\n",
       "}});\n",
       "\n",
       "// Listen for the removal of the full notebook cells\n",
       "var notebookContainer = gd.closest('#notebook-container');\n",
       "if (notebookContainer) {{\n",
       "    x.observe(notebookContainer, {childList: true});\n",
       "}}\n",
       "\n",
       "// Listen for the clearing of the current output cell\n",
       "var outputEl = gd.closest('.output');\n",
       "if (outputEl) {{\n",
       "    x.observe(outputEl, {childList: true});\n",
       "}}\n",
       "\n",
       "                        })                };                });            </script>        </div>"
      ]
     },
     "metadata": {},
     "output_type": "display_data"
    }
   ],
   "source": [
    "from sklearn.decomposition import LatentDirichletAllocation\n",
    "import plotly.express as px\n",
    "lda = LatentDirichletAllocation(n_components=3,random_state=0)\n",
    "lda.fit(new_df.drop(['Name','Location'],axis=1))\n",
    "X=lda.transform(new_df.drop(['Name','Location'],axis=1))\n",
    "fig = px.scatter_3d(X, x=0, y=1, z=2,width=800, height=800)\n",
    "fig.show()"
   ]
  },
  {
   "cell_type": "code",
   "execution_count": 70,
   "id": "b62b917c-af0f-4057-a1d8-3b5386981e0b",
   "metadata": {},
   "outputs": [
    {
     "data": {
      "text/plain": [
       "Text(0, 0.5, 'Inertia')"
      ]
     },
     "execution_count": 70,
     "metadata": {},
     "output_type": "execute_result"
    },
    {
     "data": {
      "image/png": "[encoded data removed]",
      "text/plain": [
       "<Figure size 640x480 with 1 Axes>"
      ]
     },
     "metadata": {},
     "output_type": "display_data"
    }
   ],
   "source": [
    "from sklearn.cluster import KMeans\n",
    "from sklearn.metrics import silhouette_score\n",
    "import matplotlib.pyplot as plt\n",
    "rr=[]\n",
    "inertia=[]\n",
    "ss=[]\n",
    "for i in range(2,10):\n",
    "    neigh = KMeans(n_clusters=i)\n",
    "    rr.append(i)\n",
    "    neigh.fit(new_df.drop(['Name','Location'],axis=1))\n",
    "    inertia.append(neigh.inertia_)\n",
    "    ss.append(round(silhouette_score(new_df.drop(['Name','Location'],axis=1),neigh.labels_),3))\n",
    "plt.plot(rr,inertia)\n",
    "plt.xlabel(\"No of cluster\")\n",
    "plt.ylabel(\"Inertia\")"
   ]
  },
  {
   "cell_type": "code",
   "execution_count": 71,
   "id": "f0eb18ae-d450-49c0-b11d-f9c6b0964d3b",
   "metadata": {},
   "outputs": [
    {
     "data": {
      "text/plain": [
       "Text(0, 0.5, 'Silhoutte Score')"
      ]
     },
     "execution_count": 71,
     "metadata": {},
     "output_type": "execute_result"
    },
    {
     "data": {
      "image/png": "[encoded data removed]",
      "text/plain": [
       "<Figure size 640x480 with 1 Axes>"
      ]
     },
     "metadata": {},
     "output_type": "display_data"
    }
   ],
   "source": [
    "plt.plot(rr,ss)\n",
    "plt.xlabel(\"No of cluster\")\n",
    "plt.ylabel(\"Silhoutte Score\")"
   ]
  },
  {
   "cell_type": "code",
   "execution_count": 63,
   "id": "00dee0d1-b6d3-4a85-988b-b2c22ac911b0",
   "metadata": {},
   "outputs": [
    {
     "data": {
      "application/vnd.plotly.v1+json": {
       "config": {
        "plotlyServerURL": "https://plot.ly"
       },
       "data": [
        {
         "hovertemplate": "Cluster=1<br>0=%{x}<br>1=%{y}<br>2=%{z}<extra></extra>",
         "legendgroup": "1",
         "marker": {
          "color": "#636efa",
          "symbol": "circle"
         },
         "mode": "markers",
         "name": "1",
         "scene": "scene",
         "showlegend": true,
         "type": "scatter3d",
         "x": [
          0.9713957811220001,
          0.29177752585211025,
          0.03029213187299319,
          0.7920813552266533,
          0.027755047239204952,
          0.6733079282423784,
          0.961865435474326,
          0.9695776861653426,
          0.9588896875887942,
          0.9539548123662736,
          0.6976953676788464,
          0.5488911119691195,
          0.9640601602023621,
          0.8074786271345343,
          0.014547419348907022,
          0.9765445690636546
         ],
         "y": [
          0.012684157586864541,
          0.016995518165908594,
          0.026418444223733555,
          0.19166199742654816,
          0.024107221234109272,
          0.3094004549421108,
          0.018226373142817463,
          0.014500510193734443,
          0.021782629649440114,
          0.0218344215161725,
          0.027347894688757715,
          0.43661963490517497,
          0.017395590784675938,
          0.15147301814369488,
          0.01166461085116292,
          0.011352534359046257
         ],
         "z": [
          0.015920061291135275,
          0.6912269559819811,
          0.9432894239032733,
          0.01625664734679866,
          0.9481377315266858,
          0.017291616815510908,
          0.019908191382856544,
          0.015921803640923,
          0.01932768276176571,
          0.024210766117553944,
          0.274956737632396,
          0.014489253125705613,
          0.018544249012961925,
          0.041048354721770666,
          0.9737879697999301,
          0.012102896577299158
         ]
        },
        {
         "hovertemplate": "Cluster=0<br>0=%{x}<br>1=%{y}<br>2=%{z}<extra></extra>",
         "legendgroup": "0",
         "marker": {
          "color": "#EF553B",
          "symbol": "circle"
         },
         "mode": "markers",
         "name": "0",
         "scene": "scene",
         "showlegend": true,
         "type": "scatter3d",
         "x": [
          0.971681252715461,
          0.9810961567119574
         ],
         "y": [
          0.01354777451603423,
          0.00933969760231989
         ],
         "z": [
          0.014770972768504803,
          0.009564145685722706
         ]
        },
        {
         "hovertemplate": "Cluster=2<br>0=%{x}<br>1=%{y}<br>2=%{z}<extra></extra>",
         "legendgroup": "2",
         "marker": {
          "color": "#00cc96",
          "symbol": "circle"
         },
         "mode": "markers",
         "name": "2",
         "scene": "scene",
         "showlegend": true,
         "type": "scatter3d",
         "x": [
          0.979742935993019,
          0.980296287543572,
          0.9723617220345852,
          0.9784326422559837,
          0.9670278131429306,
          0.9772404431027205,
          0.47841581016174584,
          0.9751629135569556,
          0.8515383454192885,
          0.9783660187971783
         ],
         "y": [
          0.009717483719382972,
          0.009446132081639892,
          0.013298293134222705,
          0.010469197761246773,
          0.016345201321579312,
          0.011091284859547091,
          0.011101943635594587,
          0.012244755791447183,
          0.13474230665005946,
          0.010403271846506726
         ],
         "z": [
          0.010539580287598094,
          0.010257580374787993,
          0.014339984831192103,
          0.011098159982769498,
          0.01662698553549015,
          0.011668272037732455,
          0.5104822462026596,
          0.012592330651597221,
          0.01371934793065206,
          0.011230709356315118
         ]
        },
        {
         "hovertemplate": "Cluster=4<br>0=%{x}<br>1=%{y}<br>2=%{z}<extra></extra>",
         "legendgroup": "4",
         "marker": {
          "color": "#ab63fa",
          "symbol": "circle"
         },
         "mode": "markers",
         "name": "4",
         "scene": "scene",
         "showlegend": true,
         "type": "scatter3d",
         "x": [
          0.9564158513065685,
          0.9681373888492022,
          0.02749139729872075,
          0.023285712443246984,
          0.8434724258017885,
          0.9608328759664941,
          0.9446759241998197,
          0.9559515731222357,
          0.955412033357148,
          0.7887570226803983,
          0.15706012457814314,
          0.9735831774524591,
          0.7705493924401235,
          0.944876938168507,
          0.9408273004657964,
          0.044614284922280804,
          0.044204076052765016,
          0.9689155894172378,
          0.022240062014019162,
          0.9410944573546444,
          0.9393468475018593,
          0.9703816720299975,
          0.9601191617165094
         ],
         "y": [
          0.02112008861706876,
          0.015502761473115845,
          0.019867225796828702,
          0.018885639644196078,
          0.12121326250065081,
          0.018898250836085644,
          0.0265424227069209,
          0.021064892839727036,
          0.021042010477850037,
          0.19400791093635425,
          0.01496470081281117,
          0.012591988556660777,
          0.01684868580581795,
          0.026201638837698632,
          0.028110915708593722,
          0.03730815291420753,
          0.03742770156426807,
          0.014952082450442682,
          0.01716134223018139,
          0.02799345335360522,
          0.030889637556113004,
          0.014817412772636096,
          0.017781224752350937
         ],
         "z": [
          0.022464060076362757,
          0.01635984967768202,
          0.9526413769044505,
          0.957828647912557,
          0.03531431169756075,
          0.02026887319742026,
          0.028781653093259384,
          0.02298353403803731,
          0.02354595616500188,
          0.017235066383247524,
          0.8279751746090457,
          0.013824833990880065,
          0.2126019217540585,
          0.0289214229937944,
          0.031061783825609854,
          0.9180775621635117,
          0.9183682223829669,
          0.016132328132319552,
          0.9605985957557995,
          0.030912089291750586,
          0.029763514942027742,
          0.014800915197366418,
          0.0220996135311397
         ]
        },
        {
         "hovertemplate": "Cluster=3<br>0=%{x}<br>1=%{y}<br>2=%{z}<extra></extra>",
         "legendgroup": "3",
         "marker": {
          "color": "#FFA15A",
          "symbol": "circle"
         },
         "mode": "markers",
         "name": "3",
         "scene": "scene",
         "showlegend": true,
         "type": "scatter3d",
         "x": [
          0.9798569828693947,
          0.7049765473256853,
          0.9772811125779199,
          0.9802360230505159,
          0.9826627914736594,
          0.9730007457681658,
          0.9705018271329761
         ],
         "y": [
          0.009741783143197087,
          0.013037795640717673,
          0.011117791636311417,
          0.009681483368821816,
          0.008483315737714825,
          0.013161608393361827,
          0.014049837276539714
         ],
         "z": [
          0.010401233987408248,
          0.28198565703359707,
          0.011601095785768758,
          0.010082493580662294,
          0.008853892788625676,
          0.013837645838472478,
          0.015448335590484117
         ]
        }
       ],
       "layout": {
        "height": 800,
        "legend": {
         "title": {
          "text": "Cluster"
         },
         "tracegroupgap": 0
        },
        "margin": {
         "t": 60
        },
        "scene": {
         "aspectmode": "auto",
         "aspectratio": {
          "x": 1.3139883228380538,
          "y": 0.5810940928809213,
          "z": 1.309670464914366
         },
         "camera": {
          "center": {
           "x": 0,
           "y": 0,
           "z": 0
          },
          "eye": {
           "x": 0.0003307203089010426,
           "y": 0.009994454032667004,
           "z": 3.8893009484364854e-05
          },
          "projection": {
           "type": "perspective"
          },
          "up": {
           "x": 0,
           "y": 0,
           "z": 1
          }
         },
         "domain": {
          "x": [
           0,
           1
          ],
          "y": [
           0,
           1
          ]
         },
         "xaxis": {
          "title": {
           "text": "0"
          },
          "type": "linear"
         },
         "yaxis": {
          "title": {
           "text": "1"
          },
          "type": "linear"
         },
         "zaxis": {
          "title": {
           "text": "2"
          },
          "type": "linear"
         }
        },
        "template": {
         "data": {
          "bar": [
           {
            "error_x": {
             "color": "#2a3f5f"
            },
            "error_y": {
             "color": "#2a3f5f"
            },
            "marker": {
             "line": {
              "color": "#E5ECF6",
              "width": 0.5
             },
             "pattern": {
              "fillmode": "overlay",
              "size": 10,
              "solidity": 0.2
             }
            },
            "type": "bar"
           }
          ],
          "barpolar": [
           {
            "marker": {
             "line": {
              "color": "#E5ECF6",
              "width": 0.5
             },
             "pattern": {
              "fillmode": "overlay",
              "size": 10,
              "solidity": 0.2
             }
            },
            "type": "barpolar"
           }
          ],
          "carpet": [
           {
            "aaxis": {
             "endlinecolor": "#2a3f5f",
             "gridcolor": "white",
             "linecolor": "white",
             "minorgridcolor": "white",
             "startlinecolor": "#2a3f5f"
            },
            "baxis": {
             "endlinecolor": "#2a3f5f",
             "gridcolor": "white",
             "linecolor": "white",
             "minorgridcolor": "white",
             "startlinecolor": "#2a3f5f"
            },
            "type": "carpet"
           }
          ],
          "choropleth": [
           {
            "colorbar": {
             "outlinewidth": 0,
             "ticks": ""
            },
            "type": "choropleth"
           }
          ],
          "contour": [
           {
            "colorbar": {
             "outlinewidth": 0,
             "ticks": ""
            },
            "colorscale": [
             [
              0,
              "#0d0887"
             ],
             [
              0.1111111111111111,
              "#46039f"
             ],
             [
              0.2222222222222222,
              "#7201a8"
             ],
             [
              0.3333333333333333,
              "#9c179e"
             ],
             [
              0.4444444444444444,
              "#bd3786"
             ],
             [
              0.5555555555555556,
              "#d8576b"
             ],
             [
              0.6666666666666666,
              "#ed7953"
             ],
             [
              0.7777777777777778,
              "#fb9f3a"
             ],
             [
              0.8888888888888888,
              "#fdca26"
             ],
             [
              1,
              "#f0f921"
             ]
            ],
            "type": "contour"
           }
          ],
          "contourcarpet": [
           {
            "colorbar": {
             "outlinewidth": 0,
             "ticks": ""
            },
            "type": "contourcarpet"
           }
          ],
          "heatmap": [
           {
            "colorbar": {
             "outlinewidth": 0,
             "ticks": ""
            },
            "colorscale": [
             [
              0,
              "#0d0887"
             ],
             [
              0.1111111111111111,
              "#46039f"
             ],
             [
              0.2222222222222222,
              "#7201a8"
             ],
             [
              0.3333333333333333,
              "#9c179e"
             ],
             [
              0.4444444444444444,
              "#bd3786"
             ],
             [
              0.5555555555555556,
              "#d8576b"
             ],
             [
              0.6666666666666666,
              "#ed7953"
             ],
             [
              0.7777777777777778,
              "#fb9f3a"
             ],
             [
              0.8888888888888888,
              "#fdca26"
             ],
             [
              1,
              "#f0f921"
             ]
            ],
            "type": "heatmap"
           }
          ],
          "heatmapgl": [
           {
            "colorbar": {
             "outlinewidth": 0,
             "ticks": ""
            },
            "colorscale": [
             [
              0,
              "#0d0887"
             ],
             [
              0.1111111111111111,
              "#46039f"
             ],
             [
              0.2222222222222222,
              "#7201a8"
             ],
             [
              0.3333333333333333,
              "#9c179e"
             ],
             [
              0.4444444444444444,
              "#bd3786"
             ],
             [
              0.5555555555555556,
              "#d8576b"
             ],
             [
              0.6666666666666666,
              "#ed7953"
             ],
             [
              0.7777777777777778,
              "#fb9f3a"
             ],
             [
              0.8888888888888888,
              "#fdca26"
             ],
             [
              1,
              "#f0f921"
             ]
            ],
            "type": "heatmapgl"
           }
          ],
          "histogram": [
           {
            "marker": {
             "pattern": {
              "fillmode": "overlay",
              "size": 10,
              "solidity": 0.2
             }
            },
            "type": "histogram"
           }
          ],
          "histogram2d": [
           {
            "colorbar": {
             "outlinewidth": 0,
             "ticks": ""
            },
            "colorscale": [
             [
              0,
              "#0d0887"
             ],
             [
              0.1111111111111111,
              "#46039f"
             ],
             [
              0.2222222222222222,
              "#7201a8"
             ],
             [
              0.3333333333333333,
              "#9c179e"
             ],
             [
              0.4444444444444444,
              "#bd3786"
             ],
             [
              0.5555555555555556,
              "#d8576b"
             ],
             [
              0.6666666666666666,
              "#ed7953"
             ],
             [
              0.7777777777777778,
              "#fb9f3a"
             ],
             [
              0.8888888888888888,
              "#fdca26"
             ],
             [
              1,
              "#f0f921"
             ]
            ],
            "type": "histogram2d"
           }
          ],
          "histogram2dcontour": [
           {
            "colorbar": {
             "outlinewidth": 0,
             "ticks": ""
            },
            "colorscale": [
             [
              0,
              "#0d0887"
             ],
             [
              0.1111111111111111,
              "#46039f"
             ],
             [
              0.2222222222222222,
              "#7201a8"
             ],
             [
              0.3333333333333333,
              "#9c179e"
             ],
             [
              0.4444444444444444,
              "#bd3786"
             ],
             [
              0.5555555555555556,
              "#d8576b"
             ],
             [
              0.6666666666666666,
              "#ed7953"
             ],
             [
              0.7777777777777778,
              "#fb9f3a"
             ],
             [
              0.8888888888888888,
              "#fdca26"
             ],
             [
              1,
              "#f0f921"
             ]
            ],
            "type": "histogram2dcontour"
           }
          ],
          "mesh3d": [
           {
            "colorbar": {
             "outlinewidth": 0,
             "ticks": ""
            },
            "type": "mesh3d"
           }
          ],
          "parcoords": [
           {
            "line": {
             "colorbar": {
              "outlinewidth": 0,
              "ticks": ""
             }
            },
            "type": "parcoords"
           }
          ],
          "pie": [
           {
            "automargin": true,
            "type": "pie"
           }
          ],
          "scatter": [
           {
            "fillpattern": {
             "fillmode": "overlay",
             "size": 10,
             "solidity": 0.2
            },
            "type": "scatter"
           }
          ],
          "scatter3d": [
           {
            "line": {
             "colorbar": {
              "outlinewidth": 0,
              "ticks": ""
             }
            },
            "marker": {
             "colorbar": {
              "outlinewidth": 0,
              "ticks": ""
             }
            },
            "type": "scatter3d"
           }
          ],
          "scattercarpet": [
           {
            "marker": {
             "colorbar": {
              "outlinewidth": 0,
              "ticks": ""
             }
            },
            "type": "scattercarpet"
           }
          ],
          "scattergeo": [
           {
            "marker": {
             "colorbar": {
              "outlinewidth": 0,
              "ticks": ""
             }
            },
            "type": "scattergeo"
           }
          ],
          "scattergl": [
           {
            "marker": {
             "colorbar": {
              "outlinewidth": 0,
              "ticks": ""
             }
            },
            "type": "scattergl"
           }
          ],
          "scattermapbox": [
           {
            "marker": {
             "colorbar": {
              "outlinewidth": 0,
              "ticks": ""
             }
            },
            "type": "scattermapbox"
           }
          ],
          "scatterpolar": [
           {
            "marker": {
             "colorbar": {
              "outlinewidth": 0,
              "ticks": ""
             }
            },
            "type": "scatterpolar"
           }
          ],
          "scatterpolargl": [
           {
            "marker": {
             "colorbar": {
              "outlinewidth": 0,
              "ticks": ""
             }
            },
            "type": "scatterpolargl"
           }
          ],
          "scatterternary": [
           {
            "marker": {
             "colorbar": {
              "outlinewidth": 0,
              "ticks": ""
             }
            },
            "type": "scatterternary"
           }
          ],
          "surface": [
           {
            "colorbar": {
             "outlinewidth": 0,
             "ticks": ""
            },
            "colorscale": [
             [
              0,
              "#0d0887"
             ],
             [
              0.1111111111111111,
              "#46039f"
             ],
             [
              0.2222222222222222,
              "#7201a8"
             ],
             [
              0.3333333333333333,
              "#9c179e"
             ],
             [
              0.4444444444444444,
              "#bd3786"
             ],
             [
              0.5555555555555556,
              "#d8576b"
             ],
             [
              0.6666666666666666,
              "#ed7953"
             ],
             [
              0.7777777777777778,
              "#fb9f3a"
             ],
             [
              0.8888888888888888,
              "#fdca26"
             ],
             [
              1,
              "#f0f921"
             ]
            ],
            "type": "surface"
           }
          ],
          "table": [
           {
            "cells": {
             "fill": {
              "color": "#EBF0F8"
             },
             "line": {
              "color": "white"
             }
            },
            "header": {
             "fill": {
              "color": "#C8D4E3"
             },
             "line": {
              "color": "white"
             }
            },
            "type": "table"
           }
          ]
         },
         "layout": {
          "annotationdefaults": {
           "arrowcolor": "#2a3f5f",
           "arrowhead": 0,
           "arrowwidth": 1
          },
          "autotypenumbers": "strict",
          "coloraxis": {
           "colorbar": {
            "outlinewidth": 0,
            "ticks": ""
           }
          },
          "colorscale": {
           "diverging": [
            [
             0,
             "#8e0152"
            ],
            [
             0.1,
             "#c51b7d"
            ],
            [
             0.2,
             "#de77ae"
            ],
            [
             0.3,
             "#f1b6da"
            ],
            [
             0.4,
             "#fde0ef"
            ],
            [
             0.5,
             "#f7f7f7"
            ],
            [
             0.6,
             "#e6f5d0"
            ],
            [
             0.7,
             "#b8e186"
            ],
            [
             0.8,
             "#7fbc41"
            ],
            [
             0.9,
             "#4d9221"
            ],
            [
             1,
             "#276419"
            ]
           ],
           "sequential": [
            [
             0,
             "#0d0887"
            ],
            [
             0.1111111111111111,
             "#46039f"
            ],
            [
             0.2222222222222222,
             "#7201a8"
            ],
            [
             0.3333333333333333,
             "#9c179e"
            ],
            [
             0.4444444444444444,
             "#bd3786"
            ],
            [
             0.5555555555555556,
             "#d8576b"
            ],
            [
             0.6666666666666666,
             "#ed7953"
            ],
            [
             0.7777777777777778,
             "#fb9f3a"
            ],
            [
             0.8888888888888888,
             "#fdca26"
            ],
            [
             1,
             "#f0f921"
            ]
           ],
           "sequentialminus": [
            [
             0,
             "#0d0887"
            ],
            [
             0.1111111111111111,
             "#46039f"
            ],
            [
             0.2222222222222222,
             "#7201a8"
            ],
            [
             0.3333333333333333,
             "#9c179e"
            ],
            [
             0.4444444444444444,
             "#bd3786"
            ],
            [
             0.5555555555555556,
             "#d8576b"
            ],
            [
             0.6666666666666666,
             "#ed7953"
            ],
            [
             0.7777777777777778,
             "#fb9f3a"
            ],
            [
             0.8888888888888888,
             "#fdca26"
            ],
            [
             1,
             "#f0f921"
            ]
           ]
          },
          "colorway": [
           "#636efa",
           "#EF553B",
           "#00cc96",
           "#ab63fa",
           "#FFA15A",
           "#19d3f3",
           "#FF6692",
           "#B6E880",
           "#FF97FF",
           "#FECB52"
          ],
          "font": {
           "color": "#2a3f5f"
          },
          "geo": {
           "bgcolor": "white",
           "lakecolor": "white",
           "landcolor": "#E5ECF6",
           "showlakes": true,
           "showland": true,
           "subunitcolor": "white"
          },
          "hoverlabel": {
           "align": "left"
          },
          "hovermode": "closest",
          "mapbox": {
           "style": "light"
          },
          "paper_bgcolor": "white",
          "plot_bgcolor": "#E5ECF6",
          "polar": {
           "angularaxis": {
            "gridcolor": "white",
            "linecolor": "white",
            "ticks": ""
           },
           "bgcolor": "#E5ECF6",
           "radialaxis": {
            "gridcolor": "white",
            "linecolor": "white",
            "ticks": ""
           }
          },
          "scene": {
           "xaxis": {
            "backgroundcolor": "#E5ECF6",
            "gridcolor": "white",
            "gridwidth": 2,
            "linecolor": "white",
            "showbackground": true,
            "ticks": "",
            "zerolinecolor": "white"
           },
           "yaxis": {
            "backgroundcolor": "#E5ECF6",
            "gridcolor": "white",
            "gridwidth": 2,
            "linecolor": "white",
            "showbackground": true,
            "ticks": "",
            "zerolinecolor": "white"
           },
           "zaxis": {
            "backgroundcolor": "#E5ECF6",
            "gridcolor": "white",
            "gridwidth": 2,
            "linecolor": "white",
            "showbackground": true,
            "ticks": "",
            "zerolinecolor": "white"
           }
          },
          "shapedefaults": {
           "line": {
            "color": "#2a3f5f"
           }
          },
          "ternary": {
           "aaxis": {
            "gridcolor": "white",
            "linecolor": "white",
            "ticks": ""
           },
           "baxis": {
            "gridcolor": "white",
            "linecolor": "white",
            "ticks": ""
           },
           "bgcolor": "#E5ECF6",
           "caxis": {
            "gridcolor": "white",
            "linecolor": "white",
            "ticks": ""
           }
          },
          "title": {
           "x": 0.05
          },
          "xaxis": {
           "automargin": true,
           "gridcolor": "white",
           "linecolor": "white",
           "ticks": "",
           "title": {
            "standoff": 15
           },
           "zerolinecolor": "white",
           "zerolinewidth": 2
          },
          "yaxis": {
           "automargin": true,
           "gridcolor": "white",
           "linecolor": "white",
           "ticks": "",
           "title": {
            "standoff": 15
           },
           "zerolinecolor": "white",
           "zerolinewidth": 2
          }
         }
        },
        "width": 1000
       }
      },
      "image/png": "[encoded data removed]",
      "text/html": [
       "<div>                            <div id=\"3b527e6c-12f4-4066-bf2f-8764f7f8d73c\" class=\"plotly-graph-div\" style=\"height:800px; width:1000px;\"></div>            <script type=\"text/javascript\">                require([\"plotly\"], function(Plotly) {                    window.PLOTLYENV=window.PLOTLYENV || {};                                    if (document.getElementById(\"3b527e6c-12f4-4066-bf2f-8764f7f8d73c\")) {                    Plotly.newPlot(                        \"3b527e6c-12f4-4066-bf2f-8764f7f8d73c\",                        [{\"hovertemplate\":\"Cluster=1\\u003cbr\\u003e0=%{x}\\u003cbr\\u003e1=%{y}\\u003cbr\\u003e2=%{z}\\u003cextra\\u003e\\u003c\\u002fextra\\u003e\",\"legendgroup\":\"1\",\"marker\":{\"color\":\"#636efa\",\"symbol\":\"circle\"},\"mode\":\"markers\",\"name\":\"1\",\"scene\":\"scene\",\"showlegend\":true,\"x\":[0.9713957811220001,0.29177752585211025,0.03029213187299319,0.7920813552266533,0.027755047239204952,0.6733079282423784,0.961865435474326,0.9695776861653426,0.9588896875887942,0.9539548123662736,0.6976953676788464,0.5488911119691195,0.9640601602023621,0.8074786271345343,0.014547419348907022,0.9765445690636546],\"y\":[0.012684157586864541,0.016995518165908594,0.026418444223733555,0.19166199742654816,0.024107221234109272,0.3094004549421108,0.018226373142817463,0.014500510193734443,0.021782629649440114,0.0218344215161725,0.027347894688757715,0.43661963490517497,0.017395590784675938,0.15147301814369488,0.01166461085116292,0.011352534359046257],\"z\":[0.015920061291135275,0.6912269559819811,0.9432894239032733,0.01625664734679866,0.9481377315266858,0.017291616815510908,0.019908191382856544,0.015921803640923,0.01932768276176571,0.024210766117553944,0.274956737632396,0.014489253125705613,0.018544249012961925,0.041048354721770666,0.9737879697999301,0.012102896577299158],\"type\":\"scatter3d\"},{\"hovertemplate\":\"Cluster=0\\u003cbr\\u003e0=%{x}\\u003cbr\\u003e1=%{y}\\u003cbr\\u003e2=%{z}\\u003cextra\\u003e\\u003c\\u002fextra\\u003e\",\"legendgroup\":\"0\",\"marker\":{\"color\":\"#EF553B\",\"symbol\":\"circle\"},\"mode\":\"markers\",\"name\":\"0\",\"scene\":\"scene\",\"showlegend\":true,\"x\":[0.971681252715461,0.9810961567119574],\"y\":[0.01354777451603423,0.00933969760231989],\"z\":[0.014770972768504803,0.009564145685722706],\"type\":\"scatter3d\"},{\"hovertemplate\":\"Cluster=2\\u003cbr\\u003e0=%{x}\\u003cbr\\u003e1=%{y}\\u003cbr\\u003e2=%{z}\\u003cextra\\u003e\\u003c\\u002fextra\\u003e\",\"legendgroup\":\"2\",\"marker\":{\"color\":\"#00cc96\",\"symbol\":\"circle\"},\"mode\":\"markers\",\"name\":\"2\",\"scene\":\"scene\",\"showlegend\":true,\"x\":[0.979742935993019,0.980296287543572,0.9723617220345852,0.9784326422559837,0.9670278131429306,0.9772404431027205,0.47841581016174584,0.9751629135569556,0.8515383454192885,0.9783660187971783],\"y\":[0.009717483719382972,0.009446132081639892,0.013298293134222705,0.010469197761246773,0.016345201321579312,0.011091284859547091,0.011101943635594587,0.012244755791447183,0.13474230665005946,0.010403271846506726],\"z\":[0.010539580287598094,0.010257580374787993,0.014339984831192103,0.011098159982769498,0.01662698553549015,0.011668272037732455,0.5104822462026596,0.012592330651597221,0.01371934793065206,0.011230709356315118],\"type\":\"scatter3d\"},{\"hovertemplate\":\"Cluster=4\\u003cbr\\u003e0=%{x}\\u003cbr\\u003e1=%{y}\\u003cbr\\u003e2=%{z}\\u003cextra\\u003e\\u003c\\u002fextra\\u003e\",\"legendgroup\":\"4\",\"marker\":{\"color\":\"#ab63fa\",\"symbol\":\"circle\"},\"mode\":\"markers\",\"name\":\"4\",\"scene\":\"scene\",\"showlegend\":true,\"x\":[0.9564158513065685,0.9681373888492022,0.02749139729872075,0.023285712443246984,0.8434724258017885,0.9608328759664941,0.9446759241998197,0.9559515731222357,0.955412033357148,0.7887570226803983,0.15706012457814314,0.9735831774524591,0.7705493924401235,0.944876938168507,0.9408273004657964,0.044614284922280804,0.044204076052765016,0.9689155894172378,0.022240062014019162,0.9410944573546444,0.9393468475018593,0.9703816720299975,0.9601191617165094],\"y\":[0.02112008861706876,0.015502761473115845,0.019867225796828702,0.018885639644196078,0.12121326250065081,0.018898250836085644,0.0265424227069209,0.021064892839727036,0.021042010477850037,0.19400791093635425,0.01496470081281117,0.012591988556660777,0.01684868580581795,0.026201638837698632,0.028110915708593722,0.03730815291420753,0.03742770156426807,0.014952082450442682,0.01716134223018139,0.02799345335360522,0.030889637556113004,0.014817412772636096,0.017781224752350937],\"z\":[0.022464060076362757,0.01635984967768202,0.9526413769044505,0.957828647912557,0.03531431169756075,0.02026887319742026,0.028781653093259384,0.02298353403803731,0.02354595616500188,0.017235066383247524,0.8279751746090457,0.013824833990880065,0.2126019217540585,0.0289214229937944,0.031061783825609854,0.9180775621635117,0.9183682223829669,0.016132328132319552,0.9605985957557995,0.030912089291750586,0.029763514942027742,0.014800915197366418,0.0220996135311397],\"type\":\"scatter3d\"},{\"hovertemplate\":\"Cluster=3\\u003cbr\\u003e0=%{x}\\u003cbr\\u003e1=%{y}\\u003cbr\\u003e2=%{z}\\u003cextra\\u003e\\u003c\\u002fextra\\u003e\",\"legendgroup\":\"3\",\"marker\":{\"color\":\"#FFA15A\",\"symbol\":\"circle\"},\"mode\":\"markers\",\"name\":\"3\",\"scene\":\"scene\",\"showlegend\":true,\"x\":[0.9798569828693947,0.7049765473256853,0.9772811125779199,0.9802360230505159,0.9826627914736594,0.9730007457681658,0.9705018271329761],\"y\":[0.009741783143197087,0.013037795640717673,0.011117791636311417,0.009681483368821816,0.008483315737714825,0.013161608393361827,0.014049837276539714],\"z\":[0.010401233987408248,0.28198565703359707,0.011601095785768758,0.010082493580662294,0.008853892788625676,0.013837645838472478,0.015448335590484117],\"type\":\"scatter3d\"}],                        {\"template\":{\"data\":{\"histogram2dcontour\":[{\"type\":\"histogram2dcontour\",\"colorbar\":{\"outlinewidth\":0,\"ticks\":\"\"},\"colorscale\":[[0.0,\"#0d0887\"],[0.1111111111111111,\"#46039f\"],[0.2222222222222222,\"#7201a8\"],[0.3333333333333333,\"#9c179e\"],[0.4444444444444444,\"#bd3786\"],[0.5555555555555556,\"#d8576b\"],[0.6666666666666666,\"#ed7953\"],[0.7777777777777778,\"#fb9f3a\"],[0.8888888888888888,\"#fdca26\"],[1.0,\"#f0f921\"]]}],\"choropleth\":[{\"type\":\"choropleth\",\"colorbar\":{\"outlinewidth\":0,\"ticks\":\"\"}}],\"histogram2d\":[{\"type\":\"histogram2d\",\"colorbar\":{\"outlinewidth\":0,\"ticks\":\"\"},\"colorscale\":[[0.0,\"#0d0887\"],[0.1111111111111111,\"#46039f\"],[0.2222222222222222,\"#7201a8\"],[0.3333333333333333,\"#9c179e\"],[0.4444444444444444,\"#bd3786\"],[0.5555555555555556,\"#d8576b\"],[0.6666666666666666,\"#ed7953\"],[0.7777777777777778,\"#fb9f3a\"],[0.8888888888888888,\"#fdca26\"],[1.0,\"#f0f921\"]]}],\"heatmap\":[{\"type\":\"heatmap\",\"colorbar\":{\"outlinewidth\":0,\"ticks\":\"\"},\"colorscale\":[[0.0,\"#0d0887\"],[0.1111111111111111,\"#46039f\"],[0.2222222222222222,\"#7201a8\"],[0.3333333333333333,\"#9c179e\"],[0.4444444444444444,\"#bd3786\"],[0.5555555555555556,\"#d8576b\"],[0.6666666666666666,\"#ed7953\"],[0.7777777777777778,\"#fb9f3a\"],[0.8888888888888888,\"#fdca26\"],[1.0,\"#f0f921\"]]}],\"heatmapgl\":[{\"type\":\"heatmapgl\",\"colorbar\":{\"outlinewidth\":0,\"ticks\":\"\"},\"colorscale\":[[0.0,\"#0d0887\"],[0.1111111111111111,\"#46039f\"],[0.2222222222222222,\"#7201a8\"],[0.3333333333333333,\"#9c179e\"],[0.4444444444444444,\"#bd3786\"],[0.5555555555555556,\"#d8576b\"],[0.6666666666666666,\"#ed7953\"],[0.7777777777777778,\"#fb9f3a\"],[0.8888888888888888,\"#fdca26\"],[1.0,\"#f0f921\"]]}],\"contourcarpet\":[{\"type\":\"contourcarpet\",\"colorbar\":{\"outlinewidth\":0,\"ticks\":\"\"}}],\"contour\":[{\"type\":\"contour\",\"colorbar\":{\"outlinewidth\":0,\"ticks\":\"\"},\"colorscale\":[[0.0,\"#0d0887\"],[0.1111111111111111,\"#46039f\"],[0.2222222222222222,\"#7201a8\"],[0.3333333333333333,\"#9c179e\"],[0.4444444444444444,\"#bd3786\"],[0.5555555555555556,\"#d8576b\"],[0.6666666666666666,\"#ed7953\"],[0.7777777777777778,\"#fb9f3a\"],[0.8888888888888888,\"#fdca26\"],[1.0,\"#f0f921\"]]}],\"surface\":[{\"type\":\"surface\",\"colorbar\":{\"outlinewidth\":0,\"ticks\":\"\"},\"colorscale\":[[0.0,\"#0d0887\"],[0.1111111111111111,\"#46039f\"],[0.2222222222222222,\"#7201a8\"],[0.3333333333333333,\"#9c179e\"],[0.4444444444444444,\"#bd3786\"],[0.5555555555555556,\"#d8576b\"],[0.6666666666666666,\"#ed7953\"],[0.7777777777777778,\"#fb9f3a\"],[0.8888888888888888,\"#fdca26\"],[1.0,\"#f0f921\"]]}],\"mesh3d\":[{\"type\":\"mesh3d\",\"colorbar\":{\"outlinewidth\":0,\"ticks\":\"\"}}],\"scatter\":[{\"fillpattern\":{\"fillmode\":\"overlay\",\"size\":10,\"solidity\":0.2},\"type\":\"scatter\"}],\"parcoords\":[{\"type\":\"parcoords\",\"line\":{\"colorbar\":{\"outlinewidth\":0,\"ticks\":\"\"}}}],\"scatterpolargl\":[{\"type\":\"scatterpolargl\",\"marker\":{\"colorbar\":{\"outlinewidth\":0,\"ticks\":\"\"}}}],\"bar\":[{\"error_x\":{\"color\":\"#2a3f5f\"},\"error_y\":{\"color\":\"#2a3f5f\"},\"marker\":{\"line\":{\"color\":\"#E5ECF6\",\"width\":0.5},\"pattern\":{\"fillmode\":\"overlay\",\"size\":10,\"solidity\":0.2}},\"type\":\"bar\"}],\"scattergeo\":[{\"type\":\"scattergeo\",\"marker\":{\"colorbar\":{\"outlinewidth\":0,\"ticks\":\"\"}}}],\"scatterpolar\":[{\"type\":\"scatterpolar\",\"marker\":{\"colorbar\":{\"outlinewidth\":0,\"ticks\":\"\"}}}],\"histogram\":[{\"marker\":{\"pattern\":{\"fillmode\":\"overlay\",\"size\":10,\"solidity\":0.2}},\"type\":\"histogram\"}],\"scattergl\":[{\"type\":\"scattergl\",\"marker\":{\"colorbar\":{\"outlinewidth\":0,\"ticks\":\"\"}}}],\"scatter3d\":[{\"type\":\"scatter3d\",\"line\":{\"colorbar\":{\"outlinewidth\":0,\"ticks\":\"\"}},\"marker\":{\"colorbar\":{\"outlinewidth\":0,\"ticks\":\"\"}}}],\"scattermapbox\":[{\"type\":\"scattermapbox\",\"marker\":{\"colorbar\":{\"outlinewidth\":0,\"ticks\":\"\"}}}],\"scatterternary\":[{\"type\":\"scatterternary\",\"marker\":{\"colorbar\":{\"outlinewidth\":0,\"ticks\":\"\"}}}],\"scattercarpet\":[{\"type\":\"scattercarpet\",\"marker\":{\"colorbar\":{\"outlinewidth\":0,\"ticks\":\"\"}}}],\"carpet\":[{\"aaxis\":{\"endlinecolor\":\"#2a3f5f\",\"gridcolor\":\"white\",\"linecolor\":\"white\",\"minorgridcolor\":\"white\",\"startlinecolor\":\"#2a3f5f\"},\"baxis\":{\"endlinecolor\":\"#2a3f5f\",\"gridcolor\":\"white\",\"linecolor\":\"white\",\"minorgridcolor\":\"white\",\"startlinecolor\":\"#2a3f5f\"},\"type\":\"carpet\"}],\"table\":[{\"cells\":{\"fill\":{\"color\":\"#EBF0F8\"},\"line\":{\"color\":\"white\"}},\"header\":{\"fill\":{\"color\":\"#C8D4E3\"},\"line\":{\"color\":\"white\"}},\"type\":\"table\"}],\"barpolar\":[{\"marker\":{\"line\":{\"color\":\"#E5ECF6\",\"width\":0.5},\"pattern\":{\"fillmode\":\"overlay\",\"size\":10,\"solidity\":0.2}},\"type\":\"barpolar\"}],\"pie\":[{\"automargin\":true,\"type\":\"pie\"}]},\"layout\":{\"autotypenumbers\":\"strict\",\"colorway\":[\"#636efa\",\"#EF553B\",\"#00cc96\",\"#ab63fa\",\"#FFA15A\",\"#19d3f3\",\"#FF6692\",\"#B6E880\",\"#FF97FF\",\"#FECB52\"],\"font\":{\"color\":\"#2a3f5f\"},\"hovermode\":\"closest\",\"hoverlabel\":{\"align\":\"left\"},\"paper_bgcolor\":\"white\",\"plot_bgcolor\":\"#E5ECF6\",\"polar\":{\"bgcolor\":\"#E5ECF6\",\"angularaxis\":{\"gridcolor\":\"white\",\"linecolor\":\"white\",\"ticks\":\"\"},\"radialaxis\":{\"gridcolor\":\"white\",\"linecolor\":\"white\",\"ticks\":\"\"}},\"ternary\":{\"bgcolor\":\"#E5ECF6\",\"aaxis\":{\"gridcolor\":\"white\",\"linecolor\":\"white\",\"ticks\":\"\"},\"baxis\":{\"gridcolor\":\"white\",\"linecolor\":\"white\",\"ticks\":\"\"},\"caxis\":{\"gridcolor\":\"white\",\"linecolor\":\"white\",\"ticks\":\"\"}},\"coloraxis\":{\"colorbar\":{\"outlinewidth\":0,\"ticks\":\"\"}},\"colorscale\":{\"sequential\":[[0.0,\"#0d0887\"],[0.1111111111111111,\"#46039f\"],[0.2222222222222222,\"#7201a8\"],[0.3333333333333333,\"#9c179e\"],[0.4444444444444444,\"#bd3786\"],[0.5555555555555556,\"#d8576b\"],[0.6666666666666666,\"#ed7953\"],[0.7777777777777778,\"#fb9f3a\"],[0.8888888888888888,\"#fdca26\"],[1.0,\"#f0f921\"]],\"sequentialminus\":[[0.0,\"#0d0887\"],[0.1111111111111111,\"#46039f\"],[0.2222222222222222,\"#7201a8\"],[0.3333333333333333,\"#9c179e\"],[0.4444444444444444,\"#bd3786\"],[0.5555555555555556,\"#d8576b\"],[0.6666666666666666,\"#ed7953\"],[0.7777777777777778,\"#fb9f3a\"],[0.8888888888888888,\"#fdca26\"],[1.0,\"#f0f921\"]],\"diverging\":[[0,\"#8e0152\"],[0.1,\"#c51b7d\"],[0.2,\"#de77ae\"],[0.3,\"#f1b6da\"],[0.4,\"#fde0ef\"],[0.5,\"#f7f7f7\"],[0.6,\"#e6f5d0\"],[0.7,\"#b8e186\"],[0.8,\"#7fbc41\"],[0.9,\"#4d9221\"],[1,\"#276419\"]]},\"xaxis\":{\"gridcolor\":\"white\",\"linecolor\":\"white\",\"ticks\":\"\",\"title\":{\"standoff\":15},\"zerolinecolor\":\"white\",\"automargin\":true,\"zerolinewidth\":2},\"yaxis\":{\"gridcolor\":\"white\",\"linecolor\":\"white\",\"ticks\":\"\",\"title\":{\"standoff\":15},\"zerolinecolor\":\"white\",\"automargin\":true,\"zerolinewidth\":2},\"scene\":{\"xaxis\":{\"backgroundcolor\":\"#E5ECF6\",\"gridcolor\":\"white\",\"linecolor\":\"white\",\"showbackground\":true,\"ticks\":\"\",\"zerolinecolor\":\"white\",\"gridwidth\":2},\"yaxis\":{\"backgroundcolor\":\"#E5ECF6\",\"gridcolor\":\"white\",\"linecolor\":\"white\",\"showbackground\":true,\"ticks\":\"\",\"zerolinecolor\":\"white\",\"gridwidth\":2},\"zaxis\":{\"backgroundcolor\":\"#E5ECF6\",\"gridcolor\":\"white\",\"linecolor\":\"white\",\"showbackground\":true,\"ticks\":\"\",\"zerolinecolor\":\"white\",\"gridwidth\":2}},\"shapedefaults\":{\"line\":{\"color\":\"#2a3f5f\"}},\"annotationdefaults\":{\"arrowcolor\":\"#2a3f5f\",\"arrowhead\":0,\"arrowwidth\":1},\"geo\":{\"bgcolor\":\"white\",\"landcolor\":\"#E5ECF6\",\"subunitcolor\":\"white\",\"showland\":true,\"showlakes\":true,\"lakecolor\":\"white\"},\"title\":{\"x\":0.05},\"mapbox\":{\"style\":\"light\"}}},\"scene\":{\"domain\":{\"x\":[0.0,1.0],\"y\":[0.0,1.0]},\"xaxis\":{\"title\":{\"text\":\"0\"}},\"yaxis\":{\"title\":{\"text\":\"1\"}},\"zaxis\":{\"title\":{\"text\":\"2\"}}},\"legend\":{\"title\":{\"text\":\"Cluster\"},\"tracegroupgap\":0},\"margin\":{\"t\":60},\"height\":800,\"width\":1000},                        {\"responsive\": true}                    ).then(function(){\n",
       "                            \n",
       "var gd = document.getElementById('3b527e6c-12f4-4066-bf2f-8764f7f8d73c');\n",
       "var x = new MutationObserver(function (mutations, observer) {{\n",
       "        var display = window.getComputedStyle(gd).display;\n",
       "        if (!display || display === 'none') {{\n",
       "            console.log([gd, 'removed!']);\n",
       "            Plotly.purge(gd);\n",
       "            observer.disconnect();\n",
       "        }}\n",
       "}});\n",
       "\n",
       "// Listen for the removal of the full notebook cells\n",
       "var notebookContainer = gd.closest('#notebook-container');\n",
       "if (notebookContainer) {{\n",
       "    x.observe(notebookContainer, {childList: true});\n",
       "}}\n",
       "\n",
       "// Listen for the clearing of the current output cell\n",
       "var outputEl = gd.closest('.output');\n",
       "if (outputEl) {{\n",
       "    x.observe(outputEl, {childList: true});\n",
       "}}\n",
       "\n",
       "                        })                };                });            </script>        </div>"
      ]
     },
     "metadata": {},
     "output_type": "display_data"
    }
   ],
   "source": [
    "neigh = KMeans(n_clusters=5)\n",
    "neigh.fit(new_df.drop(['Name','Location'],axis=1))\n",
    "cl=neigh.labels_\n",
    "dfff=pd.DataFrame(X)\n",
    "kk=cl.tolist()\n",
    "dfff[\"Cluster\"]=cl\n",
    "dfff[\"Cluster\"]=dfff[\"Cluster\"].astype('category')\n",
    "fig = px.scatter_3d(dfff, x=0, y=1, z=2,color=\"Cluster\",width=1000, height=800)\n",
    "fig.show()"
   ]
  },
  {
   "cell_type": "code",
   "execution_count": 62,
   "id": "50356186-3194-47ce-b354-cc3cb204da76",
   "metadata": {},
   "outputs": [
    {
     "data": {
      "application/vnd.plotly.v1+json": {
       "config": {
        "plotlyServerURL": "https://plot.ly"
       },
       "data": [
        {
         "hovertemplate": "Cluster=1<br>0=%{x}<br>1=%{y}<extra></extra>",
         "legendgroup": "1",
         "marker": {
          "color": "#636efa",
          "symbol": "circle"
         },
         "mode": "markers",
         "name": "1",
         "orientation": "v",
         "showlegend": true,
         "type": "scatter",
         "x": [
          0.9713957811220001,
          0.03029213187299319,
          0.7920813552266533,
          0.6733079282423784,
          0.6976953676788464,
          0.9670278131429306,
          0.9640601602023621,
          0.044204076052765016,
          0.47841581016174584,
          0.8074786271345343,
          0.014547419348907022,
          0.9765445690636546
         ],
         "xaxis": "x",
         "y": [
          0.012684157586864541,
          0.026418444223733555,
          0.19166199742654816,
          0.3094004549421108,
          0.027347894688757715,
          0.016345201321579312,
          0.017395590784675938,
          0.03742770156426807,
          0.011101943635594587,
          0.15147301814369488,
          0.01166461085116292,
          0.011352534359046257
         ],
         "yaxis": "y"
        },
        {
         "hovertemplate": "Cluster=3<br>0=%{x}<br>1=%{y}<extra></extra>",
         "legendgroup": "3",
         "marker": {
          "color": "#EF553B",
          "symbol": "circle"
         },
         "mode": "markers",
         "name": "3",
         "orientation": "v",
         "showlegend": true,
         "type": "scatter",
         "x": [
          0.29177752585211025,
          0.023285712443246984,
          0.027755047239204952,
          0.961865435474326,
          0.9695776861653426,
          0.7049765473256853,
          0.9588896875887942,
          0.9723617220345852,
          0.9784326422559837,
          0.9539548123662736,
          0.5488911119691195
         ],
         "xaxis": "x",
         "y": [
          0.016995518165908594,
          0.018885639644196078,
          0.024107221234109272,
          0.018226373142817463,
          0.014500510193734443,
          0.013037795640717673,
          0.021782629649440114,
          0.013298293134222705,
          0.010469197761246773,
          0.0218344215161725,
          0.43661963490517497
         ],
         "yaxis": "y"
        },
        {
         "hovertemplate": "Cluster=4<br>0=%{x}<br>1=%{y}<extra></extra>",
         "legendgroup": "4",
         "marker": {
          "color": "#00cc96",
          "symbol": "circle"
         },
         "mode": "markers",
         "name": "4",
         "orientation": "v",
         "showlegend": true,
         "type": "scatter",
         "x": [
          0.971681252715461,
          0.9564158513065685,
          0.9681373888492022,
          0.02749139729872075,
          0.8434724258017885,
          0.9608328759664941,
          0.9446759241998197,
          0.9559515731222357,
          0.955412033357148,
          0.7887570226803983,
          0.15706012457814314,
          0.9735831774524591,
          0.7705493924401235,
          0.944876938168507,
          0.9408273004657964,
          0.044614284922280804,
          0.9689155894172378,
          0.022240062014019162,
          0.9410944573546444,
          0.9393468475018593,
          0.9703816720299975,
          0.9802360230505159,
          0.9826627914736594,
          0.9730007457681658,
          0.9705018271329761,
          0.8515383454192885,
          0.9601191617165094
         ],
         "xaxis": "x",
         "y": [
          0.01354777451603423,
          0.02112008861706876,
          0.015502761473115845,
          0.019867225796828702,
          0.12121326250065081,
          0.018898250836085644,
          0.0265424227069209,
          0.021064892839727036,
          0.021042010477850037,
          0.19400791093635425,
          0.01496470081281117,
          0.012591988556660777,
          0.01684868580581795,
          0.026201638837698632,
          0.028110915708593722,
          0.03730815291420753,
          0.014952082450442682,
          0.01716134223018139,
          0.02799345335360522,
          0.030889637556113004,
          0.014817412772636096,
          0.009681483368821816,
          0.008483315737714825,
          0.013161608393361827,
          0.014049837276539714,
          0.13474230665005946,
          0.017781224752350937
         ],
         "yaxis": "y"
        },
        {
         "hovertemplate": "Cluster=2<br>0=%{x}<br>1=%{y}<extra></extra>",
         "legendgroup": "2",
         "marker": {
          "color": "#ab63fa",
          "symbol": "circle"
         },
         "mode": "markers",
         "name": "2",
         "orientation": "v",
         "showlegend": true,
         "type": "scatter",
         "x": [
          0.979742935993019,
          0.980296287543572,
          0.9810961567119574,
          0.9772811125779199,
          0.9772404431027205,
          0.9751629135569556
         ],
         "xaxis": "x",
         "y": [
          0.009717483719382972,
          0.009446132081639892,
          0.00933969760231989,
          0.011117791636311417,
          0.011091284859547091,
          0.012244755791447183
         ],
         "yaxis": "y"
        },
        {
         "hovertemplate": "Cluster=0<br>0=%{x}<br>1=%{y}<extra></extra>",
         "legendgroup": "0",
         "marker": {
          "color": "#FFA15A",
          "symbol": "circle"
         },
         "mode": "markers",
         "name": "0",
         "orientation": "v",
         "showlegend": true,
         "type": "scatter",
         "x": [
          0.9798569828693947,
          0.9783660187971783
         ],
         "xaxis": "x",
         "y": [
          0.009741783143197087,
          0.010403271846506726
         ],
         "yaxis": "y"
        }
       ],
       "layout": {
        "height": 400,
        "legend": {
         "title": {
          "text": "Cluster"
         },
         "tracegroupgap": 0
        },
        "margin": {
         "t": 60
        },
        "template": {
         "data": {
          "bar": [
           {
            "error_x": {
             "color": "#2a3f5f"
            },
            "error_y": {
             "color": "#2a3f5f"
            },
            "marker": {
             "line": {
              "color": "#E5ECF6",
              "width": 0.5
             },
             "pattern": {
              "fillmode": "overlay",
              "size": 10,
              "solidity": 0.2
             }
            },
            "type": "bar"
           }
          ],
          "barpolar": [
           {
            "marker": {
             "line": {
              "color": "#E5ECF6",
              "width": 0.5
             },
             "pattern": {
              "fillmode": "overlay",
              "size": 10,
              "solidity": 0.2
             }
            },
            "type": "barpolar"
           }
          ],
          "carpet": [
           {
            "aaxis": {
             "endlinecolor": "#2a3f5f",
             "gridcolor": "white",
             "linecolor": "white",
             "minorgridcolor": "white",
             "startlinecolor": "#2a3f5f"
            },
            "baxis": {
             "endlinecolor": "#2a3f5f",
             "gridcolor": "white",
             "linecolor": "white",
             "minorgridcolor": "white",
             "startlinecolor": "#2a3f5f"
            },
            "type": "carpet"
           }
          ],
          "choropleth": [
           {
            "colorbar": {
             "outlinewidth": 0,
             "ticks": ""
            },
            "type": "choropleth"
           }
          ],
          "contour": [
           {
            "colorbar": {
             "outlinewidth": 0,
             "ticks": ""
            },
            "colorscale": [
             [
              0,
              "#0d0887"
             ],
             [
              0.1111111111111111,
              "#46039f"
             ],
             [
              0.2222222222222222,
              "#7201a8"
             ],
             [
              0.3333333333333333,
              "#9c179e"
             ],
             [
              0.4444444444444444,
              "#bd3786"
             ],
             [
              0.5555555555555556,
              "#d8576b"
             ],
             [
              0.6666666666666666,
              "#ed7953"
             ],
             [
              0.7777777777777778,
              "#fb9f3a"
             ],
             [
              0.8888888888888888,
              "#fdca26"
             ],
             [
              1,
              "#f0f921"
             ]
            ],
            "type": "contour"
           }
          ],
          "contourcarpet": [
           {
            "colorbar": {
             "outlinewidth": 0,
             "ticks": ""
            },
            "type": "contourcarpet"
           }
          ],
          "heatmap": [
           {
            "colorbar": {
             "outlinewidth": 0,
             "ticks": ""
            },
            "colorscale": [
             [
              0,
              "#0d0887"
             ],
             [
              0.1111111111111111,
              "#46039f"
             ],
             [
              0.2222222222222222,
              "#7201a8"
             ],
             [
              0.3333333333333333,
              "#9c179e"
             ],
             [
              0.4444444444444444,
              "#bd3786"
             ],
             [
              0.5555555555555556,
              "#d8576b"
             ],
             [
              0.6666666666666666,
              "#ed7953"
             ],
             [
              0.7777777777777778,
              "#fb9f3a"
             ],
             [
              0.8888888888888888,
              "#fdca26"
             ],
             [
              1,
              "#f0f921"
             ]
            ],
            "type": "heatmap"
           }
          ],
          "heatmapgl": [
           {
            "colorbar": {
             "outlinewidth": 0,
             "ticks": ""
            },
            "colorscale": [
             [
              0,
              "#0d0887"
             ],
             [
              0.1111111111111111,
              "#46039f"
             ],
             [
              0.2222222222222222,
              "#7201a8"
             ],
             [
              0.3333333333333333,
              "#9c179e"
             ],
             [
              0.4444444444444444,
              "#bd3786"
             ],
             [
              0.5555555555555556,
              "#d8576b"
             ],
             [
              0.6666666666666666,
              "#ed7953"
             ],
             [
              0.7777777777777778,
              "#fb9f3a"
             ],
             [
              0.8888888888888888,
              "#fdca26"
             ],
             [
              1,
              "#f0f921"
             ]
            ],
            "type": "heatmapgl"
           }
          ],
          "histogram": [
           {
            "marker": {
             "pattern": {
              "fillmode": "overlay",
              "size": 10,
              "solidity": 0.2
             }
            },
            "type": "histogram"
           }
          ],
          "histogram2d": [
           {
            "colorbar": {
             "outlinewidth": 0,
             "ticks": ""
            },
            "colorscale": [
             [
              0,
              "#0d0887"
             ],
             [
              0.1111111111111111,
              "#46039f"
             ],
             [
              0.2222222222222222,
              "#7201a8"
             ],
             [
              0.3333333333333333,
              "#9c179e"
             ],
             [
              0.4444444444444444,
              "#bd3786"
             ],
             [
              0.5555555555555556,
              "#d8576b"
             ],
             [
              0.6666666666666666,
              "#ed7953"
             ],
             [
              0.7777777777777778,
              "#fb9f3a"
             ],
             [
              0.8888888888888888,
              "#fdca26"
             ],
             [
              1,
              "#f0f921"
             ]
            ],
            "type": "histogram2d"
           }
          ],
          "histogram2dcontour": [
           {
            "colorbar": {
             "outlinewidth": 0,
             "ticks": ""
            },
            "colorscale": [
             [
              0,
              "#0d0887"
             ],
             [
              0.1111111111111111,
              "#46039f"
             ],
             [
              0.2222222222222222,
              "#7201a8"
             ],
             [
              0.3333333333333333,
              "#9c179e"
             ],
             [
              0.4444444444444444,
              "#bd3786"
             ],
             [
              0.5555555555555556,
              "#d8576b"
             ],
             [
              0.6666666666666666,
              "#ed7953"
             ],
             [
              0.7777777777777778,
              "#fb9f3a"
             ],
             [
              0.8888888888888888,
              "#fdca26"
             ],
             [
              1,
              "#f0f921"
             ]
            ],
            "type": "histogram2dcontour"
           }
          ],
          "mesh3d": [
           {
            "colorbar": {
             "outlinewidth": 0,
             "ticks": ""
            },
            "type": "mesh3d"
           }
          ],
          "parcoords": [
           {
            "line": {
             "colorbar": {
              "outlinewidth": 0,
              "ticks": ""
             }
            },
            "type": "parcoords"
           }
          ],
          "pie": [
           {
            "automargin": true,
            "type": "pie"
           }
          ],
          "scatter": [
           {
            "fillpattern": {
             "fillmode": "overlay",
             "size": 10,
             "solidity": 0.2
            },
            "type": "scatter"
           }
          ],
          "scatter3d": [
           {
            "line": {
             "colorbar": {
              "outlinewidth": 0,
              "ticks": ""
             }
            },
            "marker": {
             "colorbar": {
              "outlinewidth": 0,
              "ticks": ""
             }
            },
            "type": "scatter3d"
           }
          ],
          "scattercarpet": [
           {
            "marker": {
             "colorbar": {
              "outlinewidth": 0,
              "ticks": ""
             }
            },
            "type": "scattercarpet"
           }
          ],
          "scattergeo": [
           {
            "marker": {
             "colorbar": {
              "outlinewidth": 0,
              "ticks": ""
             }
            },
            "type": "scattergeo"
           }
          ],
          "scattergl": [
           {
            "marker": {
             "colorbar": {
              "outlinewidth": 0,
              "ticks": ""
             }
            },
            "type": "scattergl"
           }
          ],
          "scattermapbox": [
           {
            "marker": {
             "colorbar": {
              "outlinewidth": 0,
              "ticks": ""
             }
            },
            "type": "scattermapbox"
           }
          ],
          "scatterpolar": [
           {
            "marker": {
             "colorbar": {
              "outlinewidth": 0,
              "ticks": ""
             }
            },
            "type": "scatterpolar"
           }
          ],
          "scatterpolargl": [
           {
            "marker": {
             "colorbar": {
              "outlinewidth": 0,
              "ticks": ""
             }
            },
            "type": "scatterpolargl"
           }
          ],
          "scatterternary": [
           {
            "marker": {
             "colorbar": {
              "outlinewidth": 0,
              "ticks": ""
             }
            },
            "type": "scatterternary"
           }
          ],
          "surface": [
           {
            "colorbar": {
             "outlinewidth": 0,
             "ticks": ""
            },
            "colorscale": [
             [
              0,
              "#0d0887"
             ],
             [
              0.1111111111111111,
              "#46039f"
             ],
             [
              0.2222222222222222,
              "#7201a8"
             ],
             [
              0.3333333333333333,
              "#9c179e"
             ],
             [
              0.4444444444444444,
              "#bd3786"
             ],
             [
              0.5555555555555556,
              "#d8576b"
             ],
             [
              0.6666666666666666,
              "#ed7953"
             ],
             [
              0.7777777777777778,
              "#fb9f3a"
             ],
             [
              0.8888888888888888,
              "#fdca26"
             ],
             [
              1,
              "#f0f921"
             ]
            ],
            "type": "surface"
           }
          ],
          "table": [
           {
            "cells": {
             "fill": {
              "color": "#EBF0F8"
             },
             "line": {
              "color": "white"
             }
            },
            "header": {
             "fill": {
              "color": "#C8D4E3"
             },
             "line": {
              "color": "white"
             }
            },
            "type": "table"
           }
          ]
         },
         "layout": {
          "annotationdefaults": {
           "arrowcolor": "#2a3f5f",
           "arrowhead": 0,
           "arrowwidth": 1
          },
          "autotypenumbers": "strict",
          "coloraxis": {
           "colorbar": {
            "outlinewidth": 0,
            "ticks": ""
           }
          },
          "colorscale": {
           "diverging": [
            [
             0,
             "#8e0152"
            ],
            [
             0.1,
             "#c51b7d"
            ],
            [
             0.2,
             "#de77ae"
            ],
            [
             0.3,
             "#f1b6da"
            ],
            [
             0.4,
             "#fde0ef"
            ],
            [
             0.5,
             "#f7f7f7"
            ],
            [
             0.6,
             "#e6f5d0"
            ],
            [
             0.7,
             "#b8e186"
            ],
            [
             0.8,
             "#7fbc41"
            ],
            [
             0.9,
             "#4d9221"
            ],
            [
             1,
             "#276419"
            ]
           ],
           "sequential": [
            [
             0,
             "#0d0887"
            ],
            [
             0.1111111111111111,
             "#46039f"
            ],
            [
             0.2222222222222222,
             "#7201a8"
            ],
            [
             0.3333333333333333,
             "#9c179e"
            ],
            [
             0.4444444444444444,
             "#bd3786"
            ],
            [
             0.5555555555555556,
             "#d8576b"
            ],
            [
             0.6666666666666666,
             "#ed7953"
            ],
            [
             0.7777777777777778,
             "#fb9f3a"
            ],
            [
             0.8888888888888888,
             "#fdca26"
            ],
            [
             1,
             "#f0f921"
            ]
           ],
           "sequentialminus": [
            [
             0,
             "#0d0887"
            ],
            [
             0.1111111111111111,
             "#46039f"
            ],
            [
             0.2222222222222222,
             "#7201a8"
            ],
            [
             0.3333333333333333,
             "#9c179e"
            ],
            [
             0.4444444444444444,
             "#bd3786"
            ],
            [
             0.5555555555555556,
             "#d8576b"
            ],
            [
             0.6666666666666666,
             "#ed7953"
            ],
            [
             0.7777777777777778,
             "#fb9f3a"
            ],
            [
             0.8888888888888888,
             "#fdca26"
            ],
            [
             1,
             "#f0f921"
            ]
           ]
          },
          "colorway": [
           "#636efa",
           "#EF553B",
           "#00cc96",
           "#ab63fa",
           "#FFA15A",
           "#19d3f3",
           "#FF6692",
           "#B6E880",
           "#FF97FF",
           "#FECB52"
          ],
          "font": {
           "color": "#2a3f5f"
          },
          "geo": {
           "bgcolor": "white",
           "lakecolor": "white",
           "landcolor": "#E5ECF6",
           "showlakes": true,
           "showland": true,
           "subunitcolor": "white"
          },
          "hoverlabel": {
           "align": "left"
          },
          "hovermode": "closest",
          "mapbox": {
           "style": "light"
          },
          "paper_bgcolor": "white",
          "plot_bgcolor": "#E5ECF6",
          "polar": {
           "angularaxis": {
            "gridcolor": "white",
            "linecolor": "white",
            "ticks": ""
           },
           "bgcolor": "#E5ECF6",
           "radialaxis": {
            "gridcolor": "white",
            "linecolor": "white",
            "ticks": ""
           }
          },
          "scene": {
           "xaxis": {
            "backgroundcolor": "#E5ECF6",
            "gridcolor": "white",
            "gridwidth": 2,
            "linecolor": "white",
            "showbackground": true,
            "ticks": "",
            "zerolinecolor": "white"
           },
           "yaxis": {
            "backgroundcolor": "#E5ECF6",
            "gridcolor": "white",
            "gridwidth": 2,
            "linecolor": "white",
            "showbackground": true,
            "ticks": "",
            "zerolinecolor": "white"
           },
           "zaxis": {
            "backgroundcolor": "#E5ECF6",
            "gridcolor": "white",
            "gridwidth": 2,
            "linecolor": "white",
            "showbackground": true,
            "ticks": "",
            "zerolinecolor": "white"
           }
          },
          "shapedefaults": {
           "line": {
            "color": "#2a3f5f"
           }
          },
          "ternary": {
           "aaxis": {
            "gridcolor": "white",
            "linecolor": "white",
            "ticks": ""
           },
           "baxis": {
            "gridcolor": "white",
            "linecolor": "white",
            "ticks": ""
           },
           "bgcolor": "#E5ECF6",
           "caxis": {
            "gridcolor": "white",
            "linecolor": "white",
            "ticks": ""
           }
          },
          "title": {
           "x": 0.05
          },
          "xaxis": {
           "automargin": true,
           "gridcolor": "white",
           "linecolor": "white",
           "ticks": "",
           "title": {
            "standoff": 15
           },
           "zerolinecolor": "white",
           "zerolinewidth": 2
          },
          "yaxis": {
           "automargin": true,
           "gridcolor": "white",
           "linecolor": "white",
           "ticks": "",
           "title": {
            "standoff": 15
           },
           "zerolinecolor": "white",
           "zerolinewidth": 2
          }
         }
        },
        "width": 800,
        "xaxis": {
         "anchor": "y",
         "autorange": true,
         "domain": [
          0,
          1
         ],
         "range": [
          -0.046332307218304766,
          1.0435425180408713
         ],
         "title": {
          "text": "0"
         },
         "type": "linear"
        },
        "yaxis": {
         "anchor": "x",
         "autorange": true,
         "domain": [
          0,
          1
         ],
         "range": [
          -0.023177979388355627,
          0.46828093003124543
         ],
         "title": {
          "text": "1"
         },
         "type": "linear"
        }
       }
      },
      "image/png": "[encoded data removed]",
      "text/html": [
       "<div>                            <div id=\"51c1ff37-08cb-4635-b705-1426e100e718\" class=\"plotly-graph-div\" style=\"height:400px; width:800px;\"></div>            <script type=\"text/javascript\">                require([\"plotly\"], function(Plotly) {                    window.PLOTLYENV=window.PLOTLYENV || {};                                    if (document.getElementById(\"51c1ff37-08cb-4635-b705-1426e100e718\")) {                    Plotly.newPlot(                        \"51c1ff37-08cb-4635-b705-1426e100e718\",                        [{\"hovertemplate\":\"Cluster=1\\u003cbr\\u003e0=%{x}\\u003cbr\\u003e1=%{y}\\u003cextra\\u003e\\u003c\\u002fextra\\u003e\",\"legendgroup\":\"1\",\"marker\":{\"color\":\"#636efa\",\"symbol\":\"circle\"},\"mode\":\"markers\",\"name\":\"1\",\"orientation\":\"v\",\"showlegend\":true,\"x\":[0.9713957811220001,0.03029213187299319,0.7920813552266533,0.6733079282423784,0.6976953676788464,0.9670278131429306,0.9640601602023621,0.044204076052765016,0.47841581016174584,0.8074786271345343,0.014547419348907022,0.9765445690636546],\"xaxis\":\"x\",\"y\":[0.012684157586864541,0.026418444223733555,0.19166199742654816,0.3094004549421108,0.027347894688757715,0.016345201321579312,0.017395590784675938,0.03742770156426807,0.011101943635594587,0.15147301814369488,0.01166461085116292,0.011352534359046257],\"yaxis\":\"y\",\"type\":\"scatter\"},{\"hovertemplate\":\"Cluster=3\\u003cbr\\u003e0=%{x}\\u003cbr\\u003e1=%{y}\\u003cextra\\u003e\\u003c\\u002fextra\\u003e\",\"legendgroup\":\"3\",\"marker\":{\"color\":\"#EF553B\",\"symbol\":\"circle\"},\"mode\":\"markers\",\"name\":\"3\",\"orientation\":\"v\",\"showlegend\":true,\"x\":[0.29177752585211025,0.023285712443246984,0.027755047239204952,0.961865435474326,0.9695776861653426,0.7049765473256853,0.9588896875887942,0.9723617220345852,0.9784326422559837,0.9539548123662736,0.5488911119691195],\"xaxis\":\"x\",\"y\":[0.016995518165908594,0.018885639644196078,0.024107221234109272,0.018226373142817463,0.014500510193734443,0.013037795640717673,0.021782629649440114,0.013298293134222705,0.010469197761246773,0.0218344215161725,0.43661963490517497],\"yaxis\":\"y\",\"type\":\"scatter\"},{\"hovertemplate\":\"Cluster=4\\u003cbr\\u003e0=%{x}\\u003cbr\\u003e1=%{y}\\u003cextra\\u003e\\u003c\\u002fextra\\u003e\",\"legendgroup\":\"4\",\"marker\":{\"color\":\"#00cc96\",\"symbol\":\"circle\"},\"mode\":\"markers\",\"name\":\"4\",\"orientation\":\"v\",\"showlegend\":true,\"x\":[0.971681252715461,0.9564158513065685,0.9681373888492022,0.02749139729872075,0.8434724258017885,0.9608328759664941,0.9446759241998197,0.9559515731222357,0.955412033357148,0.7887570226803983,0.15706012457814314,0.9735831774524591,0.7705493924401235,0.944876938168507,0.9408273004657964,0.044614284922280804,0.9689155894172378,0.022240062014019162,0.9410944573546444,0.9393468475018593,0.9703816720299975,0.9802360230505159,0.9826627914736594,0.9730007457681658,0.9705018271329761,0.8515383454192885,0.9601191617165094],\"xaxis\":\"x\",\"y\":[0.01354777451603423,0.02112008861706876,0.015502761473115845,0.019867225796828702,0.12121326250065081,0.018898250836085644,0.0265424227069209,0.021064892839727036,0.021042010477850037,0.19400791093635425,0.01496470081281117,0.012591988556660777,0.01684868580581795,0.026201638837698632,0.028110915708593722,0.03730815291420753,0.014952082450442682,0.01716134223018139,0.02799345335360522,0.030889637556113004,0.014817412772636096,0.009681483368821816,0.008483315737714825,0.013161608393361827,0.014049837276539714,0.13474230665005946,0.017781224752350937],\"yaxis\":\"y\",\"type\":\"scatter\"},{\"hovertemplate\":\"Cluster=2\\u003cbr\\u003e0=%{x}\\u003cbr\\u003e1=%{y}\\u003cextra\\u003e\\u003c\\u002fextra\\u003e\",\"legendgroup\":\"2\",\"marker\":{\"color\":\"#ab63fa\",\"symbol\":\"circle\"},\"mode\":\"markers\",\"name\":\"2\",\"orientation\":\"v\",\"showlegend\":true,\"x\":[0.979742935993019,0.980296287543572,0.9810961567119574,0.9772811125779199,0.9772404431027205,0.9751629135569556],\"xaxis\":\"x\",\"y\":[0.009717483719382972,0.009446132081639892,0.00933969760231989,0.011117791636311417,0.011091284859547091,0.012244755791447183],\"yaxis\":\"y\",\"type\":\"scatter\"},{\"hovertemplate\":\"Cluster=0\\u003cbr\\u003e0=%{x}\\u003cbr\\u003e1=%{y}\\u003cextra\\u003e\\u003c\\u002fextra\\u003e\",\"legendgroup\":\"0\",\"marker\":{\"color\":\"#FFA15A\",\"symbol\":\"circle\"},\"mode\":\"markers\",\"name\":\"0\",\"orientation\":\"v\",\"showlegend\":true,\"x\":[0.9798569828693947,0.9783660187971783],\"xaxis\":\"x\",\"y\":[0.009741783143197087,0.010403271846506726],\"yaxis\":\"y\",\"type\":\"scatter\"}],                        {\"template\":{\"data\":{\"histogram2dcontour\":[{\"type\":\"histogram2dcontour\",\"colorbar\":{\"outlinewidth\":0,\"ticks\":\"\"},\"colorscale\":[[0.0,\"#0d0887\"],[0.1111111111111111,\"#46039f\"],[0.2222222222222222,\"#7201a8\"],[0.3333333333333333,\"#9c179e\"],[0.4444444444444444,\"#bd3786\"],[0.5555555555555556,\"#d8576b\"],[0.6666666666666666,\"#ed7953\"],[0.7777777777777778,\"#fb9f3a\"],[0.8888888888888888,\"#fdca26\"],[1.0,\"#f0f921\"]]}],\"choropleth\":[{\"type\":\"choropleth\",\"colorbar\":{\"outlinewidth\":0,\"ticks\":\"\"}}],\"histogram2d\":[{\"type\":\"histogram2d\",\"colorbar\":{\"outlinewidth\":0,\"ticks\":\"\"},\"colorscale\":[[0.0,\"#0d0887\"],[0.1111111111111111,\"#46039f\"],[0.2222222222222222,\"#7201a8\"],[0.3333333333333333,\"#9c179e\"],[0.4444444444444444,\"#bd3786\"],[0.5555555555555556,\"#d8576b\"],[0.6666666666666666,\"#ed7953\"],[0.7777777777777778,\"#fb9f3a\"],[0.8888888888888888,\"#fdca26\"],[1.0,\"#f0f921\"]]}],\"heatmap\":[{\"type\":\"heatmap\",\"colorbar\":{\"outlinewidth\":0,\"ticks\":\"\"},\"colorscale\":[[0.0,\"#0d0887\"],[0.1111111111111111,\"#46039f\"],[0.2222222222222222,\"#7201a8\"],[0.3333333333333333,\"#9c179e\"],[0.4444444444444444,\"#bd3786\"],[0.5555555555555556,\"#d8576b\"],[0.6666666666666666,\"#ed7953\"],[0.7777777777777778,\"#fb9f3a\"],[0.8888888888888888,\"#fdca26\"],[1.0,\"#f0f921\"]]}],\"heatmapgl\":[{\"type\":\"heatmapgl\",\"colorbar\":{\"outlinewidth\":0,\"ticks\":\"\"},\"colorscale\":[[0.0,\"#0d0887\"],[0.1111111111111111,\"#46039f\"],[0.2222222222222222,\"#7201a8\"],[0.3333333333333333,\"#9c179e\"],[0.4444444444444444,\"#bd3786\"],[0.5555555555555556,\"#d8576b\"],[0.6666666666666666,\"#ed7953\"],[0.7777777777777778,\"#fb9f3a\"],[0.8888888888888888,\"#fdca26\"],[1.0,\"#f0f921\"]]}],\"contourcarpet\":[{\"type\":\"contourcarpet\",\"colorbar\":{\"outlinewidth\":0,\"ticks\":\"\"}}],\"contour\":[{\"type\":\"contour\",\"colorbar\":{\"outlinewidth\":0,\"ticks\":\"\"},\"colorscale\":[[0.0,\"#0d0887\"],[0.1111111111111111,\"#46039f\"],[0.2222222222222222,\"#7201a8\"],[0.3333333333333333,\"#9c179e\"],[0.4444444444444444,\"#bd3786\"],[0.5555555555555556,\"#d8576b\"],[0.6666666666666666,\"#ed7953\"],[0.7777777777777778,\"#fb9f3a\"],[0.8888888888888888,\"#fdca26\"],[1.0,\"#f0f921\"]]}],\"surface\":[{\"type\":\"surface\",\"colorbar\":{\"outlinewidth\":0,\"ticks\":\"\"},\"colorscale\":[[0.0,\"#0d0887\"],[0.1111111111111111,\"#46039f\"],[0.2222222222222222,\"#7201a8\"],[0.3333333333333333,\"#9c179e\"],[0.4444444444444444,\"#bd3786\"],[0.5555555555555556,\"#d8576b\"],[0.6666666666666666,\"#ed7953\"],[0.7777777777777778,\"#fb9f3a\"],[0.8888888888888888,\"#fdca26\"],[1.0,\"#f0f921\"]]}],\"mesh3d\":[{\"type\":\"mesh3d\",\"colorbar\":{\"outlinewidth\":0,\"ticks\":\"\"}}],\"scatter\":[{\"fillpattern\":{\"fillmode\":\"overlay\",\"size\":10,\"solidity\":0.2},\"type\":\"scatter\"}],\"parcoords\":[{\"type\":\"parcoords\",\"line\":{\"colorbar\":{\"outlinewidth\":0,\"ticks\":\"\"}}}],\"scatterpolargl\":[{\"type\":\"scatterpolargl\",\"marker\":{\"colorbar\":{\"outlinewidth\":0,\"ticks\":\"\"}}}],\"bar\":[{\"error_x\":{\"color\":\"#2a3f5f\"},\"error_y\":{\"color\":\"#2a3f5f\"},\"marker\":{\"line\":{\"color\":\"#E5ECF6\",\"width\":0.5},\"pattern\":{\"fillmode\":\"overlay\",\"size\":10,\"solidity\":0.2}},\"type\":\"bar\"}],\"scattergeo\":[{\"type\":\"scattergeo\",\"marker\":{\"colorbar\":{\"outlinewidth\":0,\"ticks\":\"\"}}}],\"scatterpolar\":[{\"type\":\"scatterpolar\",\"marker\":{\"colorbar\":{\"outlinewidth\":0,\"ticks\":\"\"}}}],\"histogram\":[{\"marker\":{\"pattern\":{\"fillmode\":\"overlay\",\"size\":10,\"solidity\":0.2}},\"type\":\"histogram\"}],\"scattergl\":[{\"type\":\"scattergl\",\"marker\":{\"colorbar\":{\"outlinewidth\":0,\"ticks\":\"\"}}}],\"scatter3d\":[{\"type\":\"scatter3d\",\"line\":{\"colorbar\":{\"outlinewidth\":0,\"ticks\":\"\"}},\"marker\":{\"colorbar\":{\"outlinewidth\":0,\"ticks\":\"\"}}}],\"scattermapbox\":[{\"type\":\"scattermapbox\",\"marker\":{\"colorbar\":{\"outlinewidth\":0,\"ticks\":\"\"}}}],\"scatterternary\":[{\"type\":\"scatterternary\",\"marker\":{\"colorbar\":{\"outlinewidth\":0,\"ticks\":\"\"}}}],\"scattercarpet\":[{\"type\":\"scattercarpet\",\"marker\":{\"colorbar\":{\"outlinewidth\":0,\"ticks\":\"\"}}}],\"carpet\":[{\"aaxis\":{\"endlinecolor\":\"#2a3f5f\",\"gridcolor\":\"white\",\"linecolor\":\"white\",\"minorgridcolor\":\"white\",\"startlinecolor\":\"#2a3f5f\"},\"baxis\":{\"endlinecolor\":\"#2a3f5f\",\"gridcolor\":\"white\",\"linecolor\":\"white\",\"minorgridcolor\":\"white\",\"startlinecolor\":\"#2a3f5f\"},\"type\":\"carpet\"}],\"table\":[{\"cells\":{\"fill\":{\"color\":\"#EBF0F8\"},\"line\":{\"color\":\"white\"}},\"header\":{\"fill\":{\"color\":\"#C8D4E3\"},\"line\":{\"color\":\"white\"}},\"type\":\"table\"}],\"barpolar\":[{\"marker\":{\"line\":{\"color\":\"#E5ECF6\",\"width\":0.5},\"pattern\":{\"fillmode\":\"overlay\",\"size\":10,\"solidity\":0.2}},\"type\":\"barpolar\"}],\"pie\":[{\"automargin\":true,\"type\":\"pie\"}]},\"layout\":{\"autotypenumbers\":\"strict\",\"colorway\":[\"#636efa\",\"#EF553B\",\"#00cc96\",\"#ab63fa\",\"#FFA15A\",\"#19d3f3\",\"#FF6692\",\"#B6E880\",\"#FF97FF\",\"#FECB52\"],\"font\":{\"color\":\"#2a3f5f\"},\"hovermode\":\"closest\",\"hoverlabel\":{\"align\":\"left\"},\"paper_bgcolor\":\"white\",\"plot_bgcolor\":\"#E5ECF6\",\"polar\":{\"bgcolor\":\"#E5ECF6\",\"angularaxis\":{\"gridcolor\":\"white\",\"linecolor\":\"white\",\"ticks\":\"\"},\"radialaxis\":{\"gridcolor\":\"white\",\"linecolor\":\"white\",\"ticks\":\"\"}},\"ternary\":{\"bgcolor\":\"#E5ECF6\",\"aaxis\":{\"gridcolor\":\"white\",\"linecolor\":\"white\",\"ticks\":\"\"},\"baxis\":{\"gridcolor\":\"white\",\"linecolor\":\"white\",\"ticks\":\"\"},\"caxis\":{\"gridcolor\":\"white\",\"linecolor\":\"white\",\"ticks\":\"\"}},\"coloraxis\":{\"colorbar\":{\"outlinewidth\":0,\"ticks\":\"\"}},\"colorscale\":{\"sequential\":[[0.0,\"#0d0887\"],[0.1111111111111111,\"#46039f\"],[0.2222222222222222,\"#7201a8\"],[0.3333333333333333,\"#9c179e\"],[0.4444444444444444,\"#bd3786\"],[0.5555555555555556,\"#d8576b\"],[0.6666666666666666,\"#ed7953\"],[0.7777777777777778,\"#fb9f3a\"],[0.8888888888888888,\"#fdca26\"],[1.0,\"#f0f921\"]],\"sequentialminus\":[[0.0,\"#0d0887\"],[0.1111111111111111,\"#46039f\"],[0.2222222222222222,\"#7201a8\"],[0.3333333333333333,\"#9c179e\"],[0.4444444444444444,\"#bd3786\"],[0.5555555555555556,\"#d8576b\"],[0.6666666666666666,\"#ed7953\"],[0.7777777777777778,\"#fb9f3a\"],[0.8888888888888888,\"#fdca26\"],[1.0,\"#f0f921\"]],\"diverging\":[[0,\"#8e0152\"],[0.1,\"#c51b7d\"],[0.2,\"#de77ae\"],[0.3,\"#f1b6da\"],[0.4,\"#fde0ef\"],[0.5,\"#f7f7f7\"],[0.6,\"#e6f5d0\"],[0.7,\"#b8e186\"],[0.8,\"#7fbc41\"],[0.9,\"#4d9221\"],[1,\"#276419\"]]},\"xaxis\":{\"gridcolor\":\"white\",\"linecolor\":\"white\",\"ticks\":\"\",\"title\":{\"standoff\":15},\"zerolinecolor\":\"white\",\"automargin\":true,\"zerolinewidth\":2},\"yaxis\":{\"gridcolor\":\"white\",\"linecolor\":\"white\",\"ticks\":\"\",\"title\":{\"standoff\":15},\"zerolinecolor\":\"white\",\"automargin\":true,\"zerolinewidth\":2},\"scene\":{\"xaxis\":{\"backgroundcolor\":\"#E5ECF6\",\"gridcolor\":\"white\",\"linecolor\":\"white\",\"showbackground\":true,\"ticks\":\"\",\"zerolinecolor\":\"white\",\"gridwidth\":2},\"yaxis\":{\"backgroundcolor\":\"#E5ECF6\",\"gridcolor\":\"white\",\"linecolor\":\"white\",\"showbackground\":true,\"ticks\":\"\",\"zerolinecolor\":\"white\",\"gridwidth\":2},\"zaxis\":{\"backgroundcolor\":\"#E5ECF6\",\"gridcolor\":\"white\",\"linecolor\":\"white\",\"showbackground\":true,\"ticks\":\"\",\"zerolinecolor\":\"white\",\"gridwidth\":2}},\"shapedefaults\":{\"line\":{\"color\":\"#2a3f5f\"}},\"annotationdefaults\":{\"arrowcolor\":\"#2a3f5f\",\"arrowhead\":0,\"arrowwidth\":1},\"geo\":{\"bgcolor\":\"white\",\"landcolor\":\"#E5ECF6\",\"subunitcolor\":\"white\",\"showland\":true,\"showlakes\":true,\"lakecolor\":\"white\"},\"title\":{\"x\":0.05},\"mapbox\":{\"style\":\"light\"}}},\"xaxis\":{\"anchor\":\"y\",\"domain\":[0.0,1.0],\"title\":{\"text\":\"0\"}},\"yaxis\":{\"anchor\":\"x\",\"domain\":[0.0,1.0],\"title\":{\"text\":\"1\"}},\"legend\":{\"title\":{\"text\":\"Cluster\"},\"tracegroupgap\":0},\"margin\":{\"t\":60},\"height\":400,\"width\":800},                        {\"responsive\": true}                    ).then(function(){\n",
       "                            \n",
       "var gd = document.getElementById('51c1ff37-08cb-4635-b705-1426e100e718');\n",
       "var x = new MutationObserver(function (mutations, observer) {{\n",
       "        var display = window.getComputedStyle(gd).display;\n",
       "        if (!display || display === 'none') {{\n",
       "            console.log([gd, 'removed!']);\n",
       "            Plotly.purge(gd);\n",
       "            observer.disconnect();\n",
       "        }}\n",
       "}});\n",
       "\n",
       "// Listen for the removal of the full notebook cells\n",
       "var notebookContainer = gd.closest('#notebook-container');\n",
       "if (notebookContainer) {{\n",
       "    x.observe(notebookContainer, {childList: true});\n",
       "}}\n",
       "\n",
       "// Listen for the clearing of the current output cell\n",
       "var outputEl = gd.closest('.output');\n",
       "if (outputEl) {{\n",
       "    x.observe(outputEl, {childList: true});\n",
       "}}\n",
       "\n",
       "                        })                };                });            </script>        </div>"
      ]
     },
     "metadata": {},
     "output_type": "display_data"
    }
   ],
   "source": [
    "lda = LatentDirichletAllocation(n_components=3,random_state=0)\n",
    "lda.fit(new_df.drop(['Name','Location'],axis=1))\n",
    "X_2D=lda.transform(new_df.drop(['Name','Location'],axis=1))\n",
    "dfff=pd.DataFrame(X_2D)\n",
    "dfff[\"Cluster\"]=cl\n",
    "dfff[\"Cluster\"]=dfff[\"Cluster\"].astype('category')\n",
    "fig = px.scatter(dfff, x=0, y=1,color=\"Cluster\",width=800, height=400)\n",
    "fig.show()"
   ]
  },
  {
   "cell_type": "code",
   "execution_count": 64,
   "id": "901505d3-d84b-414b-a132-c0ec0b9fb6bb",
   "metadata": {},
   "outputs": [
    {
     "data": {
      "application/vnd.plotly.v1+json": {
       "config": {
        "plotlyServerURL": "https://plot.ly"
       },
       "data": [
        {
         "hovertemplate": "Cluster=1<br>0=%{x}<br>1=%{y}<br>2=%{z}<extra></extra>",
         "legendgroup": "1",
         "marker": {
          "color": "#636efa",
          "symbol": "circle"
         },
         "mode": "markers",
         "name": "1",
         "scene": "scene",
         "showlegend": true,
         "type": "scatter3d",
         "x": [
          37.965816,
          12.553691,
          -1.3404083,
          61.125275,
          -79.83943,
          57.19568,
          -6.0085406,
          -29.517637,
          -9.6701145,
          -73.934204,
          -10.74546,
          47.506245,
          -55.294712,
          -17.969845,
          117.35523,
          9.696586
         ],
         "y": [
          52.507126,
          -65.35048,
          87.09657,
          8.245438,
          25.959644,
          -37.51045,
          42.417294,
          43.500587,
          -58.727684,
          -17.094816,
          -3.0813615,
          90.10968,
          86.83417,
          -14.447331,
          53.684696,
          -51.213017
         ],
         "z": [
          36.470325,
          -102.368355,
          0.12906756,
          -15.918441,
          50.143387,
          8.024207,
          98.23108,
          11.429232,
          -86.30251,
          9.969361,
          -13.307786,
          -44.80182,
          14.046036,
          -35.345776,
          15.904992,
          -39.007633
         ]
        },
        {
         "hovertemplate": "Cluster=0<br>0=%{x}<br>1=%{y}<br>2=%{z}<extra></extra>",
         "legendgroup": "0",
         "marker": {
          "color": "#EF553B",
          "symbol": "circle"
         },
         "mode": "markers",
         "name": "0",
         "scene": "scene",
         "showlegend": true,
         "type": "scatter3d",
         "x": [
          51.228165,
          -48.996452
         ],
         "y": [
          -38.46869,
          13.013084
         ],
         "z": [
          65.53784,
          -100.82517
         ]
        },
        {
         "hovertemplate": "Cluster=2<br>0=%{x}<br>1=%{y}<br>2=%{z}<extra></extra>",
         "legendgroup": "2",
         "marker": {
          "color": "#00cc96",
          "symbol": "circle"
         },
         "mode": "markers",
         "name": "2",
         "scene": "scene",
         "showlegend": true,
         "type": "scatter3d",
         "x": [
          154.50702,
          -66.125824,
          -91.99761,
          -105.66553,
          -35.216595,
          -9.188164,
          -56.05602,
          -48.934574,
          -73.06551,
          -100.31531
         ],
         "y": [
          42.744526,
          -26.699453,
          -19.1066,
          -4.996824,
          -33.565514,
          46.292747,
          -78.22971,
          -76.144196,
          49.503235,
          -35.814976
         ],
         "z": [
          121.85969,
          -89.14257,
          -2.7188077,
          -10.368703,
          -31.29852,
          57.64185,
          -13.6722975,
          10.18066,
          -36.023746,
          -19.4576
         ]
        },
        {
         "hovertemplate": "Cluster=4<br>0=%{x}<br>1=%{y}<br>2=%{z}<extra></extra>",
         "legendgroup": "4",
         "marker": {
          "color": "#ab63fa",
          "symbol": "circle"
         },
         "mode": "markers",
         "name": "4",
         "scene": "scene",
         "showlegend": true,
         "type": "scatter3d",
         "x": [
          -1.5974323,
          3.0181022,
          41.393356,
          -94.95252,
          14.809701,
          71.71023,
          43.396515,
          11.851035,
          33.501625,
          43.537945,
          91.69217,
          44.867058,
          23.23114,
          45.482742,
          49.08806,
          25.15248,
          14.12539,
          -28.738409,
          15.339693,
          73.599,
          60.927288,
          -44.05539,
          -11.489736
         ],
         "y": [
          24.36311,
          -7.773244,
          15.865693,
          15.491109,
          -22.516724,
          19.112305,
          -13.586592,
          25.897686,
          28.082857,
          -89.8538,
          -18.913517,
          -50.302166,
          30.148643,
          10.20508,
          -17.817247,
          -28.130777,
          -13.858449,
          4.0403786,
          -4.794741,
          -39.46058,
          -71.83302,
          -75.46541,
          -21.316051
         ],
         "z": [
          47.168793,
          73.95069,
          42.913963,
          57.239456,
          25.146366,
          16.51974,
          4.8095937,
          23.769995,
          16.139786,
          4.09135,
          48.045673,
          -49.43506,
          -11.416629,
          8.863882,
          -50.913055,
          -43.907505,
          -35.07737,
          -50.27806,
          -64.933304,
          40.003036,
          17.416811,
          29.619444,
          85.180244
         ]
        },
        {
         "hovertemplate": "Cluster=3<br>0=%{x}<br>1=%{y}<br>2=%{z}<extra></extra>",
         "legendgroup": "3",
         "marker": {
          "color": "#FFA15A",
          "symbol": "circle"
         },
         "mode": "markers",
         "name": "3",
         "scene": "scene",
         "showlegend": true,
         "type": "scatter3d",
         "x": [
          27.94717,
          -45.380955,
          -52.121277,
          -8.300678,
          -9.441361,
          -16.05985,
          47.5327
         ],
         "y": [
          -0.6637725,
          4.7894816,
          80.1915,
          74.69105,
          65.47564,
          48.957893,
          51.374733
         ],
         "z": [
          78.93938,
          62.642242,
          94.59952,
          -76.88351,
          -51.845142,
          -14.528163,
          2.6957319
         ]
        }
       ],
       "layout": {
        "height": 800,
        "legend": {
         "title": {
          "text": "Cluster"
         },
         "tracegroupgap": 0
        },
        "margin": {
         "t": 60
        },
        "scene": {
         "aspectmode": "auto",
         "aspectratio": {
          "x": 1.1881817514577726,
          "y": 0.8218750320309958,
          "z": 1.0240268284799927
         },
         "camera": {
          "center": {
           "x": 0,
           "y": 0,
           "z": 0
          },
          "eye": {
           "x": -1.987562798564146,
           "y": 0.8506130863200769,
           "z": -0.11641090646883256
          },
          "projection": {
           "type": "perspective"
          },
          "up": {
           "x": 0,
           "y": 0,
           "z": 1
          }
         },
         "domain": {
          "x": [
           0,
           1
          ],
          "y": [
           0,
           1
          ]
         },
         "xaxis": {
          "title": {
           "text": "0"
          },
          "type": "linear"
         },
         "yaxis": {
          "title": {
           "text": "1"
          },
          "type": "linear"
         },
         "zaxis": {
          "title": {
           "text": "2"
          },
          "type": "linear"
         }
        },
        "template": {
         "data": {
          "bar": [
           {
            "error_x": {
             "color": "#2a3f5f"
            },
            "error_y": {
             "color": "#2a3f5f"
            },
            "marker": {
             "line": {
              "color": "#E5ECF6",
              "width": 0.5
             },
             "pattern": {
              "fillmode": "overlay",
              "size": 10,
              "solidity": 0.2
             }
            },
            "type": "bar"
           }
          ],
          "barpolar": [
           {
            "marker": {
             "line": {
              "color": "#E5ECF6",
              "width": 0.5
             },
             "pattern": {
              "fillmode": "overlay",
              "size": 10,
              "solidity": 0.2
             }
            },
            "type": "barpolar"
           }
          ],
          "carpet": [
           {
            "aaxis": {
             "endlinecolor": "#2a3f5f",
             "gridcolor": "white",
             "linecolor": "white",
             "minorgridcolor": "white",
             "startlinecolor": "#2a3f5f"
            },
            "baxis": {
             "endlinecolor": "#2a3f5f",
             "gridcolor": "white",
             "linecolor": "white",
             "minorgridcolor": "white",
             "startlinecolor": "#2a3f5f"
            },
            "type": "carpet"
           }
          ],
          "choropleth": [
           {
            "colorbar": {
             "outlinewidth": 0,
             "ticks": ""
            },
            "type": "choropleth"
           }
          ],
          "contour": [
           {
            "colorbar": {
             "outlinewidth": 0,
             "ticks": ""
            },
            "colorscale": [
             [
              0,
              "#0d0887"
             ],
             [
              0.1111111111111111,
              "#46039f"
             ],
             [
              0.2222222222222222,
              "#7201a8"
             ],
             [
              0.3333333333333333,
              "#9c179e"
             ],
             [
              0.4444444444444444,
              "#bd3786"
             ],
             [
              0.5555555555555556,
              "#d8576b"
             ],
             [
              0.6666666666666666,
              "#ed7953"
             ],
             [
              0.7777777777777778,
              "#fb9f3a"
             ],
             [
              0.8888888888888888,
              "#fdca26"
             ],
             [
              1,
              "#f0f921"
             ]
            ],
            "type": "contour"
           }
          ],
          "contourcarpet": [
           {
            "colorbar": {
             "outlinewidth": 0,
             "ticks": ""
            },
            "type": "contourcarpet"
           }
          ],
          "heatmap": [
           {
            "colorbar": {
             "outlinewidth": 0,
             "ticks": ""
            },
            "colorscale": [
             [
              0,
              "#0d0887"
             ],
             [
              0.1111111111111111,
              "#46039f"
             ],
             [
              0.2222222222222222,
              "#7201a8"
             ],
             [
              0.3333333333333333,
              "#9c179e"
             ],
             [
              0.4444444444444444,
              "#bd3786"
             ],
             [
              0.5555555555555556,
              "#d8576b"
             ],
             [
              0.6666666666666666,
              "#ed7953"
             ],
             [
              0.7777777777777778,
              "#fb9f3a"
             ],
             [
              0.8888888888888888,
              "#fdca26"
             ],
             [
              1,
              "#f0f921"
             ]
            ],
            "type": "heatmap"
           }
          ],
          "heatmapgl": [
           {
            "colorbar": {
             "outlinewidth": 0,
             "ticks": ""
            },
            "colorscale": [
             [
              0,
              "#0d0887"
             ],
             [
              0.1111111111111111,
              "#46039f"
             ],
             [
              0.2222222222222222,
              "#7201a8"
             ],
             [
              0.3333333333333333,
              "#9c179e"
             ],
             [
              0.4444444444444444,
              "#bd3786"
             ],
             [
              0.5555555555555556,
              "#d8576b"
             ],
             [
              0.6666666666666666,
              "#ed7953"
             ],
             [
              0.7777777777777778,
              "#fb9f3a"
             ],
             [
              0.8888888888888888,
              "#fdca26"
             ],
             [
              1,
              "#f0f921"
             ]
            ],
            "type": "heatmapgl"
           }
          ],
          "histogram": [
           {
            "marker": {
             "pattern": {
              "fillmode": "overlay",
              "size": 10,
              "solidity": 0.2
             }
            },
            "type": "histogram"
           }
          ],
          "histogram2d": [
           {
            "colorbar": {
             "outlinewidth": 0,
             "ticks": ""
            },
            "colorscale": [
             [
              0,
              "#0d0887"
             ],
             [
              0.1111111111111111,
              "#46039f"
             ],
             [
              0.2222222222222222,
              "#7201a8"
             ],
             [
              0.3333333333333333,
              "#9c179e"
             ],
             [
              0.4444444444444444,
              "#bd3786"
             ],
             [
              0.5555555555555556,
              "#d8576b"
             ],
             [
              0.6666666666666666,
              "#ed7953"
             ],
             [
              0.7777777777777778,
              "#fb9f3a"
             ],
             [
              0.8888888888888888,
              "#fdca26"
             ],
             [
              1,
              "#f0f921"
             ]
            ],
            "type": "histogram2d"
           }
          ],
          "histogram2dcontour": [
           {
            "colorbar": {
             "outlinewidth": 0,
             "ticks": ""
            },
            "colorscale": [
             [
              0,
              "#0d0887"
             ],
             [
              0.1111111111111111,
              "#46039f"
             ],
             [
              0.2222222222222222,
              "#7201a8"
             ],
             [
              0.3333333333333333,
              "#9c179e"
             ],
             [
              0.4444444444444444,
              "#bd3786"
             ],
             [
              0.5555555555555556,
              "#d8576b"
             ],
             [
              0.6666666666666666,
              "#ed7953"
             ],
             [
              0.7777777777777778,
              "#fb9f3a"
             ],
             [
              0.8888888888888888,
              "#fdca26"
             ],
             [
              1,
              "#f0f921"
             ]
            ],
            "type": "histogram2dcontour"
           }
          ],
          "mesh3d": [
           {
            "colorbar": {
             "outlinewidth": 0,
             "ticks": ""
            },
            "type": "mesh3d"
           }
          ],
          "parcoords": [
           {
            "line": {
             "colorbar": {
              "outlinewidth": 0,
              "ticks": ""
             }
            },
            "type": "parcoords"
           }
          ],
          "pie": [
           {
            "automargin": true,
            "type": "pie"
           }
          ],
          "scatter": [
           {
            "fillpattern": {
             "fillmode": "overlay",
             "size": 10,
             "solidity": 0.2
            },
            "type": "scatter"
           }
          ],
          "scatter3d": [
           {
            "line": {
             "colorbar": {
              "outlinewidth": 0,
              "ticks": ""
             }
            },
            "marker": {
             "colorbar": {
              "outlinewidth": 0,
              "ticks": ""
             }
            },
            "type": "scatter3d"
           }
          ],
          "scattercarpet": [
           {
            "marker": {
             "colorbar": {
              "outlinewidth": 0,
              "ticks": ""
             }
            },
            "type": "scattercarpet"
           }
          ],
          "scattergeo": [
           {
            "marker": {
             "colorbar": {
              "outlinewidth": 0,
              "ticks": ""
             }
            },
            "type": "scattergeo"
           }
          ],
          "scattergl": [
           {
            "marker": {
             "colorbar": {
              "outlinewidth": 0,
              "ticks": ""
             }
            },
            "type": "scattergl"
           }
          ],
          "scattermapbox": [
           {
            "marker": {
             "colorbar": {
              "outlinewidth": 0,
              "ticks": ""
             }
            },
            "type": "scattermapbox"
           }
          ],
          "scatterpolar": [
           {
            "marker": {
             "colorbar": {
              "outlinewidth": 0,
              "ticks": ""
             }
            },
            "type": "scatterpolar"
           }
          ],
          "scatterpolargl": [
           {
            "marker": {
             "colorbar": {
              "outlinewidth": 0,
              "ticks": ""
             }
            },
            "type": "scatterpolargl"
           }
          ],
          "scatterternary": [
           {
            "marker": {
             "colorbar": {
              "outlinewidth": 0,
              "ticks": ""
             }
            },
            "type": "scatterternary"
           }
          ],
          "surface": [
           {
            "colorbar": {
             "outlinewidth": 0,
             "ticks": ""
            },
            "colorscale": [
             [
              0,
              "#0d0887"
             ],
             [
              0.1111111111111111,
              "#46039f"
             ],
             [
              0.2222222222222222,
              "#7201a8"
             ],
             [
              0.3333333333333333,
              "#9c179e"
             ],
             [
              0.4444444444444444,
              "#bd3786"
             ],
             [
              0.5555555555555556,
              "#d8576b"
             ],
             [
              0.6666666666666666,
              "#ed7953"
             ],
             [
              0.7777777777777778,
              "#fb9f3a"
             ],
             [
              0.8888888888888888,
              "#fdca26"
             ],
             [
              1,
              "#f0f921"
             ]
            ],
            "type": "surface"
           }
          ],
          "table": [
           {
            "cells": {
             "fill": {
              "color": "#EBF0F8"
             },
             "line": {
              "color": "white"
             }
            },
            "header": {
             "fill": {
              "color": "#C8D4E3"
             },
             "line": {
              "color": "white"
             }
            },
            "type": "table"
           }
          ]
         },
         "layout": {
          "annotationdefaults": {
           "arrowcolor": "#2a3f5f",
           "arrowhead": 0,
           "arrowwidth": 1
          },
          "autotypenumbers": "strict",
          "coloraxis": {
           "colorbar": {
            "outlinewidth": 0,
            "ticks": ""
           }
          },
          "colorscale": {
           "diverging": [
            [
             0,
             "#8e0152"
            ],
            [
             0.1,
             "#c51b7d"
            ],
            [
             0.2,
             "#de77ae"
            ],
            [
             0.3,
             "#f1b6da"
            ],
            [
             0.4,
             "#fde0ef"
            ],
            [
             0.5,
             "#f7f7f7"
            ],
            [
             0.6,
             "#e6f5d0"
            ],
            [
             0.7,
             "#b8e186"
            ],
            [
             0.8,
             "#7fbc41"
            ],
            [
             0.9,
             "#4d9221"
            ],
            [
             1,
             "#276419"
            ]
           ],
           "sequential": [
            [
             0,
             "#0d0887"
            ],
            [
             0.1111111111111111,
             "#46039f"
            ],
            [
             0.2222222222222222,
             "#7201a8"
            ],
            [
             0.3333333333333333,
             "#9c179e"
            ],
            [
             0.4444444444444444,
             "#bd3786"
            ],
            [
             0.5555555555555556,
             "#d8576b"
            ],
            [
             0.6666666666666666,
             "#ed7953"
            ],
            [
             0.7777777777777778,
             "#fb9f3a"
            ],
            [
             0.8888888888888888,
             "#fdca26"
            ],
            [
             1,
             "#f0f921"
            ]
           ],
           "sequentialminus": [
            [
             0,
             "#0d0887"
            ],
            [
             0.1111111111111111,
             "#46039f"
            ],
            [
             0.2222222222222222,
             "#7201a8"
            ],
            [
             0.3333333333333333,
             "#9c179e"
            ],
            [
             0.4444444444444444,
             "#bd3786"
            ],
            [
             0.5555555555555556,
             "#d8576b"
            ],
            [
             0.6666666666666666,
             "#ed7953"
            ],
            [
             0.7777777777777778,
             "#fb9f3a"
            ],
            [
             0.8888888888888888,
             "#fdca26"
            ],
            [
             1,
             "#f0f921"
            ]
           ]
          },
          "colorway": [
           "#636efa",
           "#EF553B",
           "#00cc96",
           "#ab63fa",
           "#FFA15A",
           "#19d3f3",
           "#FF6692",
           "#B6E880",
           "#FF97FF",
           "#FECB52"
          ],
          "font": {
           "color": "#2a3f5f"
          },
          "geo": {
           "bgcolor": "white",
           "lakecolor": "white",
           "landcolor": "#E5ECF6",
           "showlakes": true,
           "showland": true,
           "subunitcolor": "white"
          },
          "hoverlabel": {
           "align": "left"
          },
          "hovermode": "closest",
          "mapbox": {
           "style": "light"
          },
          "paper_bgcolor": "white",
          "plot_bgcolor": "#E5ECF6",
          "polar": {
           "angularaxis": {
            "gridcolor": "white",
            "linecolor": "white",
            "ticks": ""
           },
           "bgcolor": "#E5ECF6",
           "radialaxis": {
            "gridcolor": "white",
            "linecolor": "white",
            "ticks": ""
           }
          },
          "scene": {
           "xaxis": {
            "backgroundcolor": "#E5ECF6",
            "gridcolor": "white",
            "gridwidth": 2,
            "linecolor": "white",
            "showbackground": true,
            "ticks": "",
            "zerolinecolor": "white"
           },
           "yaxis": {
            "backgroundcolor": "#E5ECF6",
            "gridcolor": "white",
            "gridwidth": 2,
            "linecolor": "white",
            "showbackground": true,
            "ticks": "",
            "zerolinecolor": "white"
           },
           "zaxis": {
            "backgroundcolor": "#E5ECF6",
            "gridcolor": "white",
            "gridwidth": 2,
            "linecolor": "white",
            "showbackground": true,
            "ticks": "",
            "zerolinecolor": "white"
           }
          },
          "shapedefaults": {
           "line": {
            "color": "#2a3f5f"
           }
          },
          "ternary": {
           "aaxis": {
            "gridcolor": "white",
            "linecolor": "white",
            "ticks": ""
           },
           "baxis": {
            "gridcolor": "white",
            "linecolor": "white",
            "ticks": ""
           },
           "bgcolor": "#E5ECF6",
           "caxis": {
            "gridcolor": "white",
            "linecolor": "white",
            "ticks": ""
           }
          },
          "title": {
           "x": 0.05
          },
          "xaxis": {
           "automargin": true,
           "gridcolor": "white",
           "linecolor": "white",
           "ticks": "",
           "title": {
            "standoff": 15
           },
           "zerolinecolor": "white",
           "zerolinewidth": 2
          },
          "yaxis": {
           "automargin": true,
           "gridcolor": "white",
           "linecolor": "white",
           "ticks": "",
           "title": {
            "standoff": 15
           },
           "zerolinecolor": "white",
           "zerolinewidth": 2
          }
         }
        },
        "width": 1000
       }
      },
      "text/html": [
       "<div>                            <div id=\"ea66accd-9b84-4f84-ae59-5e6f71c36492\" class=\"plotly-graph-div\" style=\"height:800px; width:1000px;\"></div>            <script type=\"text/javascript\">                require([\"plotly\"], function(Plotly) {                    window.PLOTLYENV=window.PLOTLYENV || {};                                    if (document.getElementById(\"ea66accd-9b84-4f84-ae59-5e6f71c36492\")) {                    Plotly.newPlot(                        \"ea66accd-9b84-4f84-ae59-5e6f71c36492\",                        [{\"hovertemplate\":\"Cluster=1\\u003cbr\\u003e0=%{x}\\u003cbr\\u003e1=%{y}\\u003cbr\\u003e2=%{z}\\u003cextra\\u003e\\u003c\\u002fextra\\u003e\",\"legendgroup\":\"1\",\"marker\":{\"color\":\"#636efa\",\"symbol\":\"circle\"},\"mode\":\"markers\",\"name\":\"1\",\"scene\":\"scene\",\"showlegend\":true,\"x\":[37.965816,12.553691,-1.3404083,61.125275,-79.83943,57.19568,-6.0085406,-29.517637,-9.6701145,-73.934204,-10.74546,47.506245,-55.294712,-17.969845,117.35523,9.696586],\"y\":[52.507126,-65.35048,87.09657,8.245438,25.959644,-37.51045,42.417294,43.500587,-58.727684,-17.094816,-3.0813615,90.10968,86.83417,-14.447331,53.684696,-51.213017],\"z\":[36.470325,-102.368355,0.12906756,-15.918441,50.143387,8.024207,98.23108,11.429232,-86.30251,9.969361,-13.307786,-44.80182,14.046036,-35.345776,15.904992,-39.007633],\"type\":\"scatter3d\"},{\"hovertemplate\":\"Cluster=0\\u003cbr\\u003e0=%{x}\\u003cbr\\u003e1=%{y}\\u003cbr\\u003e2=%{z}\\u003cextra\\u003e\\u003c\\u002fextra\\u003e\",\"legendgroup\":\"0\",\"marker\":{\"color\":\"#EF553B\",\"symbol\":\"circle\"},\"mode\":\"markers\",\"name\":\"0\",\"scene\":\"scene\",\"showlegend\":true,\"x\":[51.228165,-48.996452],\"y\":[-38.46869,13.013084],\"z\":[65.53784,-100.82517],\"type\":\"scatter3d\"},{\"hovertemplate\":\"Cluster=2\\u003cbr\\u003e0=%{x}\\u003cbr\\u003e1=%{y}\\u003cbr\\u003e2=%{z}\\u003cextra\\u003e\\u003c\\u002fextra\\u003e\",\"legendgroup\":\"2\",\"marker\":{\"color\":\"#00cc96\",\"symbol\":\"circle\"},\"mode\":\"markers\",\"name\":\"2\",\"scene\":\"scene\",\"showlegend\":true,\"x\":[154.50702,-66.125824,-91.99761,-105.66553,-35.216595,-9.188164,-56.05602,-48.934574,-73.06551,-100.31531],\"y\":[42.744526,-26.699453,-19.1066,-4.996824,-33.565514,46.292747,-78.22971,-76.144196,49.503235,-35.814976],\"z\":[121.85969,-89.14257,-2.7188077,-10.368703,-31.29852,57.64185,-13.6722975,10.18066,-36.023746,-19.4576],\"type\":\"scatter3d\"},{\"hovertemplate\":\"Cluster=4\\u003cbr\\u003e0=%{x}\\u003cbr\\u003e1=%{y}\\u003cbr\\u003e2=%{z}\\u003cextra\\u003e\\u003c\\u002fextra\\u003e\",\"legendgroup\":\"4\",\"marker\":{\"color\":\"#ab63fa\",\"symbol\":\"circle\"},\"mode\":\"markers\",\"name\":\"4\",\"scene\":\"scene\",\"showlegend\":true,\"x\":[-1.5974323,3.0181022,41.393356,-94.95252,14.809701,71.71023,43.396515,11.851035,33.501625,43.537945,91.69217,44.867058,23.23114,45.482742,49.08806,25.15248,14.12539,-28.738409,15.339693,73.599,60.927288,-44.05539,-11.489736],\"y\":[24.36311,-7.773244,15.865693,15.491109,-22.516724,19.112305,-13.586592,25.897686,28.082857,-89.8538,-18.913517,-50.302166,30.148643,10.20508,-17.817247,-28.130777,-13.858449,4.0403786,-4.794741,-39.46058,-71.83302,-75.46541,-21.316051],\"z\":[47.168793,73.95069,42.913963,57.239456,25.146366,16.51974,4.8095937,23.769995,16.139786,4.09135,48.045673,-49.43506,-11.416629,8.863882,-50.913055,-43.907505,-35.07737,-50.27806,-64.933304,40.003036,17.416811,29.619444,85.180244],\"type\":\"scatter3d\"},{\"hovertemplate\":\"Cluster=3\\u003cbr\\u003e0=%{x}\\u003cbr\\u003e1=%{y}\\u003cbr\\u003e2=%{z}\\u003cextra\\u003e\\u003c\\u002fextra\\u003e\",\"legendgroup\":\"3\",\"marker\":{\"color\":\"#FFA15A\",\"symbol\":\"circle\"},\"mode\":\"markers\",\"name\":\"3\",\"scene\":\"scene\",\"showlegend\":true,\"x\":[27.94717,-45.380955,-52.121277,-8.300678,-9.441361,-16.05985,47.5327],\"y\":[-0.6637725,4.7894816,80.1915,74.69105,65.47564,48.957893,51.374733],\"z\":[78.93938,62.642242,94.59952,-76.88351,-51.845142,-14.528163,2.6957319],\"type\":\"scatter3d\"}],                        {\"template\":{\"data\":{\"histogram2dcontour\":[{\"type\":\"histogram2dcontour\",\"colorbar\":{\"outlinewidth\":0,\"ticks\":\"\"},\"colorscale\":[[0.0,\"#0d0887\"],[0.1111111111111111,\"#46039f\"],[0.2222222222222222,\"#7201a8\"],[0.3333333333333333,\"#9c179e\"],[0.4444444444444444,\"#bd3786\"],[0.5555555555555556,\"#d8576b\"],[0.6666666666666666,\"#ed7953\"],[0.7777777777777778,\"#fb9f3a\"],[0.8888888888888888,\"#fdca26\"],[1.0,\"#f0f921\"]]}],\"choropleth\":[{\"type\":\"choropleth\",\"colorbar\":{\"outlinewidth\":0,\"ticks\":\"\"}}],\"histogram2d\":[{\"type\":\"histogram2d\",\"colorbar\":{\"outlinewidth\":0,\"ticks\":\"\"},\"colorscale\":[[0.0,\"#0d0887\"],[0.1111111111111111,\"#46039f\"],[0.2222222222222222,\"#7201a8\"],[0.3333333333333333,\"#9c179e\"],[0.4444444444444444,\"#bd3786\"],[0.5555555555555556,\"#d8576b\"],[0.6666666666666666,\"#ed7953\"],[0.7777777777777778,\"#fb9f3a\"],[0.8888888888888888,\"#fdca26\"],[1.0,\"#f0f921\"]]}],\"heatmap\":[{\"type\":\"heatmap\",\"colorbar\":{\"outlinewidth\":0,\"ticks\":\"\"},\"colorscale\":[[0.0,\"#0d0887\"],[0.1111111111111111,\"#46039f\"],[0.2222222222222222,\"#7201a8\"],[0.3333333333333333,\"#9c179e\"],[0.4444444444444444,\"#bd3786\"],[0.5555555555555556,\"#d8576b\"],[0.6666666666666666,\"#ed7953\"],[0.7777777777777778,\"#fb9f3a\"],[0.8888888888888888,\"#fdca26\"],[1.0,\"#f0f921\"]]}],\"heatmapgl\":[{\"type\":\"heatmapgl\",\"colorbar\":{\"outlinewidth\":0,\"ticks\":\"\"},\"colorscale\":[[0.0,\"#0d0887\"],[0.1111111111111111,\"#46039f\"],[0.2222222222222222,\"#7201a8\"],[0.3333333333333333,\"#9c179e\"],[0.4444444444444444,\"#bd3786\"],[0.5555555555555556,\"#d8576b\"],[0.6666666666666666,\"#ed7953\"],[0.7777777777777778,\"#fb9f3a\"],[0.8888888888888888,\"#fdca26\"],[1.0,\"#f0f921\"]]}],\"contourcarpet\":[{\"type\":\"contourcarpet\",\"colorbar\":{\"outlinewidth\":0,\"ticks\":\"\"}}],\"contour\":[{\"type\":\"contour\",\"colorbar\":{\"outlinewidth\":0,\"ticks\":\"\"},\"colorscale\":[[0.0,\"#0d0887\"],[0.1111111111111111,\"#46039f\"],[0.2222222222222222,\"#7201a8\"],[0.3333333333333333,\"#9c179e\"],[0.4444444444444444,\"#bd3786\"],[0.5555555555555556,\"#d8576b\"],[0.6666666666666666,\"#ed7953\"],[0.7777777777777778,\"#fb9f3a\"],[0.8888888888888888,\"#fdca26\"],[1.0,\"#f0f921\"]]}],\"surface\":[{\"type\":\"surface\",\"colorbar\":{\"outlinewidth\":0,\"ticks\":\"\"},\"colorscale\":[[0.0,\"#0d0887\"],[0.1111111111111111,\"#46039f\"],[0.2222222222222222,\"#7201a8\"],[0.3333333333333333,\"#9c179e\"],[0.4444444444444444,\"#bd3786\"],[0.5555555555555556,\"#d8576b\"],[0.6666666666666666,\"#ed7953\"],[0.7777777777777778,\"#fb9f3a\"],[0.8888888888888888,\"#fdca26\"],[1.0,\"#f0f921\"]]}],\"mesh3d\":[{\"type\":\"mesh3d\",\"colorbar\":{\"outlinewidth\":0,\"ticks\":\"\"}}],\"scatter\":[{\"fillpattern\":{\"fillmode\":\"overlay\",\"size\":10,\"solidity\":0.2},\"type\":\"scatter\"}],\"parcoords\":[{\"type\":\"parcoords\",\"line\":{\"colorbar\":{\"outlinewidth\":0,\"ticks\":\"\"}}}],\"scatterpolargl\":[{\"type\":\"scatterpolargl\",\"marker\":{\"colorbar\":{\"outlinewidth\":0,\"ticks\":\"\"}}}],\"bar\":[{\"error_x\":{\"color\":\"#2a3f5f\"},\"error_y\":{\"color\":\"#2a3f5f\"},\"marker\":{\"line\":{\"color\":\"#E5ECF6\",\"width\":0.5},\"pattern\":{\"fillmode\":\"overlay\",\"size\":10,\"solidity\":0.2}},\"type\":\"bar\"}],\"scattergeo\":[{\"type\":\"scattergeo\",\"marker\":{\"colorbar\":{\"outlinewidth\":0,\"ticks\":\"\"}}}],\"scatterpolar\":[{\"type\":\"scatterpolar\",\"marker\":{\"colorbar\":{\"outlinewidth\":0,\"ticks\":\"\"}}}],\"histogram\":[{\"marker\":{\"pattern\":{\"fillmode\":\"overlay\",\"size\":10,\"solidity\":0.2}},\"type\":\"histogram\"}],\"scattergl\":[{\"type\":\"scattergl\",\"marker\":{\"colorbar\":{\"outlinewidth\":0,\"ticks\":\"\"}}}],\"scatter3d\":[{\"type\":\"scatter3d\",\"line\":{\"colorbar\":{\"outlinewidth\":0,\"ticks\":\"\"}},\"marker\":{\"colorbar\":{\"outlinewidth\":0,\"ticks\":\"\"}}}],\"scattermapbox\":[{\"type\":\"scattermapbox\",\"marker\":{\"colorbar\":{\"outlinewidth\":0,\"ticks\":\"\"}}}],\"scatterternary\":[{\"type\":\"scatterternary\",\"marker\":{\"colorbar\":{\"outlinewidth\":0,\"ticks\":\"\"}}}],\"scattercarpet\":[{\"type\":\"scattercarpet\",\"marker\":{\"colorbar\":{\"outlinewidth\":0,\"ticks\":\"\"}}}],\"carpet\":[{\"aaxis\":{\"endlinecolor\":\"#2a3f5f\",\"gridcolor\":\"white\",\"linecolor\":\"white\",\"minorgridcolor\":\"white\",\"startlinecolor\":\"#2a3f5f\"},\"baxis\":{\"endlinecolor\":\"#2a3f5f\",\"gridcolor\":\"white\",\"linecolor\":\"white\",\"minorgridcolor\":\"white\",\"startlinecolor\":\"#2a3f5f\"},\"type\":\"carpet\"}],\"table\":[{\"cells\":{\"fill\":{\"color\":\"#EBF0F8\"},\"line\":{\"color\":\"white\"}},\"header\":{\"fill\":{\"color\":\"#C8D4E3\"},\"line\":{\"color\":\"white\"}},\"type\":\"table\"}],\"barpolar\":[{\"marker\":{\"line\":{\"color\":\"#E5ECF6\",\"width\":0.5},\"pattern\":{\"fillmode\":\"overlay\",\"size\":10,\"solidity\":0.2}},\"type\":\"barpolar\"}],\"pie\":[{\"automargin\":true,\"type\":\"pie\"}]},\"layout\":{\"autotypenumbers\":\"strict\",\"colorway\":[\"#636efa\",\"#EF553B\",\"#00cc96\",\"#ab63fa\",\"#FFA15A\",\"#19d3f3\",\"#FF6692\",\"#B6E880\",\"#FF97FF\",\"#FECB52\"],\"font\":{\"color\":\"#2a3f5f\"},\"hovermode\":\"closest\",\"hoverlabel\":{\"align\":\"left\"},\"paper_bgcolor\":\"white\",\"plot_bgcolor\":\"#E5ECF6\",\"polar\":{\"bgcolor\":\"#E5ECF6\",\"angularaxis\":{\"gridcolor\":\"white\",\"linecolor\":\"white\",\"ticks\":\"\"},\"radialaxis\":{\"gridcolor\":\"white\",\"linecolor\":\"white\",\"ticks\":\"\"}},\"ternary\":{\"bgcolor\":\"#E5ECF6\",\"aaxis\":{\"gridcolor\":\"white\",\"linecolor\":\"white\",\"ticks\":\"\"},\"baxis\":{\"gridcolor\":\"white\",\"linecolor\":\"white\",\"ticks\":\"\"},\"caxis\":{\"gridcolor\":\"white\",\"linecolor\":\"white\",\"ticks\":\"\"}},\"coloraxis\":{\"colorbar\":{\"outlinewidth\":0,\"ticks\":\"\"}},\"colorscale\":{\"sequential\":[[0.0,\"#0d0887\"],[0.1111111111111111,\"#46039f\"],[0.2222222222222222,\"#7201a8\"],[0.3333333333333333,\"#9c179e\"],[0.4444444444444444,\"#bd3786\"],[0.5555555555555556,\"#d8576b\"],[0.6666666666666666,\"#ed7953\"],[0.7777777777777778,\"#fb9f3a\"],[0.8888888888888888,\"#fdca26\"],[1.0,\"#f0f921\"]],\"sequentialminus\":[[0.0,\"#0d0887\"],[0.1111111111111111,\"#46039f\"],[0.2222222222222222,\"#7201a8\"],[0.3333333333333333,\"#9c179e\"],[0.4444444444444444,\"#bd3786\"],[0.5555555555555556,\"#d8576b\"],[0.6666666666666666,\"#ed7953\"],[0.7777777777777778,\"#fb9f3a\"],[0.8888888888888888,\"#fdca26\"],[1.0,\"#f0f921\"]],\"diverging\":[[0,\"#8e0152\"],[0.1,\"#c51b7d\"],[0.2,\"#de77ae\"],[0.3,\"#f1b6da\"],[0.4,\"#fde0ef\"],[0.5,\"#f7f7f7\"],[0.6,\"#e6f5d0\"],[0.7,\"#b8e186\"],[0.8,\"#7fbc41\"],[0.9,\"#4d9221\"],[1,\"#276419\"]]},\"xaxis\":{\"gridcolor\":\"white\",\"linecolor\":\"white\",\"ticks\":\"\",\"title\":{\"standoff\":15},\"zerolinecolor\":\"white\",\"automargin\":true,\"zerolinewidth\":2},\"yaxis\":{\"gridcolor\":\"white\",\"linecolor\":\"white\",\"ticks\":\"\",\"title\":{\"standoff\":15},\"zerolinecolor\":\"white\",\"automargin\":true,\"zerolinewidth\":2},\"scene\":{\"xaxis\":{\"backgroundcolor\":\"#E5ECF6\",\"gridcolor\":\"white\",\"linecolor\":\"white\",\"showbackground\":true,\"ticks\":\"\",\"zerolinecolor\":\"white\",\"gridwidth\":2},\"yaxis\":{\"backgroundcolor\":\"#E5ECF6\",\"gridcolor\":\"white\",\"linecolor\":\"white\",\"showbackground\":true,\"ticks\":\"\",\"zerolinecolor\":\"white\",\"gridwidth\":2},\"zaxis\":{\"backgroundcolor\":\"#E5ECF6\",\"gridcolor\":\"white\",\"linecolor\":\"white\",\"showbackground\":true,\"ticks\":\"\",\"zerolinecolor\":\"white\",\"gridwidth\":2}},\"shapedefaults\":{\"line\":{\"color\":\"#2a3f5f\"}},\"annotationdefaults\":{\"arrowcolor\":\"#2a3f5f\",\"arrowhead\":0,\"arrowwidth\":1},\"geo\":{\"bgcolor\":\"white\",\"landcolor\":\"#E5ECF6\",\"subunitcolor\":\"white\",\"showland\":true,\"showlakes\":true,\"lakecolor\":\"white\"},\"title\":{\"x\":0.05},\"mapbox\":{\"style\":\"light\"}}},\"scene\":{\"domain\":{\"x\":[0.0,1.0],\"y\":[0.0,1.0]},\"xaxis\":{\"title\":{\"text\":\"0\"}},\"yaxis\":{\"title\":{\"text\":\"1\"}},\"zaxis\":{\"title\":{\"text\":\"2\"}}},\"legend\":{\"title\":{\"text\":\"Cluster\"},\"tracegroupgap\":0},\"margin\":{\"t\":60},\"height\":800,\"width\":1000},                        {\"responsive\": true}                    ).then(function(){\n",
       "                            \n",
       "var gd = document.getElementById('ea66accd-9b84-4f84-ae59-5e6f71c36492');\n",
       "var x = new MutationObserver(function (mutations, observer) {{\n",
       "        var display = window.getComputedStyle(gd).display;\n",
       "        if (!display || display === 'none') {{\n",
       "            console.log([gd, 'removed!']);\n",
       "            Plotly.purge(gd);\n",
       "            observer.disconnect();\n",
       "        }}\n",
       "}});\n",
       "\n",
       "// Listen for the removal of the full notebook cells\n",
       "var notebookContainer = gd.closest('#notebook-container');\n",
       "if (notebookContainer) {{\n",
       "    x.observe(notebookContainer, {childList: true});\n",
       "}}\n",
       "\n",
       "// Listen for the clearing of the current output cell\n",
       "var outputEl = gd.closest('.output');\n",
       "if (outputEl) {{\n",
       "    x.observe(outputEl, {childList: true});\n",
       "}}\n",
       "\n",
       "                        })                };                });            </script>        </div>"
      ]
     },
     "metadata": {},
     "output_type": "display_data"
    }
   ],
   "source": [
    "from sklearn.manifold import TSNE\n",
    "X_embedded = TSNE(n_components=3, learning_rate='auto',init='random', perplexity=3).fit_transform(new_df.drop(['Name','Location'],axis=1))\n",
    "dfff=pd.DataFrame(X_embedded)\n",
    "kk=cl.tolist()\n",
    "dfff[\"Cluster\"]=cl\n",
    "dfff[\"Cluster\"]=dfff[\"Cluster\"].astype('category')\n",
    "fig = px.scatter_3d(dfff, x=0, y=1, z=2,color=\"Cluster\",width=1000, height=800)\n",
    "fig.show()"
   ]
  },
  {
   "cell_type": "code",
   "execution_count": null,
   "id": "35631070-350d-422e-bbfe-13c1060c29cf",
   "metadata": {},
   "outputs": [],
   "source": []
  },
  {
   "cell_type": "code",
   "execution_count": 14,
   "id": "a78c8753-000f-4c8e-bded-566b5b7ddc45",
   "metadata": {},
   "outputs": [
    {
     "data": {
      "text/plain": [
       "nan"
      ]
     },
     "execution_count": 14,
     "metadata": {},
     "output_type": "execute_result"
    }
   ],
   "source": [
    "data[i]"
   ]
  },
  {
   "cell_type": "code",
   "execution_count": null,
   "id": "92a31bd9-c1cc-4780-ba61-a3d3f7b3cada",
   "metadata": {},
   "outputs": [],
   "source": []
  }
 ],
 "metadata": {
  "kernelspec": {
   "display_name": "Python 3 (ipykernel)",
   "language": "python",
   "name": "python3"
  },
  "language_info": {
   "codemirror_mode": {
    "name": "ipython",
    "version": 3
   },
   "file_extension": ".py",
   "mimetype": "text/x-python",
   "name": "python",
   "nbconvert_exporter": "python",
   "pygments_lexer": "ipython3",
   "version": "3.11.9"
  }
 },
 "nbformat": 4,
 "nbformat_minor": 5
}
